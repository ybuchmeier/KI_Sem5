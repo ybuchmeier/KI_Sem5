{
 "cells": [
  {
   "cell_type": "markdown",
   "id": "egyptian-worst",
   "metadata": {},
   "source": [
    "Wahlpflichtfach Künstliche Intelligenz II: Praktikum | [Startseite](index.ipynb)\n",
    "\n",
    "---"
   ]
  },
  {
   "cell_type": "markdown",
   "id": "genuine-theme",
   "metadata": {},
   "source": [
    "# 03 - Testat zu Scikit-learn (sklearn)\n",
    "__Gruppennummer:__ 3\n",
    "\n",
    "__Mitglieder:__\n",
    "- Jan Neitzner\n",
    "- Lukas Hein\n",
    "- Timo Marzok\n",
    "- Yannick Buchmeier"
   ]
  },
  {
   "cell_type": "code",
   "execution_count": 1,
   "id": "governmental-comment",
   "metadata": {},
   "outputs": [],
   "source": [
    "%matplotlib inline\n",
    "\n",
    "import pandas as pd\n",
    "import numpy as np\n",
    "import sklearn\n",
    "import seaborn as sns\n",
    "from matplotlib import pyplot as plt"
   ]
  },
  {
   "cell_type": "markdown",
   "id": "cloudy-adjustment",
   "metadata": {},
   "source": [
    "In diesem Testat werden Sie die unterschiedlichen Arbeitsschritte von der Datenvorverarbeitung über die Modell- und Teststrategieauswahl bis hin zur Evaluierung mit Hilfe von Scikit-learn durchführen. Dabei verwenden wir eine leicht modifizierte Variante des [California Housing Datasets](https://scikit-learn.org/stable/datasets/real_world.html#california-housing-dataset). Dieses enthält die folgenden _acht_ Merkmale:\n",
    "- __MedInc:__ Das mittlere Einkommen im Block\n",
    "- __HouseAge:__ Das mittlere Hausalter im Block\n",
    "- __AveRooms:__ Die durchschnittliche Raumanzahl pro Haushalt im Block\n",
    "- __AveBedrms:__ Die durchschnittliche Schlafzimmeranzahl pro Haushalt im Block\n",
    "- __Population:__ Die Bevölkerunganzahl im Block\n",
    "- __AveOccup:__ Die durchschnittliche Anzahl von Personen pro Haushalt im Block\n",
    "- __Latitude:__ Der Breitengrad des Blocks\n",
    "- __Longitude:__ Der Längengrad des Blocks\n",
    "\n",
    "Jedem Datenpunkt ist genau einer Klasse (_low_, _mid-low_, _mid_, _mid-high_, _high_) zugeordnet, die angibt, wie hoch der mittlere Hauswert im Block ist. Jede Klasse enthält ~20% der Datenpunkte.\n",
    "\n",
    "## Aufgabe 0 - Data Understanding\n",
    "__unbenotet__\n",
    "\n",
    "Laden Sie die Daten und machen Sie sich mit ihnen vertraut. "
   ]
  },
  {
   "cell_type": "code",
   "execution_count": 2,
   "id": "dutch-appraisal",
   "metadata": {},
   "outputs": [
    {
     "data": {
      "text/html": [
       "<div>\n",
       "<style scoped>\n",
       "    .dataframe tbody tr th:only-of-type {\n",
       "        vertical-align: middle;\n",
       "    }\n",
       "\n",
       "    .dataframe tbody tr th {\n",
       "        vertical-align: top;\n",
       "    }\n",
       "\n",
       "    .dataframe thead th {\n",
       "        text-align: right;\n",
       "    }\n",
       "</style>\n",
       "<table border=\"1\" class=\"dataframe\">\n",
       "  <thead>\n",
       "    <tr style=\"text-align: right;\">\n",
       "      <th></th>\n",
       "      <th>MedInc</th>\n",
       "      <th>HouseAge</th>\n",
       "      <th>AveRooms</th>\n",
       "      <th>AveBedrms</th>\n",
       "      <th>Population</th>\n",
       "      <th>AveOccup</th>\n",
       "      <th>Latitude</th>\n",
       "      <th>Longitude</th>\n",
       "      <th>Label</th>\n",
       "    </tr>\n",
       "  </thead>\n",
       "  <tbody>\n",
       "    <tr>\n",
       "      <th>0</th>\n",
       "      <td>8.3252</td>\n",
       "      <td>41.0</td>\n",
       "      <td>6.984127</td>\n",
       "      <td>1.023810</td>\n",
       "      <td>322.0</td>\n",
       "      <td>2.555556</td>\n",
       "      <td>37.88</td>\n",
       "      <td>-122.23</td>\n",
       "      <td>high</td>\n",
       "    </tr>\n",
       "    <tr>\n",
       "      <th>1</th>\n",
       "      <td>1.3578</td>\n",
       "      <td>40.0</td>\n",
       "      <td>4.524096</td>\n",
       "      <td>NaN</td>\n",
       "      <td>409.0</td>\n",
       "      <td>2.463855</td>\n",
       "      <td>37.85</td>\n",
       "      <td>-122.27</td>\n",
       "      <td>mid-low</td>\n",
       "    </tr>\n",
       "    <tr>\n",
       "      <th>2</th>\n",
       "      <td>2.0978</td>\n",
       "      <td>52.0</td>\n",
       "      <td>4.215190</td>\n",
       "      <td>1.060759</td>\n",
       "      <td>946.0</td>\n",
       "      <td>2.394937</td>\n",
       "      <td>37.83</td>\n",
       "      <td>-122.26</td>\n",
       "      <td>mid-low</td>\n",
       "    </tr>\n",
       "    <tr>\n",
       "      <th>3</th>\n",
       "      <td>3.3929</td>\n",
       "      <td>NaN</td>\n",
       "      <td>5.994652</td>\n",
       "      <td>1.128342</td>\n",
       "      <td>554.0</td>\n",
       "      <td>2.962567</td>\n",
       "      <td>37.83</td>\n",
       "      <td>-122.29</td>\n",
       "      <td>low</td>\n",
       "    </tr>\n",
       "    <tr>\n",
       "      <th>4</th>\n",
       "      <td>NaN</td>\n",
       "      <td>17.0</td>\n",
       "      <td>3.197232</td>\n",
       "      <td>1.000000</td>\n",
       "      <td>609.0</td>\n",
       "      <td>2.107266</td>\n",
       "      <td>37.81</td>\n",
       "      <td>-122.28</td>\n",
       "      <td>mid</td>\n",
       "    </tr>\n",
       "    <tr>\n",
       "      <th>...</th>\n",
       "      <td>...</td>\n",
       "      <td>...</td>\n",
       "      <td>...</td>\n",
       "      <td>...</td>\n",
       "      <td>...</td>\n",
       "      <td>...</td>\n",
       "      <td>...</td>\n",
       "      <td>...</td>\n",
       "      <td>...</td>\n",
       "    </tr>\n",
       "    <tr>\n",
       "      <th>1027</th>\n",
       "      <td>3.1908</td>\n",
       "      <td>16.0</td>\n",
       "      <td>4.386792</td>\n",
       "      <td>0.981132</td>\n",
       "      <td>1386.0</td>\n",
       "      <td>2.179245</td>\n",
       "      <td>38.54</td>\n",
       "      <td>-121.72</td>\n",
       "      <td>mid</td>\n",
       "    </tr>\n",
       "    <tr>\n",
       "      <th>1028</th>\n",
       "      <td>NaN</td>\n",
       "      <td>38.0</td>\n",
       "      <td>6.408696</td>\n",
       "      <td>1.039130</td>\n",
       "      <td>1123.0</td>\n",
       "      <td>2.441304</td>\n",
       "      <td>38.67</td>\n",
       "      <td>-121.78</td>\n",
       "      <td>mid-low</td>\n",
       "    </tr>\n",
       "    <tr>\n",
       "      <th>1029</th>\n",
       "      <td>2.8365</td>\n",
       "      <td>32.0</td>\n",
       "      <td>5.371901</td>\n",
       "      <td>1.060606</td>\n",
       "      <td>1145.0</td>\n",
       "      <td>3.154270</td>\n",
       "      <td>38.76</td>\n",
       "      <td>-121.77</td>\n",
       "      <td>low</td>\n",
       "    </tr>\n",
       "    <tr>\n",
       "      <th>1030</th>\n",
       "      <td>3.1029</td>\n",
       "      <td>18.0</td>\n",
       "      <td>4.945455</td>\n",
       "      <td>1.112121</td>\n",
       "      <td>769.0</td>\n",
       "      <td>2.330303</td>\n",
       "      <td>NaN</td>\n",
       "      <td>-121.57</td>\n",
       "      <td>low</td>\n",
       "    </tr>\n",
       "    <tr>\n",
       "      <th>1031</th>\n",
       "      <td>4.5625</td>\n",
       "      <td>40.0</td>\n",
       "      <td>4.125000</td>\n",
       "      <td>0.854167</td>\n",
       "      <td>151.0</td>\n",
       "      <td>3.145833</td>\n",
       "      <td>39.05</td>\n",
       "      <td>-121.48</td>\n",
       "      <td>low</td>\n",
       "    </tr>\n",
       "  </tbody>\n",
       "</table>\n",
       "<p>1032 rows × 9 columns</p>\n",
       "</div>"
      ],
      "text/plain": [
       "      MedInc  HouseAge  AveRooms  AveBedrms  Population  AveOccup  Latitude  \\\n",
       "0     8.3252      41.0  6.984127   1.023810       322.0  2.555556     37.88   \n",
       "1     1.3578      40.0  4.524096        NaN       409.0  2.463855     37.85   \n",
       "2     2.0978      52.0  4.215190   1.060759       946.0  2.394937     37.83   \n",
       "3     3.3929       NaN  5.994652   1.128342       554.0  2.962567     37.83   \n",
       "4        NaN      17.0  3.197232   1.000000       609.0  2.107266     37.81   \n",
       "...      ...       ...       ...        ...         ...       ...       ...   \n",
       "1027  3.1908      16.0  4.386792   0.981132      1386.0  2.179245     38.54   \n",
       "1028     NaN      38.0  6.408696   1.039130      1123.0  2.441304     38.67   \n",
       "1029  2.8365      32.0  5.371901   1.060606      1145.0  3.154270     38.76   \n",
       "1030  3.1029      18.0  4.945455   1.112121       769.0  2.330303       NaN   \n",
       "1031  4.5625      40.0  4.125000   0.854167       151.0  3.145833     39.05   \n",
       "\n",
       "      Longitude    Label  \n",
       "0       -122.23     high  \n",
       "1       -122.27  mid-low  \n",
       "2       -122.26  mid-low  \n",
       "3       -122.29      low  \n",
       "4       -122.28      mid  \n",
       "...         ...      ...  \n",
       "1027    -121.72      mid  \n",
       "1028    -121.78  mid-low  \n",
       "1029    -121.77      low  \n",
       "1030    -121.57      low  \n",
       "1031    -121.48      low  \n",
       "\n",
       "[1032 rows x 9 columns]"
      ]
     },
     "execution_count": 2,
     "metadata": {},
     "output_type": "execute_result"
    }
   ],
   "source": [
    "housing_df = pd.read_csv('california_housing_data.csv')\n",
    "housing_df"
   ]
  },
  {
   "cell_type": "markdown",
   "id": "promotional-opening",
   "metadata": {},
   "source": [
    "Eventuell hilft Ihnen auch der folgende Graph."
   ]
  },
  {
   "cell_type": "code",
   "execution_count": 20,
   "id": "disciplinary-animal",
   "metadata": {
    "scrolled": false
   },
   "outputs": [],
   "source": [
    "# Auskommentiert, um Performance zu verbessern\n",
    "#sns.set_theme(style=\"whitegrid\")\n",
    "#sns.pairplot(housing_df, hue=\"Label\")"
   ]
  },
  {
   "cell_type": "code",
   "execution_count": 4,
   "id": "4c632add",
   "metadata": {},
   "outputs": [
    {
     "data": {
      "text/plain": [
       "MedInc        float64\n",
       "HouseAge      float64\n",
       "AveRooms      float64\n",
       "AveBedrms     float64\n",
       "Population    float64\n",
       "AveOccup      float64\n",
       "Latitude      float64\n",
       "Longitude     float64\n",
       "Label          object\n",
       "dtype: object"
      ]
     },
     "execution_count": 4,
     "metadata": {},
     "output_type": "execute_result"
    }
   ],
   "source": [
    "housing_df.dtypes"
   ]
  },
  {
   "cell_type": "code",
   "execution_count": 5,
   "id": "6795b22f",
   "metadata": {},
   "outputs": [],
   "source": [
    "housing_df[\"Label\"] = housing_df[\"Label\"].astype(\"category\")"
   ]
  },
  {
   "cell_type": "markdown",
   "id": "protective-drinking",
   "metadata": {},
   "source": [
    "## Aufgabe 1 - Data Preparation (4 Punkte)\n",
    "Die erste Aufgabe ist es den Datensatz fürs maschinelle Lernen vorzubereiten. Dazu sind die folgenden Schritte nötig:\n",
    "- a) Auswahl der Strategie(n) zum Ersetzen der fehlenden Werte\n",
    "- b) Auswahl der Strategie(n) zur Skalierung der Daten\n",
    "- c) Erstellen der Preparation-Pipeline\n",
    "\n",
    "Da das Ersetzen der fehlenden Werte und die Skalierung der Daten in einer `Pipeline` passieren soll, können Sie nur Algorithmen verwenden, die __sklearn__ bereitstellt.\n",
    "\n",
    "_Hinweise/Tipps:_ \n",
    "- Sie müssen die unterschiedlichen Algorithmen nicht (bis zum Maximum) optimieren, hier geht es gerade eher darum zu überprüfen, ob Sie die Algorithmen generell verstanden haben und Sie richtig einsetzen/kombinieren können.\n",
    "- Gucken Sie sich nochmal die besprochenen Algorithmen an und überlegen wo die Stärken und Schwächen liegen.\n",
    "- Sie können selbstverständlich auch unterschiedliche Methoden für die einzelnen Merkmale wählen.  \n",
    "\n",
    "### a) Auswahl der Strategie(n) zum Ersetzen der fehlenden Werte\n",
    "_Punkte: 1_\n",
    "\n",
    "Als erstes müssen Sie sich eine Strategie zum Ersetzen der fehlenden Werte überlegen. Beschreiben Sie diese in der nachfolgenden Markdown-Zeile und begründen Sie, warum Sie diese Strategie gewählt haben. "
   ]
  },
  {
   "cell_type": "markdown",
   "id": "identified-wrong",
   "metadata": {},
   "source": [
    "__Ihre Antwort:__\n",
    "\n",
    "Zum Füllen von fehlenden Werten verwenden wir den ``SimpleImputer()``, der den Durchschnitt (arithmetisches Mittel) aus den vorhandenen Werten berechnet.\n",
    "\n",
    "Eine Überlegung zur Verbesserung der Auffüllung der Daten, ist die Gruppierung der Daten in die entsprechenden Labels. Dies ist möglich da kein Label fehlt. Hierdurch kann möglicherweise ein besserer Wert aufgefüllt werden. Aus Vereinfachungsgründen haben wir darauf verzichtet.\n",
    "\n",
    "Alternativ kann der ``IterativeImputer()`` verwendet werden. Hierbei wird ein Regressionsmodell berechnet, welcher die fehlenden Daten vorhersagen soll. Hierfür muss ein Zusammenhang zwischen den verschiedenen Features bestehen. Da wir noch keine direkte Korrelatoin der Features festgestellt haben, verwenden wir nicht den ``IterativeImputer()``. Durch die Nutzung ohne Korrelation der Daten können unter Umständen andere Werte zustandekommen. Wir haben uns dagegen entschieden, weil so eine Korrelation erzwungen werden könnte, die es \"in echt\" nicht gibt.\n",
    "\n",
    "\n",
    "\n",
    "\n",
    "Ein ``OneHotEncoder`` könnte angewendet werden, um die Spalte ``Label`` besser darzustellen. Da die Spalte den Wert, der vorhergesehen werden soll, widerspiegelt, ist ein Encoding in unserem Anwendungsfall nicht notwendig. \n",
    "\n",
    "Der ``SimpleImputer()`` für fehlende geographische Angaben (``long`` und ``lat``) ist wenig zielführend, da es sich eigentlich um ordinale Daten handelt.\n",
    "(Man kann keinen \"Durchschnitt\" berechnen, der sinnvoll ist.)"
   ]
  },
  {
   "cell_type": "markdown",
   "id": "rapid-tension",
   "metadata": {},
   "source": [
    "### b) Auswahl der Strategie(n) zur Skalierung der Daten\n",
    "_Punkte: 1_\n",
    "\n",
    "Außerdem sollten die Daten skaliert/normalisiert werden. Beschreiben Sie Ihre Strategie und begründen Sie warum Sie diese Strategie bzw. Methoden gewählt haben."
   ]
  },
  {
   "cell_type": "markdown",
   "id": "satellite-contamination",
   "metadata": {},
   "source": [
    "__Ihre Antwort:__\n",
    "\n",
    "Der ``StandardScaler()`` kann auf Daten angewendet werden, die normalverteilt sind. Da viele Faktoren den Hauswert sowohl positiv als auch negativ beeinflussen und die Normalverteilung häufig vorkommen (das spiegelt sich im Namen mit ``Standard`` wider), haben wir uns dafür entschieden."
   ]
  },
  {
   "cell_type": "markdown",
   "id": "arbitrary-communication",
   "metadata": {},
   "source": [
    "### c) Erstellen der Preparation-Pipeline\n",
    "_Punkte: 2_\n",
    "\n",
    "In der nächsten Codezeile können Sie nun die `preparation_pipeline` erstellen. In dieser sollen beide vorherigen Schritte enthalten sein. Sie müssen die Pipeline aber noch nicht \"trainieren\" (Aufruf der Methode `fit()`)."
   ]
  },
  {
   "cell_type": "code",
   "execution_count": 6,
   "id": "ancient-multiple",
   "metadata": {},
   "outputs": [],
   "source": [
    "from sklearn.pipeline import Pipeline \n",
    "# Hier können Sie die weiteren benötigten Imports hinzufügen\n",
    "from sklearn.preprocessing import StandardScaler\n",
    "from sklearn.impute import SimpleImputer\n",
    "\n",
    "estimator = [\n",
    "    (\"mean_imputer\", SimpleImputer()),\n",
    "    (\"scale\", StandardScaler())\n",
    "]\n",
    "\n",
    "### BEGIN SOLUTION\n",
    "pipe = Pipeline(estimator\n",
    ")\n",
    "# IHRE LÖSUNG HIER\n",
    "### END SOLUTION"
   ]
  },
  {
   "cell_type": "markdown",
   "id": "welsh-softball",
   "metadata": {},
   "source": [
    "Warum macht es noch keinen Sinn die Pipeline jetzt schon zu trainieren?"
   ]
  },
  {
   "cell_type": "markdown",
   "id": "satellite-premises",
   "metadata": {},
   "source": [
    "__Ihre Antwort:__\n",
    "\n",
    "Um ein ML-Modell zu erstellen, werden Trainings- und Testdatensätze benötigt. Nur so kann der ML-Algorithmus und dessen Performance ausgewertet werden. Hierfür muss der vorliegende Datensatz (``housing_df``) zunächst entsprechend unterteilt werden."
   ]
  },
  {
   "cell_type": "markdown",
   "id": "twenty-spyware",
   "metadata": {},
   "source": [
    "__Muster-Antwort:__\n",
    "- Wir haben noch keine separaten Trainings- und Testdatensets und daher würden wir Testdaten zum Training verwenden."
   ]
  },
  {
   "cell_type": "markdown",
   "id": "needed-alabama",
   "metadata": {},
   "source": [
    "## Aufgabe 2 - Trainingsvorbereitung und Modellauswahl  (4 Punkte)\n",
    "Ihre nächste Aufgabe ist es das Training vorzubereiten und den richtigen ML-Algorithmus auszuwählen. Dafür müssen Sie die folgenden Teilaufgaben erledigen:\n",
    "- a) Erstellen des Test- und Trainingsdatenset\n",
    "- b) Kreuzvalidierung im Trainingsprozess\n",
    "- c) Optimieren eines ML-Algorithmus\n",
    "- d) Testen der trainierten Pipeline\n",
    "\n",
    "### a) Erstellen des Test- und Trainingsdatenset\n",
    "_Punkte: 0,5_\n",
    "\n",
    "Zuerst benötigen wir ein Test- und ein Trainingsdatenset. Das Testdatenset soll 30% der gesamten Daten enthalten. "
   ]
  },
  {
   "cell_type": "code",
   "execution_count": 7,
   "id": "shaped-bathroom",
   "metadata": {},
   "outputs": [],
   "source": [
    "# get the data and target from the data frame \n",
    "data = housing_df.loc[:, :'Longitude']\n",
    "target = housing_df['Label']\n",
    "\n",
    "### BEGIN SOLUTION\n",
    "# IHRE LÖSUNG HIER\n",
    "from sklearn.model_selection import train_test_split\n",
    "\n",
    "#Die Funktion train_test_split() teilt die gegebenen Parameter in zufälliger Reihenfolge entsprechend der Testgröße.\n",
    "train_data, test_data, train_label, test_label = train_test_split(data,\n",
    "                                                                  target, \n",
    "                                                                  test_size = 0.3 #30% der Daten werden als Testdaten genutzt\n",
    "                                                                 )\n",
    "\n",
    "#Überprüfen, ob die Größe der Daten korrekt ist.\n",
    "assert round(len(data)*0.3) == len(test_data)\n",
    "### END SOLUTION"
   ]
  },
  {
   "cell_type": "markdown",
   "id": "entire-jones",
   "metadata": {},
   "source": [
    "### b) Kreuzvalidierung im Trainingsprozess\n",
    "_Punkte: 1_\n",
    "\n",
    "Was ist unter Kreuzvalidierung im Trainingsprozess zu verstehen und wieso wird es verwendet?"
   ]
  },
  {
   "cell_type": "markdown",
   "id": "balanced-hampton",
   "metadata": {},
   "source": [
    "__Ihre Antwort:__\n",
    "\n",
    "Durch eine Pipeline können verschiedene Berechnungen verkettet werden, wodurch sie einfacher wiederholt durchzuführen sind. Die Berechnungen können hierbei durch verschiedene Parameter (Hyperparameter) angepasst werden. Da oft die Parameter für die beste Vorhersageperformance nicht bekannt sind, müssen diese durchprobiert werden. <br>\n",
    "Um die Performance zu messen und zu vergleichen wird der Datensatz, der zum Trainieren des ML-Modells genutzt wird, erneut aufgeteilt. Ein Bereich wird weiter für das Training des Modells benutzt, während der Rest zur Validierung genutzt wird. Da die Label-Daten des Validierungsdatensatzes bekannt sind, lässt sich hierraus die Genauigkeit der Vorhersagen berechnen.<br>\n",
    "Ein Problem durch dieses Verfahren ist die Verkleinerung des Trainingsdatensatzes. Dem wird durch die Kreuzvalidierung entgegengewirkt. Der Trainingsdatensatz wird n mal in n-Teile aufgesplittet. Für jeden n-ten Durchgang wird der n-te Teil des Datensatzes als Validierungsdatensatz benutzt, während der verbliebene Datensatz zum Training des Modells genutzt werden kann. Durch die Iteration der verschiedenen Datensätze in Kombination mit den verschiedenen Pipeline-Parametern können die optimalen Parameter herausgefunden werden.\n",
    "\n",
    "Innerhalb Scikit ist die Kreuzvalidierung durch sklearn.model_selection.GridSearchCV möglich.\n"
   ]
  },
  {
   "cell_type": "markdown",
   "id": "streaming-macintosh",
   "metadata": {},
   "source": [
    "__Muster-Antwort:__\n",
    "- Während des Trainings müssen unterschiedliche Hyperparameter optimiert werden.\n",
    "- Um die optimalen Parameter auswählen zu können, muss auch getestet werden.\n",
    "- Daher wird ein weiteres Datenset benötigt, das sogenannte Validierungsdatenset.\n",
    "- Da dadurch die Daten fürs Training weiter schrumpfen, wurde die Kreuzvalidierung erfunden.\n",
    "- Splitten der Trainingsdaten in $k$ Subsets. Das Netzwerk $k$ mal trainieren und dabei immer mit dem $k$ten Subset testen. Durchschnitt der Testergebnisse ist Gesamtergebnis für eine bestimmte Hyperparameterkombination."
   ]
  },
  {
   "cell_type": "markdown",
   "id": "worst-dating",
   "metadata": {},
   "source": [
    "### c) Optimieren eines ML-Algorithmus\n",
    "_Punkte: 1,5_\n",
    "\n",
    "Im nächsten Schritt optimieren wir einen ML-Algorithmus. Da wir ein Klassifikationsproblem lösen wollen, kommen nur Klassifikationsalgorithmen als mögliche Algorithmen in Frage. Wir werden den [RandomForestClassifier](https://scikit-learn.org/stable/modules/generated/sklearn.ensemble.RandomForestClassifier.html) verwenden. \n",
    "\n",
    "Der `RandomForestClassifier` soll eine maximale Tiefe von 6 haben und maximal 75% der Daten pro Baum verwenden. Setzen Sie den `random_state` auf 0. Für die Anzahl der Bäume sollen die folgenden Werte überprüft werden: `[30, 40, 50, 60, 70, 80]`. Außerdem sollen die beiden Möglichkeiten `['gini', 'entropy']` für das Kriterium, nach dem geteilt wird, getestet werden.\n",
    "\n",
    "Führen Sie die folgenden Schritte durch:\n",
    "- Erstellen Sie eine Pipeline, die zuerst die vorher bereits erstellte Vorverarbeitung durchführt und anschließend den `RandomForestClassifier` aufruft. \n",
    "- Finden Sie die optimalen Parameter aus den angegebenen Parameterbereichen.\n",
    "- Speichern Sie die `Pipeline` mit den besten Parametern in der Variable `trained_pipeline`\n",
    "- Geben Sie die beste `Pipeline` aus"
   ]
  },
  {
   "cell_type": "code",
   "execution_count": 8,
   "id": "golden-dividend",
   "metadata": {},
   "outputs": [],
   "source": [
    "from sklearn.ensemble import RandomForestClassifier\n",
    "# Hier können Sie weitere benötigte Importe hinzufügen\n",
    "\n",
    "\n",
    "### BEGIN SOLUTION\n",
    "#RandomForstClassifier zur zuvor definierten esitmator der Pipeline hinzufügen\n",
    "estimator.append(\n",
    "                (\"classifier\", RandomForestClassifier(\n",
    "                    max_depth=6, #maximale Tiefe von 6\n",
    "                    max_samples=0.75, #maximal 75% der Daten pro Baum\n",
    "                    random_state=0))\n",
    ")\n"
   ]
  },
  {
   "cell_type": "code",
   "execution_count": 9,
   "id": "1cd3fa5b",
   "metadata": {},
   "outputs": [],
   "source": [
    "from sklearn.pipeline import Pipeline \n",
    "\n",
    "#neue Pipeline erstellen\n",
    "pipe = Pipeline(estimator)\n",
    "\n",
    "### END SOLUTION"
   ]
  },
  {
   "cell_type": "code",
   "execution_count": 10,
   "id": "dd553409",
   "metadata": {},
   "outputs": [],
   "source": [
    "from sklearn.model_selection import GridSearchCV\n",
    "\n",
    "#Kreuzvalidierungsmodell erstellen mit vorgegebenen Parametern\n",
    "model = GridSearchCV(estimator=pipe,\n",
    "                     param_grid={\n",
    "                         'classifier__criterion':['gini', 'entropy'],\n",
    "                         'classifier__n_estimators' : [30, 40, 50, 60, 70, 80]\n",
    "                     },\n",
    "                     cv=5 #Default-Wert für Anzahl der cross validations\n",
    ")"
   ]
  },
  {
   "cell_type": "code",
   "execution_count": 11,
   "id": "0b4db2e4",
   "metadata": {},
   "outputs": [
    {
     "data": {
      "text/html": [
       "<div>\n",
       "<style scoped>\n",
       "    .dataframe tbody tr th:only-of-type {\n",
       "        vertical-align: middle;\n",
       "    }\n",
       "\n",
       "    .dataframe tbody tr th {\n",
       "        vertical-align: top;\n",
       "    }\n",
       "\n",
       "    .dataframe thead th {\n",
       "        text-align: right;\n",
       "    }\n",
       "</style>\n",
       "<table border=\"1\" class=\"dataframe\">\n",
       "  <thead>\n",
       "    <tr style=\"text-align: right;\">\n",
       "      <th></th>\n",
       "      <th>mean_fit_time</th>\n",
       "      <th>std_fit_time</th>\n",
       "      <th>mean_score_time</th>\n",
       "      <th>std_score_time</th>\n",
       "      <th>param_classifier__criterion</th>\n",
       "      <th>param_classifier__n_estimators</th>\n",
       "      <th>params</th>\n",
       "      <th>split0_test_score</th>\n",
       "      <th>split1_test_score</th>\n",
       "      <th>split2_test_score</th>\n",
       "      <th>split3_test_score</th>\n",
       "      <th>split4_test_score</th>\n",
       "      <th>mean_test_score</th>\n",
       "      <th>std_test_score</th>\n",
       "      <th>rank_test_score</th>\n",
       "    </tr>\n",
       "  </thead>\n",
       "  <tbody>\n",
       "    <tr>\n",
       "      <th>0</th>\n",
       "      <td>0.037500</td>\n",
       "      <td>0.001364</td>\n",
       "      <td>0.004183</td>\n",
       "      <td>0.000402</td>\n",
       "      <td>gini</td>\n",
       "      <td>30</td>\n",
       "      <td>{'classifier__criterion': 'gini', 'classifier_...</td>\n",
       "      <td>0.434483</td>\n",
       "      <td>0.503448</td>\n",
       "      <td>0.527778</td>\n",
       "      <td>0.486111</td>\n",
       "      <td>0.458333</td>\n",
       "      <td>0.482031</td>\n",
       "      <td>0.032835</td>\n",
       "      <td>12</td>\n",
       "    </tr>\n",
       "    <tr>\n",
       "      <th>1</th>\n",
       "      <td>0.046669</td>\n",
       "      <td>0.000745</td>\n",
       "      <td>0.004992</td>\n",
       "      <td>0.000011</td>\n",
       "      <td>gini</td>\n",
       "      <td>40</td>\n",
       "      <td>{'classifier__criterion': 'gini', 'classifier_...</td>\n",
       "      <td>0.441379</td>\n",
       "      <td>0.468966</td>\n",
       "      <td>0.520833</td>\n",
       "      <td>0.486111</td>\n",
       "      <td>0.500000</td>\n",
       "      <td>0.483458</td>\n",
       "      <td>0.027049</td>\n",
       "      <td>9</td>\n",
       "    </tr>\n",
       "    <tr>\n",
       "      <th>2</th>\n",
       "      <td>0.059840</td>\n",
       "      <td>0.001263</td>\n",
       "      <td>0.005992</td>\n",
       "      <td>0.000620</td>\n",
       "      <td>gini</td>\n",
       "      <td>50</td>\n",
       "      <td>{'classifier__criterion': 'gini', 'classifier_...</td>\n",
       "      <td>0.455172</td>\n",
       "      <td>0.496552</td>\n",
       "      <td>0.534722</td>\n",
       "      <td>0.527778</td>\n",
       "      <td>0.479167</td>\n",
       "      <td>0.498678</td>\n",
       "      <td>0.029745</td>\n",
       "      <td>6</td>\n",
       "    </tr>\n",
       "    <tr>\n",
       "      <th>3</th>\n",
       "      <td>0.071826</td>\n",
       "      <td>0.001429</td>\n",
       "      <td>0.006782</td>\n",
       "      <td>0.000400</td>\n",
       "      <td>gini</td>\n",
       "      <td>60</td>\n",
       "      <td>{'classifier__criterion': 'gini', 'classifier_...</td>\n",
       "      <td>0.448276</td>\n",
       "      <td>0.475862</td>\n",
       "      <td>0.534722</td>\n",
       "      <td>0.479167</td>\n",
       "      <td>0.479167</td>\n",
       "      <td>0.483439</td>\n",
       "      <td>0.028144</td>\n",
       "      <td>11</td>\n",
       "    </tr>\n",
       "    <tr>\n",
       "      <th>4</th>\n",
       "      <td>0.079784</td>\n",
       "      <td>0.002105</td>\n",
       "      <td>0.006982</td>\n",
       "      <td>0.000001</td>\n",
       "      <td>gini</td>\n",
       "      <td>70</td>\n",
       "      <td>{'classifier__criterion': 'gini', 'classifier_...</td>\n",
       "      <td>0.475862</td>\n",
       "      <td>0.468966</td>\n",
       "      <td>0.527778</td>\n",
       "      <td>0.500000</td>\n",
       "      <td>0.493056</td>\n",
       "      <td>0.493132</td>\n",
       "      <td>0.020639</td>\n",
       "      <td>8</td>\n",
       "    </tr>\n",
       "    <tr>\n",
       "      <th>5</th>\n",
       "      <td>0.092062</td>\n",
       "      <td>0.002066</td>\n",
       "      <td>0.007991</td>\n",
       "      <td>0.000649</td>\n",
       "      <td>gini</td>\n",
       "      <td>80</td>\n",
       "      <td>{'classifier__criterion': 'gini', 'classifier_...</td>\n",
       "      <td>0.448276</td>\n",
       "      <td>0.468966</td>\n",
       "      <td>0.548611</td>\n",
       "      <td>0.486111</td>\n",
       "      <td>0.465278</td>\n",
       "      <td>0.483448</td>\n",
       "      <td>0.034728</td>\n",
       "      <td>10</td>\n",
       "    </tr>\n",
       "    <tr>\n",
       "      <th>6</th>\n",
       "      <td>0.046880</td>\n",
       "      <td>0.002087</td>\n",
       "      <td>0.004195</td>\n",
       "      <td>0.000397</td>\n",
       "      <td>entropy</td>\n",
       "      <td>30</td>\n",
       "      <td>{'classifier__criterion': 'entropy', 'classifi...</td>\n",
       "      <td>0.427586</td>\n",
       "      <td>0.482759</td>\n",
       "      <td>0.590278</td>\n",
       "      <td>0.486111</td>\n",
       "      <td>0.500000</td>\n",
       "      <td>0.497347</td>\n",
       "      <td>0.052629</td>\n",
       "      <td>7</td>\n",
       "    </tr>\n",
       "    <tr>\n",
       "      <th>7</th>\n",
       "      <td>0.060485</td>\n",
       "      <td>0.001355</td>\n",
       "      <td>0.004795</td>\n",
       "      <td>0.000748</td>\n",
       "      <td>entropy</td>\n",
       "      <td>40</td>\n",
       "      <td>{'classifier__criterion': 'entropy', 'classifi...</td>\n",
       "      <td>0.462069</td>\n",
       "      <td>0.468966</td>\n",
       "      <td>0.583333</td>\n",
       "      <td>0.493056</td>\n",
       "      <td>0.486111</td>\n",
       "      <td>0.498707</td>\n",
       "      <td>0.043770</td>\n",
       "      <td>5</td>\n",
       "    </tr>\n",
       "    <tr>\n",
       "      <th>8</th>\n",
       "      <td>0.074663</td>\n",
       "      <td>0.001775</td>\n",
       "      <td>0.005194</td>\n",
       "      <td>0.000411</td>\n",
       "      <td>entropy</td>\n",
       "      <td>50</td>\n",
       "      <td>{'classifier__criterion': 'entropy', 'classifi...</td>\n",
       "      <td>0.462069</td>\n",
       "      <td>0.503448</td>\n",
       "      <td>0.576389</td>\n",
       "      <td>0.506944</td>\n",
       "      <td>0.513889</td>\n",
       "      <td>0.512548</td>\n",
       "      <td>0.036715</td>\n",
       "      <td>3</td>\n",
       "    </tr>\n",
       "    <tr>\n",
       "      <th>9</th>\n",
       "      <td>0.087566</td>\n",
       "      <td>0.000731</td>\n",
       "      <td>0.006577</td>\n",
       "      <td>0.000484</td>\n",
       "      <td>entropy</td>\n",
       "      <td>60</td>\n",
       "      <td>{'classifier__criterion': 'entropy', 'classifi...</td>\n",
       "      <td>0.462069</td>\n",
       "      <td>0.468966</td>\n",
       "      <td>0.583333</td>\n",
       "      <td>0.486111</td>\n",
       "      <td>0.506944</td>\n",
       "      <td>0.501485</td>\n",
       "      <td>0.043764</td>\n",
       "      <td>4</td>\n",
       "    </tr>\n",
       "    <tr>\n",
       "      <th>10</th>\n",
       "      <td>0.101717</td>\n",
       "      <td>0.000901</td>\n",
       "      <td>0.006900</td>\n",
       "      <td>0.000651</td>\n",
       "      <td>entropy</td>\n",
       "      <td>70</td>\n",
       "      <td>{'classifier__criterion': 'entropy', 'classifi...</td>\n",
       "      <td>0.475862</td>\n",
       "      <td>0.496552</td>\n",
       "      <td>0.618056</td>\n",
       "      <td>0.486111</td>\n",
       "      <td>0.520833</td>\n",
       "      <td>0.519483</td>\n",
       "      <td>0.051499</td>\n",
       "      <td>1</td>\n",
       "    </tr>\n",
       "    <tr>\n",
       "      <th>11</th>\n",
       "      <td>0.114829</td>\n",
       "      <td>0.000584</td>\n",
       "      <td>0.007568</td>\n",
       "      <td>0.000492</td>\n",
       "      <td>entropy</td>\n",
       "      <td>80</td>\n",
       "      <td>{'classifier__criterion': 'entropy', 'classifi...</td>\n",
       "      <td>0.475862</td>\n",
       "      <td>0.496552</td>\n",
       "      <td>0.611111</td>\n",
       "      <td>0.486111</td>\n",
       "      <td>0.500000</td>\n",
       "      <td>0.513927</td>\n",
       "      <td>0.049322</td>\n",
       "      <td>2</td>\n",
       "    </tr>\n",
       "  </tbody>\n",
       "</table>\n",
       "</div>"
      ],
      "text/plain": [
       "    mean_fit_time  std_fit_time  mean_score_time  std_score_time  \\\n",
       "0        0.037500      0.001364         0.004183        0.000402   \n",
       "1        0.046669      0.000745         0.004992        0.000011   \n",
       "2        0.059840      0.001263         0.005992        0.000620   \n",
       "3        0.071826      0.001429         0.006782        0.000400   \n",
       "4        0.079784      0.002105         0.006982        0.000001   \n",
       "5        0.092062      0.002066         0.007991        0.000649   \n",
       "6        0.046880      0.002087         0.004195        0.000397   \n",
       "7        0.060485      0.001355         0.004795        0.000748   \n",
       "8        0.074663      0.001775         0.005194        0.000411   \n",
       "9        0.087566      0.000731         0.006577        0.000484   \n",
       "10       0.101717      0.000901         0.006900        0.000651   \n",
       "11       0.114829      0.000584         0.007568        0.000492   \n",
       "\n",
       "   param_classifier__criterion param_classifier__n_estimators  \\\n",
       "0                         gini                             30   \n",
       "1                         gini                             40   \n",
       "2                         gini                             50   \n",
       "3                         gini                             60   \n",
       "4                         gini                             70   \n",
       "5                         gini                             80   \n",
       "6                      entropy                             30   \n",
       "7                      entropy                             40   \n",
       "8                      entropy                             50   \n",
       "9                      entropy                             60   \n",
       "10                     entropy                             70   \n",
       "11                     entropy                             80   \n",
       "\n",
       "                                               params  split0_test_score  \\\n",
       "0   {'classifier__criterion': 'gini', 'classifier_...           0.434483   \n",
       "1   {'classifier__criterion': 'gini', 'classifier_...           0.441379   \n",
       "2   {'classifier__criterion': 'gini', 'classifier_...           0.455172   \n",
       "3   {'classifier__criterion': 'gini', 'classifier_...           0.448276   \n",
       "4   {'classifier__criterion': 'gini', 'classifier_...           0.475862   \n",
       "5   {'classifier__criterion': 'gini', 'classifier_...           0.448276   \n",
       "6   {'classifier__criterion': 'entropy', 'classifi...           0.427586   \n",
       "7   {'classifier__criterion': 'entropy', 'classifi...           0.462069   \n",
       "8   {'classifier__criterion': 'entropy', 'classifi...           0.462069   \n",
       "9   {'classifier__criterion': 'entropy', 'classifi...           0.462069   \n",
       "10  {'classifier__criterion': 'entropy', 'classifi...           0.475862   \n",
       "11  {'classifier__criterion': 'entropy', 'classifi...           0.475862   \n",
       "\n",
       "    split1_test_score  split2_test_score  split3_test_score  \\\n",
       "0            0.503448           0.527778           0.486111   \n",
       "1            0.468966           0.520833           0.486111   \n",
       "2            0.496552           0.534722           0.527778   \n",
       "3            0.475862           0.534722           0.479167   \n",
       "4            0.468966           0.527778           0.500000   \n",
       "5            0.468966           0.548611           0.486111   \n",
       "6            0.482759           0.590278           0.486111   \n",
       "7            0.468966           0.583333           0.493056   \n",
       "8            0.503448           0.576389           0.506944   \n",
       "9            0.468966           0.583333           0.486111   \n",
       "10           0.496552           0.618056           0.486111   \n",
       "11           0.496552           0.611111           0.486111   \n",
       "\n",
       "    split4_test_score  mean_test_score  std_test_score  rank_test_score  \n",
       "0            0.458333         0.482031        0.032835               12  \n",
       "1            0.500000         0.483458        0.027049                9  \n",
       "2            0.479167         0.498678        0.029745                6  \n",
       "3            0.479167         0.483439        0.028144               11  \n",
       "4            0.493056         0.493132        0.020639                8  \n",
       "5            0.465278         0.483448        0.034728               10  \n",
       "6            0.500000         0.497347        0.052629                7  \n",
       "7            0.486111         0.498707        0.043770                5  \n",
       "8            0.513889         0.512548        0.036715                3  \n",
       "9            0.506944         0.501485        0.043764                4  \n",
       "10           0.520833         0.519483        0.051499                1  \n",
       "11           0.500000         0.513927        0.049322                2  "
      ]
     },
     "execution_count": 11,
     "metadata": {},
     "output_type": "execute_result"
    }
   ],
   "source": [
    "model.fit(train_data, train_label)\n",
    "pd.DataFrame(model.cv_results_)"
   ]
  },
  {
   "cell_type": "code",
   "execution_count": 12,
   "id": "65cb1810",
   "metadata": {},
   "outputs": [
    {
     "data": {
      "text/plain": [
       "{'classifier__criterion': 'entropy', 'classifier__n_estimators': 70}"
      ]
     },
     "execution_count": 12,
     "metadata": {},
     "output_type": "execute_result"
    }
   ],
   "source": [
    "model.best_params_"
   ]
  },
  {
   "cell_type": "markdown",
   "id": "ff9a4ea4",
   "metadata": {},
   "source": [
    "Der beste Wert für den Parameter 'citerion' ist 'entropy'. <br>\n",
    "Der beste Wert für den Parameter 'n_estimators' ist 70."
   ]
  },
  {
   "cell_type": "code",
   "execution_count": 13,
   "id": "0366ba33",
   "metadata": {},
   "outputs": [],
   "source": [
    "trained_pipeline = model.best_estimator_"
   ]
  },
  {
   "cell_type": "code",
   "execution_count": 14,
   "id": "a5fba43e",
   "metadata": {},
   "outputs": [
    {
     "data": {
      "text/plain": [
       "(Pipeline(steps=[('mean_imputer', SimpleImputer()), ('scale', StandardScaler()),\n",
       "                 ('classifier',\n",
       "                  RandomForestClassifier(criterion='entropy', max_depth=6,\n",
       "                                         max_samples=0.75, n_estimators=70,\n",
       "                                         random_state=0))]),\n",
       " GridSearchCV(cv=5,\n",
       "              estimator=Pipeline(steps=[('mean_imputer', SimpleImputer()),\n",
       "                                        ('scale', StandardScaler()),\n",
       "                                        ('classifier',\n",
       "                                         RandomForestClassifier(max_depth=6,\n",
       "                                                                max_samples=0.75,\n",
       "                                                                random_state=0))]),\n",
       "              param_grid={'classifier__criterion': ['gini', 'entropy'],\n",
       "                          'classifier__n_estimators': [30, 40, 50, 60, 70, 80]}))"
      ]
     },
     "execution_count": 14,
     "metadata": {},
     "output_type": "execute_result"
    }
   ],
   "source": [
    "(trained_pipeline, model)"
   ]
  },
  {
   "cell_type": "markdown",
   "id": "flush-undergraduate",
   "metadata": {},
   "source": [
    "### d) Testen der trainierten Pipeline\n",
    "_Punkte: 1_\n",
    "\n",
    "Nachdem Sie die `Pipeline` trainiert haben, ist es nun Zeit diese zu testen. Lassen Sie sich dafür den Score einmal für das Test- und einmal für das Trainingsdatenset berechnen. Was fällt auf? Welche Metrik wird für das berechnen verwendet bzw. was sagt sie aus? Ist diese Metrik hier sinnvoll?"
   ]
  },
  {
   "cell_type": "code",
   "execution_count": 15,
   "id": "compatible-thought",
   "metadata": {
    "scrolled": false
   },
   "outputs": [
    {
     "name": "stdout",
     "output_type": "stream",
     "text": [
      "0.8199445983379502\n",
      "0.532258064516129\n"
     ]
    }
   ],
   "source": [
    "### BEGIN SOLUTION\n",
    "# IHRE LÖSUNG HIER\n",
    "from sklearn.metrics import accuracy_score\n",
    "\n",
    "# model und trained_pipline liefern das selbe Ergebnis\n",
    "predict_train = model.predict(train_data)\n",
    "predict_test = model.predict(test_data)\n",
    "print(accuracy_score(train_label, predict_train))\n",
    "print(accuracy_score(test_label, predict_test))\n",
    "### END SOLUTION"
   ]
  },
  {
   "cell_type": "markdown",
   "id": "english-childhood",
   "metadata": {},
   "source": [
    "__Ihre Antwort:__\n",
    "\n",
    "Mithilfe des ``accuracy_score`` kann berechnet werden, zu wie viel Prozent die beiden \"Listen\" übereinstimmen. Wenn eine Liste die gegebene, richtige Antwort und die zweite Liste die Vorhersage des Models ist, dann kann so die Genauigkeit bestimmt werden.\n",
    "\n",
    "Das Model ist auf die eher auf die Trainingsdaten angepasst, da es diese \"kennt\". Daher liegt hier prinzipiell eher ein Overfitting vor, sodass dieser Score wenig aussagekräftig ist.\n",
    "\n",
    "Der Test-Score zeigt, dass das Model zu etwa 50 % richtig liegt, womit es die Genauigkeit von Raten hat. Es wird nicht berücksichtigt, dass der Unterschied von low zu mid-low geringer ist, als zwischen low und high. Daher ist die Qualität wahrscheinlich besser als es der Score vermuten lässt."
   ]
  },
  {
   "cell_type": "markdown",
   "id": "medieval-classic",
   "metadata": {},
   "source": [
    "## Aufgabe 3 - Weitere Evaluierung und Visualisierung (2 Punkte)\n",
    "Im letzten Schritt wollen wir uns die Ergebnisse noch einmal genauer angucken, um eventuell zu verstehen, was passiert ist. Dazu sind die folgenden Teilaufgaben zu erledigen:\n",
    "- a) Erstellen eines Confusion Matrix-Diagramms\n",
    "- b) Analyse des Einfluss des Parameters n_estimators auf das Ergebnis\n",
    "\n",
    "### a) Erstellen eines Confusion Matrix-Diagramms\n",
    "_Punkte: 1_\n",
    "\n",
    "Erstellen Sie mit Hilfe der `plot_confusion_matrix`-Funktion das Diagramm der Confusion Matrix. Analysieren Sie dieses anschließend.\n",
    "\n",
    "_Tipps:_\n",
    "- Welche Klassen wurden falsch klassifiziert?\n",
    "- Was könnten mögliche Gründe dafür sein?"
   ]
  },
  {
   "cell_type": "code",
   "execution_count": 16,
   "id": "accurate-shell",
   "metadata": {},
   "outputs": [
    {
     "data": {
      "image/png": "[encoded data removed]",
      "text/plain": [
       "<Figure size 432x288 with 2 Axes>"
      ]
     },
     "metadata": {
      "needs_background": "light"
     },
     "output_type": "display_data"
    },
    {
     "data": {
      "image/png": "[encoded data removed]",
      "text/plain": [
       "<Figure size 432x288 with 2 Axes>"
      ]
     },
     "metadata": {
      "needs_background": "light"
     },
     "output_type": "display_data"
    }
   ],
   "source": [
    "from sklearn.metrics import plot_confusion_matrix\n",
    "\n",
    "### BEGIN SOLUTION\n",
    "labels = ['low', 'mid-low', 'mid', 'mid-high', 'high']\n",
    "\n",
    "#Confusion Matrix mit Trainingsdaten\n",
    "_ = plot_confusion_matrix(estimator=model, #trainiertes Modell, das zur Vorhersage genutzt wrid\n",
    "                          X=train_data, #Daten für das Vorhersagen der Werte\n",
    "                          y_true=train_label, # erwartete Werte der Vorhersagen\n",
    "                          cmap='binary', # Farbschema\n",
    "                          labels=labels) #Sortierung der Achsen)\n",
    "\n",
    "#Confusion Matrix mit Testdaten\n",
    "_ = plot_confusion_matrix(estimator=model,\n",
    "                          X=test_data,\n",
    "                          y_true=test_label,\n",
    "                          cmap='binary',\n",
    "                          labels=labels)\n",
    "### END SOLUTION"
   ]
  },
  {
   "cell_type": "markdown",
   "id": "proved-proposition",
   "metadata": {},
   "source": [
    "__Ihre Antwort:__\n",
    "\n",
    "Ein möglicher Grund ist die geringe Datenmenge, die als Grundlage zum Lernen und Testen verwendet wurde. Mit mehr Daten kann genauer bestimmt werden, wie die Korrelationen sind.\n",
    "\n",
    "Insbesondere Daten, die nebeneinander liegen, sind ungenau. So wurden Zeilen fälschlicherweise als low klassifiziert, wenn das tatsächliche Label jedoch mid-low ist. In der Grafik ist dies erkennbar, dass es mehr Grautöne gibt und nicht eine schwarze, trennscharfe Linie."
   ]
  },
  {
   "cell_type": "markdown",
   "id": "generous-kruger",
   "metadata": {},
   "source": [
    "### b) Analyse des Einfluss des Parameters n_estimators auf das Ergebnis\n",
    "_Punkte: 1_\n",
    "\n",
    "Zum Schluss wollen wir noch einmal analysieren welchen Einfluss der Parameter `n_estimators` auf das Trainingsergebnis hat. Verwenden Sie dafür die Funktion `validation_curve`, um für den getesteten Parameterbereich des Parameters die nötigen Daten zu sammeln. Speichern Sie die Rückgabe in den Variablen `train_scores` und `valid_score`. Erstellen Sie außerdem eine Variable `n_estimators`, die alle möglichen Werte für den Parameter enthält. \n",
    "\n",
    "Welche Rückschlüsse lässt das Diagramm zu?"
   ]
  },
  {
   "cell_type": "code",
   "execution_count": 17,
   "id": "universal-worry",
   "metadata": {},
   "outputs": [],
   "source": [
    "from sklearn.model_selection import validation_curve\n",
    "\n",
    "### BEGIN SOLUTION\n",
    "n_estimators = [30, 40, 50, 60, 70, 80]\n",
    "\n",
    "train_scores, valid_scores = validation_curve(estimator=pipe,\n",
    "                X=train_data,\n",
    "                y=train_label,\n",
    "                param_name='classifier__n_estimators',\n",
    "                param_range=n_estimators)\n",
    "# IHRE LÖSUNG HIER\n",
    "### END SOLUTION"
   ]
  },
  {
   "cell_type": "code",
   "execution_count": 18,
   "id": "relevant-orientation",
   "metadata": {},
   "outputs": [
    {
     "data": {
      "image/png": "[encoded data removed]",
      "text/plain": [
       "<Figure size 720x720 with 1 Axes>"
      ]
     },
     "metadata": {
      "needs_background": "light"
     },
     "output_type": "display_data"
    }
   ],
   "source": [
    "# first, calculate the means and standard deviations\n",
    "train_scores_mean = train_scores.mean(axis=1)\n",
    "train_scores_std = train_scores.std(axis=1)\n",
    "valid_scores_mean = valid_scores.mean(axis=1)\n",
    "valid_scores_std = valid_scores.std(axis=1)\n",
    "\n",
    "# create the figure\n",
    "plt.figure(figsize=(10, 10))\n",
    "plt.title(\"Validation Curve of RandomForestClassifier with different n_estimators values\")\n",
    "plt.xlabel(\"n_estimators\")\n",
    "plt.ylabel(\"Score\")\n",
    "# plot the training score\n",
    "plt.plot(n_estimators, train_scores_mean, label=\"Training score\", color=\"darkorange\")\n",
    "plt.fill_between(n_estimators, \n",
    "                 train_scores_mean - train_scores_std, \n",
    "                 train_scores_mean + train_scores_std, \n",
    "                 color=\"darkorange\",\n",
    "                 alpha=0.2\n",
    "                )\n",
    "# plot the validation score\n",
    "plt.plot(n_estimators, valid_scores_mean, label=\"Cross-validation score\", color=\"navy\")\n",
    "plt.fill_between(n_estimators, \n",
    "        \n",
    "                 valid_scores_mean - valid_scores_std, \n",
    "                 valid_scores_mean + valid_scores_std, \n",
    "                 color=\"navy\",\n",
    "                 alpha=0.2\n",
    "                )\n",
    "\n",
    "plt.legend(loc=\"best\")\n",
    "plt.show()"
   ]
  },
  {
   "cell_type": "markdown",
   "id": "circular-wages",
   "metadata": {},
   "source": [
    "__Ihre Antwort:__\n",
    "\n",
    "Es ist ein Trend zu erkennen: mit höheren ``n_estimators`` nimmt der Training-Score zu wohingegen der Validierung-Score abnimmt. Es kann also zu einem Overfitting führen. Wie zu erwarten liegt der Score für die Trainingsdaten höher, außerdem ist die Streuung sehr viel niedriger.\n",
    "\n",
    "Der beste Estimator (``model.best_params_``) kann hier erkannt werden: Es ist derjenige mit den höchsten Scores und der geringsten Streuung.\n",
    "\n",
    "Tatsächlich kann es bei der Auswertung Unterschiede geben, wie die Screenshots zeigen."
   ]
  },
  {
   "cell_type": "markdown",
   "id": "c66c2963",
   "metadata": {},
   "source": [
    "![Screenshot](index-1.png)\n",
    "![Screenshot](index-2.png)"
   ]
  },
  {
   "cell_type": "markdown",
   "id": "special-digest",
   "metadata": {},
   "source": [
    "---\n",
    "\n",
    "Wahlpflichtfach Künstliche Intelligenz II: Praktikum | [Startseite](index.ipynb)"
   ]
  }
 ],
 "metadata": {
  "kernelspec": {
   "display_name": "Python 3 (ipykernel)",
   "language": "python",
   "name": "python3"
  },
  "language_info": {
   "codemirror_mode": {
    "name": "ipython",
    "version": 3
   },
   "file_extension": ".py",
   "mimetype": "text/x-python",
   "name": "python",
   "nbconvert_exporter": "python",
   "pygments_lexer": "ipython3",
   "version": "3.9.7"
  }
 },
 "nbformat": 4,
 "nbformat_minor": 5
}
