{
 "cells": [
  {
   "cell_type": "markdown",
   "id": "9d9c94c7",
   "metadata": {},
   "source": [
    "Wahlpflichtfach Künstliche Intelligenz II: Praktikum | [Startseite](index.ipynb)\n",
    "\n",
    "---"
   ]
  },
  {
   "cell_type": "markdown",
   "id": "6b83f5cf",
   "metadata": {},
   "source": [
    "# 03 - Testat zu Scikit-learn (sklearn)\n",
    "__Gruppennummer:__ 4\n",
    "\n",
    "__Mitglieder:__\n",
    "- Pia Kastner\n",
    "- Lars Kölker\n",
    "- Stefan Gerber\n",
    "- Marvin Berndt"
   ]
  },
  {
   "cell_type": "code",
   "execution_count": 2,
   "id": "2b01994e",
   "metadata": {},
   "outputs": [],
   "source": [
    "%matplotlib inline\n",
    "\n",
    "import pandas as pd\n",
    "import numpy as np\n",
    "import sklearn\n",
    "import seaborn as sns\n",
    "from matplotlib import pyplot as plt"
   ]
  },
  {
   "cell_type": "markdown",
   "id": "5902cca3",
   "metadata": {},
   "source": [
    "In diesem Testat werden Sie die unterschiedlichen Arbeitsschritte von der Datenvorverarbeitung über die Modell- und Teststrategieauswahl bis hin zur Evaluierung mit Hilfe von Scikit-learn durchführen. Dabei verwenden wir eine leicht modifizierte Variante des [California Housing Datasets](https://scikit-learn.org/stable/datasets/real_world.html#california-housing-dataset). Dieses enthält die folgenden _acht_ Merkmale:\n",
    "- __MedInc:__ Das mittlere Einkommen im Block\n",
    "- __HouseAge:__ Das mittlere Hausalter im Block\n",
    "- __AveRooms:__ Die durchschnittliche Raumanzahl pro Haushalt im Block\n",
    "- __AveBedrms:__ Die durchschnittliche Schlafzimmeranzahl pro Haushalt im Block\n",
    "- __Population:__ Die Bevölkerunganzahl im Block\n",
    "- __AveOccup:__ Die durchschnittliche Anzahl von Personen pro Haushalt im Block\n",
    "- __Latitude:__ Der Breitengrad des Blocks\n",
    "- __Longitude:__ Der Längengrad des Blocks\n",
    "\n",
    "Jedem Datenpunkt ist genau einer Klasse (_low_, _mid-low_, _mid_, _mid-high_, _high_) zugeordnet, die angibt, wie hoch der mittlere Hauswert im Block ist. Jede Klasse enthält ~20% der Datenpunkte.\n",
    "\n",
    "## Aufgabe 0 - Data Understanding\n",
    "__unbenotet__\n",
    "\n",
    "Laden Sie die Daten und machen Sie sich mit ihnen vertraut. "
   ]
  },
  {
   "cell_type": "code",
   "execution_count": 3,
   "id": "342a2406",
   "metadata": {},
   "outputs": [
    {
     "data": {
      "text/html": [
       "<div>\n",
       "<style scoped>\n",
       "    .dataframe tbody tr th:only-of-type {\n",
       "        vertical-align: middle;\n",
       "    }\n",
       "\n",
       "    .dataframe tbody tr th {\n",
       "        vertical-align: top;\n",
       "    }\n",
       "\n",
       "    .dataframe thead th {\n",
       "        text-align: right;\n",
       "    }\n",
       "</style>\n",
       "<table border=\"1\" class=\"dataframe\">\n",
       "  <thead>\n",
       "    <tr style=\"text-align: right;\">\n",
       "      <th></th>\n",
       "      <th>MedInc</th>\n",
       "      <th>HouseAge</th>\n",
       "      <th>AveRooms</th>\n",
       "      <th>AveBedrms</th>\n",
       "      <th>Population</th>\n",
       "      <th>AveOccup</th>\n",
       "      <th>Latitude</th>\n",
       "      <th>Longitude</th>\n",
       "      <th>Label</th>\n",
       "    </tr>\n",
       "  </thead>\n",
       "  <tbody>\n",
       "    <tr>\n",
       "      <th>0</th>\n",
       "      <td>8.3252</td>\n",
       "      <td>41.0</td>\n",
       "      <td>6.984127</td>\n",
       "      <td>1.023810</td>\n",
       "      <td>322.0</td>\n",
       "      <td>2.555556</td>\n",
       "      <td>37.88</td>\n",
       "      <td>-122.23</td>\n",
       "      <td>high</td>\n",
       "    </tr>\n",
       "    <tr>\n",
       "      <th>1</th>\n",
       "      <td>1.3578</td>\n",
       "      <td>40.0</td>\n",
       "      <td>4.524096</td>\n",
       "      <td>NaN</td>\n",
       "      <td>409.0</td>\n",
       "      <td>2.463855</td>\n",
       "      <td>37.85</td>\n",
       "      <td>-122.27</td>\n",
       "      <td>mid-low</td>\n",
       "    </tr>\n",
       "    <tr>\n",
       "      <th>2</th>\n",
       "      <td>2.0978</td>\n",
       "      <td>52.0</td>\n",
       "      <td>4.215190</td>\n",
       "      <td>1.060759</td>\n",
       "      <td>946.0</td>\n",
       "      <td>2.394937</td>\n",
       "      <td>37.83</td>\n",
       "      <td>-122.26</td>\n",
       "      <td>mid-low</td>\n",
       "    </tr>\n",
       "    <tr>\n",
       "      <th>3</th>\n",
       "      <td>3.3929</td>\n",
       "      <td>NaN</td>\n",
       "      <td>5.994652</td>\n",
       "      <td>1.128342</td>\n",
       "      <td>554.0</td>\n",
       "      <td>2.962567</td>\n",
       "      <td>37.83</td>\n",
       "      <td>-122.29</td>\n",
       "      <td>low</td>\n",
       "    </tr>\n",
       "    <tr>\n",
       "      <th>4</th>\n",
       "      <td>NaN</td>\n",
       "      <td>17.0</td>\n",
       "      <td>3.197232</td>\n",
       "      <td>1.000000</td>\n",
       "      <td>609.0</td>\n",
       "      <td>2.107266</td>\n",
       "      <td>37.81</td>\n",
       "      <td>-122.28</td>\n",
       "      <td>mid</td>\n",
       "    </tr>\n",
       "    <tr>\n",
       "      <th>...</th>\n",
       "      <td>...</td>\n",
       "      <td>...</td>\n",
       "      <td>...</td>\n",
       "      <td>...</td>\n",
       "      <td>...</td>\n",
       "      <td>...</td>\n",
       "      <td>...</td>\n",
       "      <td>...</td>\n",
       "      <td>...</td>\n",
       "    </tr>\n",
       "    <tr>\n",
       "      <th>1027</th>\n",
       "      <td>3.1908</td>\n",
       "      <td>16.0</td>\n",
       "      <td>4.386792</td>\n",
       "      <td>0.981132</td>\n",
       "      <td>1386.0</td>\n",
       "      <td>2.179245</td>\n",
       "      <td>38.54</td>\n",
       "      <td>-121.72</td>\n",
       "      <td>mid</td>\n",
       "    </tr>\n",
       "    <tr>\n",
       "      <th>1028</th>\n",
       "      <td>NaN</td>\n",
       "      <td>38.0</td>\n",
       "      <td>6.408696</td>\n",
       "      <td>1.039130</td>\n",
       "      <td>1123.0</td>\n",
       "      <td>2.441304</td>\n",
       "      <td>38.67</td>\n",
       "      <td>-121.78</td>\n",
       "      <td>mid-low</td>\n",
       "    </tr>\n",
       "    <tr>\n",
       "      <th>1029</th>\n",
       "      <td>2.8365</td>\n",
       "      <td>32.0</td>\n",
       "      <td>5.371901</td>\n",
       "      <td>1.060606</td>\n",
       "      <td>1145.0</td>\n",
       "      <td>3.154270</td>\n",
       "      <td>38.76</td>\n",
       "      <td>-121.77</td>\n",
       "      <td>low</td>\n",
       "    </tr>\n",
       "    <tr>\n",
       "      <th>1030</th>\n",
       "      <td>3.1029</td>\n",
       "      <td>18.0</td>\n",
       "      <td>4.945455</td>\n",
       "      <td>1.112121</td>\n",
       "      <td>769.0</td>\n",
       "      <td>2.330303</td>\n",
       "      <td>NaN</td>\n",
       "      <td>-121.57</td>\n",
       "      <td>low</td>\n",
       "    </tr>\n",
       "    <tr>\n",
       "      <th>1031</th>\n",
       "      <td>4.5625</td>\n",
       "      <td>40.0</td>\n",
       "      <td>4.125000</td>\n",
       "      <td>0.854167</td>\n",
       "      <td>151.0</td>\n",
       "      <td>3.145833</td>\n",
       "      <td>39.05</td>\n",
       "      <td>-121.48</td>\n",
       "      <td>low</td>\n",
       "    </tr>\n",
       "  </tbody>\n",
       "</table>\n",
       "<p>1032 rows × 9 columns</p>\n",
       "</div>"
      ],
      "text/plain": [
       "      MedInc  HouseAge  AveRooms  AveBedrms  Population  AveOccup  Latitude  \\\n",
       "0     8.3252      41.0  6.984127   1.023810       322.0  2.555556     37.88   \n",
       "1     1.3578      40.0  4.524096        NaN       409.0  2.463855     37.85   \n",
       "2     2.0978      52.0  4.215190   1.060759       946.0  2.394937     37.83   \n",
       "3     3.3929       NaN  5.994652   1.128342       554.0  2.962567     37.83   \n",
       "4        NaN      17.0  3.197232   1.000000       609.0  2.107266     37.81   \n",
       "...      ...       ...       ...        ...         ...       ...       ...   \n",
       "1027  3.1908      16.0  4.386792   0.981132      1386.0  2.179245     38.54   \n",
       "1028     NaN      38.0  6.408696   1.039130      1123.0  2.441304     38.67   \n",
       "1029  2.8365      32.0  5.371901   1.060606      1145.0  3.154270     38.76   \n",
       "1030  3.1029      18.0  4.945455   1.112121       769.0  2.330303       NaN   \n",
       "1031  4.5625      40.0  4.125000   0.854167       151.0  3.145833     39.05   \n",
       "\n",
       "      Longitude    Label  \n",
       "0       -122.23     high  \n",
       "1       -122.27  mid-low  \n",
       "2       -122.26  mid-low  \n",
       "3       -122.29      low  \n",
       "4       -122.28      mid  \n",
       "...         ...      ...  \n",
       "1027    -121.72      mid  \n",
       "1028    -121.78  mid-low  \n",
       "1029    -121.77      low  \n",
       "1030    -121.57      low  \n",
       "1031    -121.48      low  \n",
       "\n",
       "[1032 rows x 9 columns]"
      ]
     },
     "execution_count": 3,
     "metadata": {},
     "output_type": "execute_result"
    }
   ],
   "source": [
    "# Daten einlesen\n",
    "housing_df = pd.read_csv('california_housing_data.csv')\n",
    "housing_df"
   ]
  },
  {
   "cell_type": "markdown",
   "id": "08da33c8",
   "metadata": {},
   "source": [
    "Eventuell hilft Ihnen auch der folgende Graph."
   ]
  },
  {
   "cell_type": "code",
   "execution_count": 11,
   "id": "5ad0e899",
   "metadata": {},
   "outputs": [
    {
     "ename": "AttributeError",
     "evalue": "module 'seaborn' has no attribute 'set_theme'",
     "output_type": "error",
     "traceback": [
      "\u001b[1;31m---------------------------------------------------------------------------\u001b[0m",
      "\u001b[1;31mAttributeError\u001b[0m                            Traceback (most recent call last)",
      "\u001b[1;32m<ipython-input-11-d2a5b7dbf73d>\u001b[0m in \u001b[0;36m<module>\u001b[1;34m\u001b[0m\n\u001b[0;32m      1\u001b[0m \u001b[1;31m# Theme setzen\u001b[0m\u001b[1;33m\u001b[0m\u001b[1;33m\u001b[0m\u001b[1;33m\u001b[0m\u001b[0m\n\u001b[1;32m----> 2\u001b[1;33m \u001b[0msns\u001b[0m\u001b[1;33m.\u001b[0m\u001b[0mset_theme\u001b[0m\u001b[1;33m(\u001b[0m\u001b[0mstyle\u001b[0m\u001b[1;33m=\u001b[0m\u001b[1;34m\"whitegrid\"\u001b[0m\u001b[1;33m)\u001b[0m\u001b[1;33m\u001b[0m\u001b[1;33m\u001b[0m\u001b[0m\n\u001b[0m\u001b[0;32m      3\u001b[0m \u001b[1;31m# Plotten\u001b[0m\u001b[1;33m\u001b[0m\u001b[1;33m\u001b[0m\u001b[1;33m\u001b[0m\u001b[0m\n\u001b[0;32m      4\u001b[0m \u001b[0msns\u001b[0m\u001b[1;33m.\u001b[0m\u001b[0mpairplot\u001b[0m\u001b[1;33m(\u001b[0m\u001b[0mhousing_df\u001b[0m\u001b[1;33m,\u001b[0m \u001b[0mhue\u001b[0m\u001b[1;33m=\u001b[0m\u001b[1;34m\"Label\"\u001b[0m\u001b[1;33m)\u001b[0m\u001b[1;33m\u001b[0m\u001b[1;33m\u001b[0m\u001b[0m\n",
      "\u001b[1;31mAttributeError\u001b[0m: module 'seaborn' has no attribute 'set_theme'"
     ]
    }
   ],
   "source": [
    "# Theme setzen\n",
    "sns.set_theme(style=\"whitegrid\")\n",
    "# Plotten\n",
    "sns.pairplot(housing_df, hue=\"Label\")"
   ]
  },
  {
   "cell_type": "markdown",
   "id": "aa2a5a21",
   "metadata": {},
   "source": [
    "## Aufgabe 1 - Data Preparation (4 Punkte)\n",
    "Die erste Aufgabe ist es den Datensatz fürs maschinelle Lernen vorzubereiten. Dazu sind die folgenden Schritte nötig:\n",
    "- a) Auswahl der Strategie(n) zum Ersetzen der fehlenden Werte\n",
    "- b) Auswahl der Strategie(n) zur Skalierung der Daten\n",
    "- c) Erstellen der Preparation-Pipeline\n",
    "\n",
    "Da das Ersetzen der fehlenden Werte und die Skalierung der Daten in einer `Pipeline` passieren soll, können Sie nur Algorithmen verwenden, die __sklearn__ bereitstellt.\n",
    "\n",
    "_Hinweise/Tipps:_ \n",
    "- Sie müssen die unterschiedlichen Algorithmen nicht (bis zum Maximum) optimieren, hier geht es gerade eher darum zu überprüfen, ob Sie die Algorithmen generell verstanden haben und Sie richtig einsetzen/kombinieren können.\n",
    "- Gucken Sie sich nochmal die besprochenen Algorithmen an und überlegen wo die Stärken und Schwächen liegen.\n",
    "- Sie können selbstverständlich auch unterschiedliche Methoden für die einzelnen Merkmale wählen.  \n",
    "\n",
    "### a) Auswahl der Strategie(n) zum Ersetzen der fehlenden Werte\n",
    "_Punkte: 1_\n",
    "\n",
    "Als erstes müssen Sie sich eine Strategie zum Ersetzen der fehlenden Werte überlegen. Beschreiben Sie diese in der nachfolgenden Markdown-Zeile und begründen Sie, warum Sie diese Strategie gewählt haben. "
   ]
  },
  {
   "cell_type": "markdown",
   "id": "a9767d5c",
   "metadata": {},
   "source": [
    "__Ihre Antwort:__\n",
    "\n",
    "Für das Ersetzen der Werte (Imputation) haben wir uns für eine mehrdimensionale Imputation entschieden. Bei der mehrdimensionalen Imputation wird jeder fehlende Wert als Funktion anderer Merkmale modelliert und diese Schätzung dann zur Imputation verwendet. Im Vergleich zu der eindimensionalen Imputation haben die Spalten bei der mehrdimensionalen Imputation einen Bezug zueinander. Dies liegt auch in diesem Datensatz vor, da die ersten 6 und die letzte Spalte einen Bezug zueinander haben. Bei den Spalten \"Latitude\" und \"Longitude\" können einen Bezug zueinander haben, da es bspw. wohlhabenere Wohnsiedlungen und weniger wohlhabenere Wohnsiedlungen geben kann.\n"
   ]
  },
  {
   "cell_type": "markdown",
   "id": "ec454c14",
   "metadata": {},
   "source": [
    "### b) Auswahl der Strategie(n) zur Skalierung der Daten\n",
    "_Punkte: 1_\n",
    "\n",
    "Außerdem sollten die Daten skaliert/normalisiert werden. Beschreiben Sie Ihre Strategie und begründen Sie warum Sie diese Strategie bzw. Methoden gewählt haben."
   ]
  },
  {
   "cell_type": "markdown",
   "id": "406104d0",
   "metadata": {},
   "source": [
    "__Ihre Antwort:__\n",
    "\n",
    "Bei der Skalierung der Daten haben wir uns für die Skalierung entschieden, da die Skalierung gerade bei unterschiedlich skalierten Variablen hilfreich ist. In diesem Datensatz sind viele Spalten sehr unterschiedlich skaliert (wie bspw. \"HouseAge\" und \"Population\").\n",
    "\n"
   ]
  },
  {
   "cell_type": "markdown",
   "id": "4db8f973",
   "metadata": {},
   "source": [
    "### c) Erstellen der Preparation-Pipeline\n",
    "_Punkte: 2_\n",
    "\n",
    "In der nächsten Codezeile können Sie nun die `preparation_pipeline` erstellen. In dieser sollen beide vorherigen Schritte enthalten sein. Sie müssen die Pipeline aber noch nicht \"trainieren\" (Aufruf der Methode `fit()`)."
   ]
  },
  {
   "cell_type": "code",
   "execution_count": 12,
   "id": "8006c292",
   "metadata": {},
   "outputs": [],
   "source": [
    "from sklearn.pipeline import Pipeline \n",
    "from sklearn.experimental import enable_iterative_imputer\n",
    "from sklearn.impute import IterativeImputer\n",
    "from sklearn.preprocessing import StandardScaler\n",
    "\n",
    "### BEGIN SOLUTION\n",
    "# Pipeline erstellen mit einem IterativeImputer und StandardScaler\n",
    "preparation_pipeline = Pipeline([\n",
    "    (\"imputer\", IterativeImputer()),\n",
    "    (\"scaler\", StandardScaler())\n",
    "]) \n",
    "### END SOLUTION"
   ]
  },
  {
   "cell_type": "markdown",
   "id": "b89095fe",
   "metadata": {},
   "source": [
    "Warum macht es noch keinen Sinn die Pipeline jetzt schon zu trainieren?"
   ]
  },
  {
   "cell_type": "markdown",
   "id": "9093ea43",
   "metadata": {},
   "source": [
    "__Ihre Antwort:__\n",
    "- Wir haben noch keine separaten Trainings- und Testdatensets und daher würden wir Testdaten zum Training verwenden.\n"
   ]
  },
  {
   "cell_type": "markdown",
   "id": "0bba3c9d",
   "metadata": {},
   "source": [
    "## Aufgabe 2 - Trainingsvorbereitung und Modellauswahl  (4 Punkte)\n",
    "Ihre nächste Aufgabe ist es das Training vorzubereiten und den richtigen ML-Algorithmus auszuwählen. Dafür müssen Sie die folgenden Teilaufgaben erledigen:\n",
    "- a) Erstellen des Test- und Trainingsdatenset\n",
    "- b) Kreuzvalidierung im Trainingsprozess\n",
    "- c) Optimieren eines ML-Algorithmus\n",
    "- d) Testen der trainierten Pipeline\n",
    "\n",
    "### a) Erstellen des Test- und Trainingsdatenset\n",
    "_Punkte: 0,5_\n",
    "\n",
    "Zuerst benötigen wir ein Test- und ein Trainingsdatenset. Das Testdatenset soll 30% der gesamten Daten enthalten. "
   ]
  },
  {
   "cell_type": "code",
   "execution_count": 13,
   "id": "fda2d0fe",
   "metadata": {},
   "outputs": [],
   "source": [
    "# get the data and target from the data frame \n",
    "data = housing_df.loc[:, :'Longitude']\n",
    "target = housing_df['Label']\n",
    "\n",
    "### BEGIN SOLUTION\n",
    "from sklearn.model_selection import train_test_split\n",
    "#train_test_split teilt die Daten in Test- und Trainingsdaten im Verhältnis 30/70 auf\n",
    "train_data, test_data, train_label, test_label = train_test_split(data,target,test_size = 0.3)\n",
    "### END SOLUTION"
   ]
  },
  {
   "cell_type": "markdown",
   "id": "74c39392",
   "metadata": {},
   "source": [
    "### b) Kreuzvalidierung im Trainingsprozess\n",
    "_Punkte: 1_\n",
    "\n",
    "Was ist unter Kreuzvalidierung im Trainingsprozess zu verstehen und wieso wird es verwendet?"
   ]
  },
  {
   "cell_type": "markdown",
   "id": "adb23539",
   "metadata": {},
   "source": [
    "__Ihre Antwort:__\n",
    "\n",
    "- Während des Trainings müssen unterschiedliche Hyperparameter optimiert werden.\n",
    "- Um die optimalen Parameter auswählen zu können, muss auch getestet werden.\n",
    "- Daher wird ein weiteres Datenset benötigt, das sogenannte Validierungsdatenset.\n",
    "- Da dadurch die Daten fürs Training weiter schrumpfen, wurde die Kreuzvalidierung erfunden.\n",
    "- Splitten der Trainingsdaten in  𝑘\n",
    "  Subsets. Das Netzwerk  𝑘\n",
    "  mal trainieren und dabei immer mit dem  𝑘 ten Subset testen. Durchschnitt der Testergebnisse ist Gesamtergebnis für eine bestimmte Hyperparameterkombination.\n"
   ]
  },
  {
   "cell_type": "markdown",
   "id": "aba85c74",
   "metadata": {},
   "source": [
    "### c) Optimieren eines ML-Algorithmus\n",
    "_Punkte: 1,5_\n",
    "\n",
    "Im nächsten Schritt optimieren wir einen ML-Algorithmus. Da wir ein Klassifikationsproblem lösen wollen, kommen nur Klassifikationsalgorithmen als mögliche Algorithmen in Frage. Wir werden den [RandomForestClassifier](https://scikit-learn.org/stable/modules/generated/sklearn.ensemble.RandomForestClassifier.html) verwenden. \n",
    "\n",
    "Der `RandomForestClassifier` soll eine maximale Tiefe von 6 haben und maximal 75% der Daten pro Baum verwenden. Setzen Sie den `random_state` auf 0. Für die Anzahl der Bäume sollen die folgenden Werte überprüft werden: `[30, 40, 50, 60, 70, 80]`. Außerdem sollen die beiden Möglichkeiten `['gini', 'entropy']` für das Kriterium, nach dem geteilt wird, getestet werden.\n",
    "\n",
    "Führen Sie die folgenden Schritte durch:\n",
    "- Erstellen Sie eine Pipeline, die zuerst die vorher bereits erstellte Vorverarbeitung durchführt und anschließend den `RandomForestClassifier` aufruft. \n",
    "- Finden Sie die optimalen Parameter aus den angegebenen Parameterbereichen.\n",
    "- Speichern Sie die `Pipeline` mit den besten Parametern in der Variable `trained_pipeline`\n",
    "- Geben Sie die beste `Pipeline` aus"
   ]
  },
  {
   "cell_type": "code",
   "execution_count": 14,
   "id": "2bfe1f08",
   "metadata": {},
   "outputs": [],
   "source": [
    "from sklearn.ensemble import RandomForestClassifier\n",
    "from sklearn.model_selection import GridSearchCV\n",
    "# Hier können Sie weitere benötigte Importe hinzufügen\n",
    "\n",
    "### BEGIN SOLUTION\n",
    "# Pipeline erneut erstellen mit RandomForestClassifier als weiteren Parameter erstellen\n",
    "pipeline = Pipeline([\n",
    "    (\"imputer\", IterativeImputer()),\n",
    "    (\"scaler\", StandardScaler()),\n",
    "    (\"classifier\", RandomForestClassifier(max_depth = 6, # Maximale Tiefe auf 6 begrenzen\n",
    "                                         max_samples = 0.75, # Maximale Daten pro Baum auf 75% begrenzen\n",
    "                                         random_state = 0 # Um den Seed festzulegen mit dem trainiert wird\n",
    "                                         ))\n",
    "]) \n",
    "### END SOLUTION"
   ]
  },
  {
   "cell_type": "code",
   "execution_count": 17,
   "id": "ca02799e",
   "metadata": {},
   "outputs": [],
   "source": [
    "# Erstellen des GridSearch, um beste Pipeline anhand der Parameter n_estimator und criterion zu analysieren\n",
    "model = GridSearchCV(estimator=pipeline,\n",
    "                     param_grid={\n",
    "                         'classifier__n_estimators' : [30, 40, 50, 60, 70, 80],\n",
    "                         'classifier__criterion':['gini', 'entropy']                         \n",
    "                     }\n",
    ")"
   ]
  },
  {
   "cell_type": "code",
   "execution_count": 18,
   "id": "b522785d",
   "metadata": {},
   "outputs": [
    {
     "data": {
      "text/plain": [
       "GridSearchCV(cv=None, error_score=nan,\n",
       "             estimator=Pipeline(memory=None,\n",
       "                                steps=[('imputer',\n",
       "                                        IterativeImputer(add_indicator=False,\n",
       "                                                         estimator=None,\n",
       "                                                         imputation_order='ascending',\n",
       "                                                         initial_strategy='mean',\n",
       "                                                         max_iter=10,\n",
       "                                                         max_value=None,\n",
       "                                                         min_value=None,\n",
       "                                                         missing_values=nan,\n",
       "                                                         n_nearest_features=None,\n",
       "                                                         random_state=None,\n",
       "                                                         sample_posterior=False,\n",
       "                                                         skip_complete=False,\n",
       "                                                         tol=0.001,\n",
       "                                                         ver...\n",
       "                                                               min_samples_split=2,\n",
       "                                                               min_weight_fraction_leaf=0.0,\n",
       "                                                               n_estimators=100,\n",
       "                                                               n_jobs=None,\n",
       "                                                               oob_score=False,\n",
       "                                                               random_state=0,\n",
       "                                                               verbose=0,\n",
       "                                                               warm_start=False))],\n",
       "                                verbose=False),\n",
       "             iid='deprecated', n_jobs=None,\n",
       "             param_grid={'classifier__criterion': ['gini', 'entropy'],\n",
       "                         'classifier__n_estimators': [30, 40, 50, 60, 70, 80]},\n",
       "             pre_dispatch='2*n_jobs', refit=True, return_train_score=False,\n",
       "             scoring=None, verbose=0)"
      ]
     },
     "execution_count": 18,
     "metadata": {},
     "output_type": "execute_result"
    }
   ],
   "source": [
    "# Alle Pipelines mit den Trainingsdaten trainieren\n",
    "model.fit(train_data, train_label)"
   ]
  },
  {
   "cell_type": "code",
   "execution_count": 22,
   "id": "b25f4856",
   "metadata": {},
   "outputs": [
    {
     "data": {
      "text/plain": [
       "Pipeline(memory=None,\n",
       "         steps=[('imputer',\n",
       "                 IterativeImputer(add_indicator=False, estimator=None,\n",
       "                                  imputation_order='ascending',\n",
       "                                  initial_strategy='mean', max_iter=10,\n",
       "                                  max_value=None, min_value=None,\n",
       "                                  missing_values=nan, n_nearest_features=None,\n",
       "                                  random_state=None, sample_posterior=False,\n",
       "                                  skip_complete=False, tol=0.001, verbose=0)),\n",
       "                ('scaler',\n",
       "                 StandardScaler(copy=True, wit...\n",
       "                 RandomForestClassifier(bootstrap=True, ccp_alpha=0.0,\n",
       "                                        class_weight=None, criterion='entropy',\n",
       "                                        max_depth=6, max_features='auto',\n",
       "                                        max_leaf_nodes=None, max_samples=0.75,\n",
       "                                        min_impurity_decrease=0.0,\n",
       "                                        min_impurity_split=None,\n",
       "                                        min_samples_leaf=1, min_samples_split=2,\n",
       "                                        min_weight_fraction_leaf=0.0,\n",
       "                                        n_estimators=70, n_jobs=None,\n",
       "                                        oob_score=False, random_state=0,\n",
       "                                        verbose=0, warm_start=False))],\n",
       "         verbose=False)"
      ]
     },
     "execution_count": 22,
     "metadata": {},
     "output_type": "execute_result"
    }
   ],
   "source": [
    "# Ausgabe des besten Estimators\n",
    "trained_pipeline = model.best_estimator_\n",
    "\n",
    "trained_pipeline"
   ]
  },
  {
   "cell_type": "markdown",
   "id": "1da09e55",
   "metadata": {},
   "source": [
    "### d) Testen der trainierten Pipeline\n",
    "_Punkte: 1_\n",
    "\n",
    "Nachdem Sie die `Pipeline` trainiert haben, ist es nun Zeit diese zu testen. Lassen Sie sich dafür den Score einmal für das Test- und einmal für das Trainingsdatenset berechnen. Was fällt auf? Welche Metrik wird für das berechnen verwendet bzw. was sagt sie aus? Ist diese Metrik hier sinnvoll?"
   ]
  },
  {
   "cell_type": "code",
   "execution_count": 23,
   "id": "1d0022b0",
   "metadata": {},
   "outputs": [
    {
     "name": "stdout",
     "output_type": "stream",
     "text": [
      "0.8379501385041551\n",
      "0.5032258064516129\n"
     ]
    }
   ],
   "source": [
    "### BEGIN SOLUTION\n",
    "from sklearn.metrics import accuracy_score\n",
    "\n",
    "# Predictions berechnen mit der trainierten Pipeline\n",
    "train_predict = trained_pipeline.predict(train_data)\n",
    "test_predict = trained_pipeline.predict(test_data)\n",
    "\n",
    "# Ausgabe der Genaugikeit\n",
    "print(accuracy_score(y_true = train_label, y_pred = train_predict))\n",
    "print(accuracy_score(y_true = test_label, y_pred = test_predict))\n",
    "\n",
    "### END SOLUTION"
   ]
  },
  {
   "cell_type": "markdown",
   "id": "22c215f4",
   "metadata": {},
   "source": [
    "__Ihre Antwort:__\n",
    "\n",
    "Die Trainingsdaten passen zu 80% auf die Trainingslabel. Bei den Trainingsdaten ist es zu erwarten, weil wir es damit trainiert haben. Die Testdaten kennt er noch nicht, deshalb gibt es hier nur eine Genauigkeit von 50%. Es ist dabei zu beachten, dass diese Zahlen nur angeben, wie wahrscheinlich es ist, ob unsere Pipeline zu 100% das richtige Label trifft. Wenn die Pipeline als Label \"low-mid\" ausgeben hat, aber der wahre Wert \"mid\" ist, dann wird nicht beachtet, dass der Wert näher dran ist, als z.B. \"low\" und \"high\".\n"
   ]
  },
  {
   "cell_type": "markdown",
   "id": "98e3130d",
   "metadata": {},
   "source": [
    "## Aufgabe 3 - Weitere Evaluierung und Visualisierung (2 Punkte)\n",
    "Im letzten Schritt wollen wir uns die Ergebnisse noch einmal genauer angucken, um eventuell zu verstehen, was passiert ist. Dazu sind die folgenden Teilaufgaben zu erledigen:\n",
    "- a) Erstellen eines Confusion Matrix-Diagramms\n",
    "- b) Analyse des Einfluss des Parameters n_estimators auf das Ergebnis\n",
    "\n",
    "### a) Erstellen eines Confusion Matrix-Diagramms\n",
    "_Punkte: 1_\n",
    "\n",
    "Erstellen Sie mit Hilfe der `plot_confusion_matrix`-Funktion das Diagramm der Confusion Matrix. Analysieren Sie dieses anschließend.\n",
    "\n",
    "_Tipps:_\n",
    "- Welche Klassen wurden falsch klassifiziert?\n",
    "- Was könnten mögliche Gründe dafür sein?"
   ]
  },
  {
   "cell_type": "code",
   "execution_count": 24,
   "id": "83bc2f2f",
   "metadata": {},
   "outputs": [
    {
     "data": {
      "text/plain": [
       "<sklearn.metrics._plot.confusion_matrix.ConfusionMatrixDisplay at 0x22cfc237608>"
      ]
     },
     "execution_count": 24,
     "metadata": {},
     "output_type": "execute_result"
    },
    {
     "data": {
      "image/png": "[encoded data removed]",
      "text/plain": [
       "<Figure size 432x288 with 2 Axes>"
      ]
     },
     "metadata": {
      "needs_background": "light"
     },
     "output_type": "display_data"
    },
    {
     "data": {
      "image/png": "[encoded data removed]",
      "text/plain": [
       "<Figure size 432x288 with 2 Axes>"
      ]
     },
     "metadata": {
      "needs_background": "light"
     },
     "output_type": "display_data"
    }
   ],
   "source": [
    "from sklearn.metrics import plot_confusion_matrix\n",
    "\n",
    "### BEGIN SOLUTION\n",
    "plot_confusion_matrix(estimator=trained_pipeline, # Trainierte Pipeline\n",
    "                     X = train_data, # Trainingsdaten\n",
    "                     y_true = train_label,\n",
    "                     labels = ['low', 'mid-low', 'mid', 'mid-high', 'high'], # Labelsortierung überschreiben\n",
    "                     cmap = \"bone_r\"\n",
    "                     )\n",
    "\n",
    "plot_confusion_matrix(estimator=trained_pipeline, # Trainierte Pipeline\n",
    "                     X = test_data, # Testdaten\n",
    "                     y_true = test_label,\n",
    "                     labels = ['low', 'mid-low', 'mid', 'mid-high', 'high'], # Labelsortierung überschreiben\n",
    "                     cmap = \"bone_r\"\n",
    "                     )\n",
    "### END SOLUTION"
   ]
  },
  {
   "cell_type": "markdown",
   "id": "a4703178",
   "metadata": {},
   "source": [
    "__Ihre Antwort:__\n",
    "\n",
    "Bei den trainierten Daten ist eine klare Tendenz zu den richtigen Werten zu sehen (geringe Streuung). Bei den Testdaten ist die Streuung deutlich höher. Im Gegensatz zu den Accuray-Werten ist hier zu sehen, dass unsere Pipeline die Werte im richtigen Umfeld trifft.\n"
   ]
  },
  {
   "cell_type": "markdown",
   "id": "2e0629c1",
   "metadata": {},
   "source": [
    "### b) Analyse des Einfluss des Parameters n_estimators auf das Ergebnis\n",
    "_Punkte: 1_\n",
    "\n",
    "Zum Schluss wollen wir noch einmal analysieren welchen Einfluss der Parameter `n_estimators` auf das Trainingsergebnis hat. Verwenden Sie dafür die Funktion `validation_curve`, um für den getesteten Parameterbereich des Parameters die nötigen Daten zu sammeln. Speichern Sie die Rückgabe in den Variablen `train_scores` und `valid_score`. Erstellen Sie außerdem eine Variable `n_estimators`, die alle möglichen Werte für den Parameter enthält. \n",
    "\n",
    "Welche Rückschlüsse lässt das Diagramm zu?"
   ]
  },
  {
   "cell_type": "code",
   "execution_count": 27,
   "id": "aa85cc5d",
   "metadata": {},
   "outputs": [],
   "source": [
    "from sklearn.model_selection import validation_curve\n",
    "\n",
    "### BEGIN SOLUTION\n",
    "\n",
    "# Estimators definieren\n",
    "n_estimators = [30, 40, 50, 60, 70, 80]\n",
    "\n",
    "# Validationskurve erstellen\n",
    "train_scores, valid_scores = validation_curve(estimator=pipeline,\n",
    "                                            X = train_data,\n",
    "                                            y = train_label,\n",
    "                                            param_name = 'classifier__n_estimators',\n",
    "                                            param_range = n_estimators\n",
    "                                            )\n",
    "\n",
    "### END SOLUTION"
   ]
  },
  {
   "cell_type": "code",
   "execution_count": 28,
   "id": "18e593ba",
   "metadata": {},
   "outputs": [
    {
     "data": {
      "text/plain": [
       "array([[0.54482759, 0.50344828, 0.5       , 0.54166667, 0.49305556],\n",
       "       [0.55862069, 0.51034483, 0.48611111, 0.52083333, 0.50694444],\n",
       "       [0.57241379, 0.49655172, 0.51388889, 0.54166667, 0.49305556],\n",
       "       [0.5862069 , 0.49655172, 0.49305556, 0.52777778, 0.49305556],\n",
       "       [0.57241379, 0.50344828, 0.52777778, 0.55555556, 0.48611111],\n",
       "       [0.56551724, 0.50344828, 0.51388889, 0.55555556, 0.47222222]])"
      ]
     },
     "execution_count": 28,
     "metadata": {},
     "output_type": "execute_result"
    }
   ],
   "source": [
    "# Gültige Scores ausgeben\n",
    "valid_scores"
   ]
  },
  {
   "cell_type": "code",
   "execution_count": 29,
   "id": "9cda4bc7",
   "metadata": {},
   "outputs": [
    {
     "data": {
      "text/plain": [
       "array([[0.79896014, 0.79896014, 0.79238754, 0.79930796, 0.80449827],\n",
       "       [0.77816291, 0.81282496, 0.80795848, 0.82525952, 0.80276817],\n",
       "       [0.79202773, 0.81109185, 0.82352941, 0.82352941, 0.80968858],\n",
       "       [0.81802426, 0.82149047, 0.8200692 , 0.83564014, 0.80449827],\n",
       "       [0.80242634, 0.83188908, 0.81487889, 0.83910035, 0.80276817],\n",
       "       [0.81455806, 0.83362218, 0.81487889, 0.84256055, 0.81314879]])"
      ]
     },
     "execution_count": 29,
     "metadata": {},
     "output_type": "execute_result"
    }
   ],
   "source": [
    "# Zu trainierende Scores ausgeben\n",
    "train_scores"
   ]
  },
  {
   "cell_type": "code",
   "execution_count": 16,
   "id": "35ea8d7e",
   "metadata": {},
   "outputs": [
    {
     "data": {
      "image/png": "[encoded data removed]",
      "text/plain": [
       "<Figure size 720x720 with 1 Axes>"
      ]
     },
     "metadata": {},
     "output_type": "display_data"
    }
   ],
   "source": [
    "# first, calculate the means and standard deviations\n",
    "train_scores_mean = train_scores.mean(axis=1)\n",
    "train_scores_std = train_scores.std(axis=1)\n",
    "valid_scores_mean = valid_scores.mean(axis=1)\n",
    "valid_scores_std = valid_scores.std(axis=1)\n",
    "\n",
    "# create the figure\n",
    "plt.figure(figsize=(10, 10))\n",
    "plt.title(\"Validation Curve of RandomForestClassifier with different n_estimators values\")\n",
    "plt.xlabel(\"n_estimators\")\n",
    "plt.ylabel(\"Score\")\n",
    "# plot the training score\n",
    "plt.plot(n_estimators, train_scores_mean, label=\"Training score\", color=\"darkorange\")\n",
    "plt.fill_between(n_estimators, \n",
    "                 train_scores_mean - train_scores_std, \n",
    "                 train_scores_mean + train_scores_std, \n",
    "                 color=\"darkorange\",\n",
    "                 alpha=0.2\n",
    "                )\n",
    "# plot the validation score\n",
    "plt.plot(n_estimators, valid_scores_mean, label=\"Cross-validation score\", color=\"navy\")\n",
    "plt.fill_between(n_estimators, \n",
    "                 valid_scores_mean - valid_scores_std, \n",
    "                 valid_scores_mean + valid_scores_std, \n",
    "                 color=\"navy\",\n",
    "                 alpha=0.2\n",
    "                )\n",
    "\n",
    "plt.legend(loc=\"best\")\n",
    "plt.show()"
   ]
  },
  {
   "cell_type": "markdown",
   "id": "47b39dcc",
   "metadata": {},
   "source": [
    "__Ihre Antwort:__\n",
    "\n",
    "Unterschiedliche Estimator weisen unterschiedliche Standardabweichungen auf. Der Estimator mit der geringsten Standardabweichung wurde auch als beste Pipeline gekennzeichnet. Die Streuungen bei dem unteren Graphen sind deutlich höher.\n"
   ]
  },
  {
   "cell_type": "markdown",
   "id": "5d636513",
   "metadata": {},
   "source": [
    "---\n",
    "\n",
    "Wahlpflichtfach Künstliche Intelligenz II: Praktikum | [Startseite](index.ipynb)"
   ]
  }
 ],
 "metadata": {
  "kernelspec": {
   "display_name": "Python 3 (ipykernel)",
   "language": "python",
   "name": "python3"
  },
  "language_info": {
   "codemirror_mode": {
    "name": "ipython",
    "version": 3
   },
   "file_extension": ".py",
   "mimetype": "text/x-python",
   "name": "python",
   "nbconvert_exporter": "python",
   "pygments_lexer": "ipython3",
   "version": "3.9.7"
  }
 },
 "nbformat": 4,
 "nbformat_minor": 5
}
