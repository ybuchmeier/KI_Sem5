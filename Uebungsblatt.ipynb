{
 "cells": [
  {
   "cell_type": "markdown",
   "id": "00fc2c82",
   "metadata": {},
   "source": [
    "# Übungsblatt zu Convolutional Neural Networks (CNN)"
   ]
  },
  {
   "cell_type": "markdown",
   "id": "1ea1e2db",
   "metadata": {},
   "source": [
    "Im Folgenden werden wir die Mechaniken der Convolution, ReLu und des Poolings manuell durchführen. Danach schauen wir uns das\n",
    "Ganze einmal mit einem vorgefertigten Paket, dem openCV Paket an."
   ]
  },
  {
   "cell_type": "markdown",
   "id": "60a5fdd9",
   "metadata": {},
   "source": [
    "Zuerst importieren wir nötige Pakete, numpy zur Datenvorverarbeitung und seaborn zur visuellen Darstellung der Ergebnisse. Danach implementieren wir die Funktionen isSquare (Überprüfung, ob eine Liste in quadratischer Form vorliegt) und prepare_for_heatmap (Datenvorverarbeitung für das von seaborn verwendete Format), welche wir im weiteren Verlauf noch benötigen werden."
   ]
  },
  {
   "cell_type": "code",
   "execution_count": 1,
   "id": "ba1be90e",
   "metadata": {},
   "outputs": [],
   "source": [
    "import numpy as np\n",
    "\n",
    "# Seaborn wird für das Visualisieren der Bild-Arrays verwendet\n",
    "from seaborn import heatmap"
   ]
  },
  {
   "cell_type": "code",
   "execution_count": 2,
   "id": "99c41fad",
   "metadata": {},
   "outputs": [],
   "source": [
    "def isSquare(arr: list, check_type: bool = True) -> bool:\n",
    "    \"\"\"Überprüft, ob die übergebene Liste quadratisch ist.\n",
    "    check_type überprüft, dass der innere Typ keine weitere Liste ist.\"\"\"\n",
    "    \n",
    "    outer_count = len(arr)\n",
    "    for inner in arr:\n",
    "        if len(inner) != outer_count:\n",
    "            return False\n",
    "        \n",
    "        if check_type and any(type(el) is list for el in inner):\n",
    "            return False\n",
    "        \n",
    "    return True\n"
   ]
  },
  {
   "cell_type": "code",
   "execution_count": 3,
   "id": "93c73cf6",
   "metadata": {},
   "outputs": [],
   "source": [
    "def prepare_for_heatmap(ergebnis: list, rows: int, cols: int) -> list:\n",
    "    \"\"\"Formatierung für heatmap Funktion\"\"\"\n",
    "    \n",
    "    a = 0\n",
    "    b = cols\n",
    "    heat = []\n",
    "\n",
    "    for i in range(rows):\n",
    "        heat.append(ergebnis[a:b])\n",
    "        a += cols\n",
    "        b += cols\n",
    "    \n",
    "    return heat"
   ]
  },
  {
   "cell_type": "markdown",
   "id": "0ae381d3",
   "metadata": {},
   "source": [
    "Nun wird das Bild in Form einer zweidimensionalen Liste erzeugt. Dabei werden die Werte -1 (schwarz) und 1 (weiß) verwendet. Wir zeichnen hier ein Quadrat. Darauf folgt eine Visualisierung mit einer Heatmap, in denen wir sehen können, ob wir die richtigen Werte verwendet haben.\n"
   ]
  },
  {
   "cell_type": "code",
   "execution_count": 4,
   "id": "2213fdef",
   "metadata": {},
   "outputs": [
    {
     "name": "stdout",
     "output_type": "stream",
     "text": [
      "[[-1 -1 -1 -1 -1 -1 -1 -1 -1]\n",
      " [-1  1  1  1  1  1  1  1 -1]\n",
      " [-1  1 -1 -1 -1 -1 -1  1 -1]\n",
      " [-1  1 -1 -1 -1 -1 -1  1 -1]\n",
      " [-1  1 -1 -1 -1 -1 -1  1 -1]\n",
      " [-1  1 -1 -1 -1 -1 -1  1 -1]\n",
      " [-1  1 -1 -1 -1 -1 -1  1 -1]\n",
      " [-1  1  1  1  1  1  1  1 -1]\n",
      " [-1 -1 -1 -1 -1 -1 -1 -1 -1]]\n"
     ]
    },
    {
     "data": {
      "image/png": "[encoded data removed]",
      "text/plain": [
       "<Figure size 432x288 with 2 Axes>"
      ]
     },
     "metadata": {
      "needs_background": "light"
     },
     "output_type": "display_data"
    }
   ],
   "source": [
    "# Setup Bild 1\n",
    "bild1 = [\n",
    "    [-1, -1, -1, -1, -1, -1, -1, -1, -1],\n",
    "    [-1,  1,  1,  1,  1,  1,  1,  1, -1],\n",
    "    [-1,  1, -1, -1, -1, -1, -1,  1, -1],\n",
    "    [-1,  1, -1, -1, -1, -1, -1,  1, -1],\n",
    "    [-1,  1, -1, -1, -1, -1, -1,  1, -1],\n",
    "    [-1,  1, -1, -1, -1, -1, -1,  1, -1],\n",
    "    [-1,  1, -1, -1, -1, -1, -1,  1, -1],\n",
    "    [-1,  1,  1,  1,  1,  1,  1,  1, -1],\n",
    "    [-1, -1, -1, -1, -1, -1, -1, -1, -1]\n",
    "]\n",
    "\n",
    "print(np.array(bild1))\n",
    "_ = heatmap(bild1)"
   ]
  },
  {
   "cell_type": "markdown",
   "id": "fc3a581a",
   "metadata": {},
   "source": [
    "Das sieht doch gut aus! Anschließend definieren wir unsere Kernels (Filter). Diese repräsentieren die besonderen Merkmale unserer gesuchten, geometrischen Form. "
   ]
  },
  {
   "cell_type": "code",
   "execution_count": 5,
   "id": "a3d75c07",
   "metadata": {},
   "outputs": [],
   "source": [
    "# Setup kernels\n",
    "\n",
    "kernel3 = [\n",
    "    [1,  1,  1],\n",
    "    [1, -1, -1],\n",
    "    [1, -1, -1]\n",
    "]\n",
    "\n",
    "kernel4 = [\n",
    "    [ 1,  1, 1],\n",
    "    [-1, -1, 1],\n",
    "    [-1, -1, 1]\n",
    "]\n",
    "\n",
    "kernel5 = [\n",
    "    [1, -1, -1],\n",
    "    [1, -1, -1],\n",
    "    [1,  1,  1]\n",
    "]\n",
    "\n",
    "kernel6 = [\n",
    "    [-1, -1, 1],\n",
    "    [-1, -1, 1],\n",
    "    [ 1, -1, 1]\n",
    "]"
   ]
  },
  {
   "cell_type": "markdown",
   "id": "7b8619d0",
   "metadata": {},
   "source": [
    "Hier wird eine Klasse \"Pixel\" erstellt, mit der das folgende Iterieren über das Bild mit unseren Kernels verständlicher wird."
   ]
  },
  {
   "cell_type": "code",
   "execution_count": 6,
   "id": "4536d96e",
   "metadata": {},
   "outputs": [],
   "source": [
    "class Pixel:\n",
    "    \n",
    "    def __init__(self, row: int, column: int):\n",
    "        self.row = row\n",
    "        self.column = column\n",
    "        self.__original_column = column\n",
    "    \n",
    "    def get_info_from_image(self, img: list):\n",
    "        return img[self.row][self.column]\n",
    "    \n",
    "    def move_to_next_line(self):\n",
    "        self.row += 1\n",
    "        self.column = self.__original_column\n",
    "    \n",
    "    def __repr__(self):\n",
    "        return f\"({self.row}, {self.column})\""
   ]
  },
  {
   "cell_type": "markdown",
   "id": "4b495ff2",
   "metadata": {},
   "source": [
    "In der Funktion kernel_iterate verwenden wir nun ein Bild und einen Kernel, um den Kernel schrittweise über das Bild laufen zu lassen. Dabei wird immer ein 3x3-Zielausschnitt des Bildes genommen und mit dem Kernel multipliziert. Von den 9 Ergebnissen wird dann der Durchschnitt gebildet und in die Ergebnisliste eingetragen. Der Kernel bewegt sich immer in 1er-Schritten."
   ]
  },
  {
   "cell_type": "code",
   "execution_count": 7,
   "id": "9e213a18",
   "metadata": {},
   "outputs": [],
   "source": [
    "def kernel_iterate(kernel: list, bild: list):\n",
    "    \"\"\"kernel und bild sollten eine Liste mit weiteren Listen als Inhalt sein.\"\"\"\n",
    "    \n",
    "    ergebnis = [] # die fertige feature map\n",
    "    ziel = [] # aktuell betrachterter Ausschnitt\n",
    "    \n",
    "    frame = [] # ist die aktuelle Position des Kernels\n",
    "    for i in range(len(kernel)):\n",
    "        for j in range(len(kernel[i])):\n",
    "            frame.append(Pixel(i, j));\n",
    "    \n",
    "    # Ausschnitt wird aktualisiert\n",
    "    for i in range(2, 9, 3):\n",
    "        ziel.append([frame[i - 2].get_info_from_image(bild), frame[i - 1].get_info_from_image(bild), frame[i].get_info_from_image(bild)])\n",
    "\n",
    "    # durch alle Pixel des Bilds durchiterieren\n",
    "    for y in range(1, 8):\n",
    "        for i in range(1, 8):\n",
    "            zwischenspeicher = []\n",
    "            \n",
    "            for k, element in enumerate(kernel):\n",
    "                for j, zahl in enumerate(ziel[k]):\n",
    "                    zwischenspeicher.append(element[j] * zahl)\n",
    "                    \n",
    "            ergebnis.append(np.average(zwischenspeicher))\n",
    "\n",
    "            # die Kernelposition um eine Spalte verschieben \n",
    "            for pixel in frame:\n",
    "                pixel.column += 1\n",
    "            \n",
    "            # Ende des Bilds erreicht\n",
    "            if frame[2].column < len(bild[0]):\n",
    "                ziel = []\n",
    "                # Ausschnitt neu bestimmen\n",
    "                for i in range(2, 9, 3):\n",
    "                    ziel.append([frame[i - 2].get_info_from_image(bild), frame[i - 1].get_info_from_image(bild), frame[i].get_info_from_image(bild)])\n",
    "        \n",
    "        # Kernelposition um eine Zeile verschieben\n",
    "        for pixel in frame:\n",
    "            pixel.move_to_next_line()\n",
    "        \n",
    "        # Ende des Bilds erreicht\n",
    "        if frame[6].row < len(bild):\n",
    "            ziel = []\n",
    "            # Ausschnitt neu bestimmen\n",
    "            for i in range(2, 9, 3):\n",
    "                ziel.append([frame[i - 2].get_info_from_image(bild), frame[i - 1].get_info_from_image(bild), frame[i].get_info_from_image(bild)])\n",
    "    return ergebnis"
   ]
  },
  {
   "cell_type": "markdown",
   "id": "ae7605bf",
   "metadata": {},
   "source": [
    "Nun können wir unser Ergebnis mithilfe der am Anfang definierten prepare_for_heatmap Funktion visualisieren. Hier sieht man sehr schön, wie die Ecke in unserem Kernel im Bild erkannt wird."
   ]
  },
  {
   "cell_type": "code",
   "execution_count": 8,
   "id": "c2da3ef0",
   "metadata": {},
   "outputs": [
    {
     "data": {
      "image/png": "[encoded data removed]",
      "text/plain": [
       "<Figure size 432x288 with 2 Axes>"
      ]
     },
     "metadata": {
      "needs_background": "light"
     },
     "output_type": "display_data"
    }
   ],
   "source": [
    "ergebnis = kernel_iterate(kernel3, bild1)\n",
    "\n",
    "DIMENSIONS = 7\n",
    "\n",
    "_ = heatmap(prepare_for_heatmap(ergebnis, DIMENSIONS, DIMENSIONS))"
   ]
  },
  {
   "cell_type": "markdown",
   "id": "a6195831",
   "metadata": {},
   "source": [
    "Die Convolution ist damit für unser Beispiel abgeschlossen. Jetzt definieren wir die ReLu Funktion, die alle Ergebnisse, welche <0 sind, durch 0 ersetzt."
   ]
  },
  {
   "cell_type": "code",
   "execution_count": 9,
   "id": "9da22d70",
   "metadata": {},
   "outputs": [],
   "source": [
    "def relu(liste: list):\n",
    "    ergebnis = []\n",
    "    for zahl in liste:\n",
    "        if zahl < 0:\n",
    "            a = 0\n",
    "        else:\n",
    "            a = zahl\n",
    "        ergebnis.append(a)\n",
    "    return ergebnis"
   ]
  },
  {
   "cell_type": "markdown",
   "id": "fd38ed80",
   "metadata": {},
   "source": [
    "Wenn wir dies nun visualisieren, können wir unsere Ecke noch viel besser erkennen. Für das neuronale Netzwerk werden darüber hinaus Rechenkapazitäten eingespart, da viele Neuronen nun nicht geladen werden müssen. "
   ]
  },
  {
   "cell_type": "code",
   "execution_count": 18,
   "id": "95a514fc",
   "metadata": {},
   "outputs": [
    {
     "data": {
      "image/png": "[encoded data removed]",
      "text/plain": [
       "<Figure size 432x288 with 2 Axes>"
      ]
     },
     "metadata": {
      "needs_background": "light"
     },
     "output_type": "display_data"
    }
   ],
   "source": [
    "ergebnis = kernel_iterate(kernel3, bild1)\n",
    "ergebnisRelu = relu(ergebnis)\n",
    "ergebnisReluH = prepare_for_heatmap(ergebnisRelu, 7, 7)\n",
    "_ = heatmap(ergebnisReluH)"
   ]
  },
  {
   "cell_type": "markdown",
   "id": "2eda4975",
   "metadata": {},
   "source": [
    "Zum Schluss führen wir ein Pooling durch, bei dem das Bild in Zweierschritten mit einem 2x2-Zielausschnitt abgefahren wird und aus den vier Ergebnissen der Maximalwert in eine Ergebnisliste eingetragen wird."
   ]
  },
  {
   "cell_type": "code",
   "execution_count": 11,
   "id": "cdff399f",
   "metadata": {},
   "outputs": [],
   "source": [
    "def pooling(ergMa: list):\n",
    "    \"\"\"Die Ergebnismatrix (ergMa) sollte eine Liste mit weiteren Listen als Inhalt sein.\"\"\"\n",
    "    ergebnis = []\n",
    "    a = 0\n",
    "    b = 0\n",
    "    c = 0\n",
    "    d = 1\n",
    "    e = 1\n",
    "    f = 0\n",
    "    g = 1\n",
    "    h = 1\n",
    "\n",
    "    #Pruefen, ob ungerade Anzahl an Zeilen und Spalten. \n",
    "    #Wenn die Anzahl ungerade ist wird eine Spalte, bzw. eine Zeile hinzugefügt.\n",
    "    if (len(ergMa) % 2) > 0:\n",
    "        ergMa.append([0, 0, 0, 0, 0, 0, 0, 0])\n",
    "    if (len(ergMa[0])) % 2 > 0:\n",
    "        for liste in ergMa:\n",
    "            liste.append(0)\n",
    "    print(ergMa)\n",
    "        \n",
    "        \n",
    "    i = 1\n",
    "    j = 1\n",
    "    #Für jede Zeile\n",
    "    while j < 5:\n",
    "        #Für jede Spalte\n",
    "        while i < 5:\n",
    "            #Prüfen, ob am Ende der Spalte oder Zeile angekommen.\n",
    "            if (a < 7) and (b < 7): \n",
    "                #Maximalwert des 2x2 Auschnitts wird genommen und in die Ergebnisliste eingetragen. Danach rückt\n",
    "                #der Zielausschnitt in Zweierschritten weiter.\n",
    "                ziel = [ergMa[a][b], ergMa[c][d], ergMa[e][f], ergMa[g][h]]\n",
    "                ergebnis.append(max(ziel))  \n",
    "            b += 2\n",
    "            d += 2\n",
    "            f += 2\n",
    "            h += 2\n",
    "            \n",
    "            i += 1\n",
    "        i = 0\n",
    "        b = 0\n",
    "        d = 1\n",
    "        f = 0\n",
    "        h = 1\n",
    "        j += 1\n",
    "        a += 2\n",
    "        c += 2\n",
    "        e += 2\n",
    "        g += 2\n",
    "            \n",
    "    return ergebnis\n",
    "    \n",
    "    "
   ]
  },
  {
   "cell_type": "markdown",
   "id": "878d6290",
   "metadata": {},
   "source": [
    "Wenn wir unsere neue Ergebnismatrix visualisieren, sehen wir, dass wir durch das Pooling einen kleineren Bildausschnitt bekommen, ohne dabei wichtige Informationen zu verlieren."
   ]
  },
  {
   "cell_type": "code",
   "execution_count": 19,
   "id": "bb90ef2d",
   "metadata": {},
   "outputs": [
    {
     "name": "stdout",
     "output_type": "stream",
     "text": [
      "[[0, 0, 0, 0, 0, 0, 0, 0], [0, 1.0, 0.5555555555555556, 0.5555555555555556, 0.5555555555555556, 0.1111111111111111, 0, 0], [0, 0.5555555555555556, 0, 0, 0, 0, 0, 0], [0, 0.5555555555555556, 0, 0, 0, 0, 0, 0], [0, 0.5555555555555556, 0, 0, 0, 0, 0, 0], [0, 0.1111111111111111, 0, 0, 0, 0, 0, 0], [0, 0, 0, 0, 0, 0, 0.1111111111111111, 0], [0, 0, 0, 0, 0, 0, 0, 0, 0]]\n"
     ]
    },
    {
     "data": {
      "image/png": "[encoded data removed]",
      "text/plain": [
       "<Figure size 432x288 with 2 Axes>"
      ]
     },
     "metadata": {
      "needs_background": "light"
     },
     "output_type": "display_data"
    }
   ],
   "source": [
    "ergMa = pooling(ergebnisReluH)\n",
    "\n",
    "_ = heatmap(prepare_for_heatmap(ergMa, 4, 4))"
   ]
  },
  {
   "attachments": {},
   "cell_type": "markdown",
   "id": "c35431d4",
   "metadata": {},
   "source": [
    "<h1> Aufgabe für euch! </h1>\n",
    "Hands on!\n",
    "Nun seid ihr an der Reihe! <br>\n",
    "<b>Aufgabe 1</b>: Erstellt eine zweidimensionale Liste mit den Werten -1 und 1 für ein Dreieck. Das Dreieck soll wie in der Präsentation dargestellt aussehen. <br>\n",
    "<b>Aufgabe 2</b>: Erstellt einen Kernel, der für das Erkennen der linken unteren Ecke des Dreiecks angemessen ist. <br>\n",
    "Tipp: Der Kernel beginnt in Zeile fünf und Spalte eins. <br>\n",
    "<b>Aufgabe 3</b>: Führt die Convolution, ReLu und das Pooling für euer Bild und euren Kernel mit den vorher definierten Funktionen durch. Das Ergebnis könnt ihr in der Präsentation sehen :)"
   ]
  },
  {
   "cell_type": "markdown",
   "id": "309bec55",
   "metadata": {},
   "source": [
    "Zunächst erstellen wir das Bild in einem zweidimensionalen Array und visualieren es dann mittels der Heatmap Funktion von seaborn."
   ]
  },
  {
   "cell_type": "code",
   "execution_count": 20,
   "id": "13b51af1",
   "metadata": {
    "scrolled": false
   },
   "outputs": [
    {
     "name": "stdout",
     "output_type": "stream",
     "text": [
      "[[-1 -1 -1 -1 -1 -1 -1 -1 -1]\n",
      " [-1 -1 -1 -1 -1 -1 -1 -1 -1]\n",
      " [-1 -1 -1 -1 -1 -1 -1 -1 -1]\n",
      " [-1 -1 -1 -1  1 -1 -1 -1 -1]\n",
      " [-1 -1 -1  1 -1  1 -1 -1 -1]\n",
      " [-1 -1  1 -1 -1 -1  1 -1 -1]\n",
      " [-1  1 -1 -1 -1 -1 -1  1 -1]\n",
      " [-1  1  1  1  1  1  1  1 -1]\n",
      " [-1 -1 -1 -1 -1 -1 -1 -1 -1]]\n"
     ]
    },
    {
     "data": {
      "image/png": "[encoded data removed]",
      "text/plain": [
       "<Figure size 432x288 with 2 Axes>"
      ]
     },
     "metadata": {
      "needs_background": "light"
     },
     "output_type": "display_data"
    }
   ],
   "source": [
    "# Setup Bild Dreieck\n",
    "bild2 = [\n",
    "    [-1, -1, -1, -1, -1, -1, -1, -1, -1],\n",
    "    [-1, -1, -1, -1, -1, -1, -1, -1, -1],\n",
    "    [-1, -1, -1, -1, -1, -1, -1, -1, -1],\n",
    "    [-1, -1, -1, -1, 1, -1, -1, -1, -1],\n",
    "    [-1, -1, -1, 1, -1, 1, -1, -1, -1],\n",
    "    [-1, -1, 1, -1, -1, -1, 1, -1, -1],\n",
    "    [-1, 1, -1, -1, -1, -1, -1, 1, -1],\n",
    "    [-1, 1, 1,  1,  1,  1,  1, 1, -1],\n",
    "    [-1, -1, -1, -1, -1, -1, -1, -1, -1]\n",
    "]\n",
    "\n",
    "print(np.array(bild2))\n",
    "_ = heatmap(bild2)"
   ]
  },
  {
   "cell_type": "markdown",
   "id": "ae905be1",
   "metadata": {},
   "source": [
    "Dann erstellen wir den Kernel für die linke untere Ecke. "
   ]
  },
  {
   "cell_type": "code",
   "execution_count": 21,
   "id": "bb13469d",
   "metadata": {},
   "outputs": [],
   "source": [
    "# Kernel Dreieck\n",
    "kernel1 = [\n",
    "    [-1, 1, -1],\n",
    "    [1, -1, -1],\n",
    "    [1, 1, 1]\n",
    "]"
   ]
  },
  {
   "cell_type": "markdown",
   "id": "adb96dff",
   "metadata": {},
   "source": [
    "Folgend führen wir eine Convolution durch, indem wir die kernel_iterate Funktion mit unserem Kernel und dem Bild als Parameter aufrufen. Danach bringen wir die Ergebnisliste der prepare_for_heatmap Funktion in das für die Visualisierung mit seaborn benötigte Datenformat."
   ]
  },
  {
   "cell_type": "code",
   "execution_count": 22,
   "id": "caddab14",
   "metadata": {},
   "outputs": [
    {
     "data": {
      "text/plain": [
       "<AxesSubplot:>"
      ]
     },
     "execution_count": 22,
     "metadata": {},
     "output_type": "execute_result"
    },
    {
     "data": {
      "image/png": "[encoded data removed]",
      "text/plain": [
       "<Figure size 432x288 with 2 Axes>"
      ]
     },
     "metadata": {
      "needs_background": "light"
     },
     "output_type": "display_data"
    }
   ],
   "source": [
    "convDreieck = kernel_iterate(kernel1, bild2)\n",
    "convDreieckH = prepare_for_heatmap(convDreieck, 7, 7)\n",
    "heatmap(convDreieckH)"
   ]
  },
  {
   "cell_type": "markdown",
   "id": "ffd8a203",
   "metadata": {},
   "source": [
    "Die ReLu Funktion wird dann mit unserer Ergebnisliste aufgerufen, in das Heatmap-Datenformat konvertiert und visualisiert."
   ]
  },
  {
   "cell_type": "code",
   "execution_count": 23,
   "id": "4bfafded",
   "metadata": {
    "scrolled": true
   },
   "outputs": [
    {
     "data": {
      "text/plain": [
       "<AxesSubplot:>"
      ]
     },
     "execution_count": 23,
     "metadata": {},
     "output_type": "execute_result"
    },
    {
     "data": {
      "image/png": "[encoded data removed]",
      "text/plain": [
       "<Figure size 432x288 with 2 Axes>"
      ]
     },
     "metadata": {
      "needs_background": "light"
     },
     "output_type": "display_data"
    }
   ],
   "source": [
    "dreieckRelu = relu(convDreieck)\n",
    "dreieckReluH = prepare_for_heatmap(dreieckRelu, 7, 7)\n",
    "heatmap(dreieckReluH)"
   ]
  },
  {
   "cell_type": "markdown",
   "id": "771b47f5",
   "metadata": {},
   "source": [
    "Zuletzt führen wir ein Pooling durch, indem wir das Datenformat der vorherigen Heatmap als Parameter für die Pooling Funktion nutzen. Das Ergebnis wird wieder konvertiert und visualisiert. "
   ]
  },
  {
   "cell_type": "code",
   "execution_count": 24,
   "id": "fe3b7f85",
   "metadata": {},
   "outputs": [
    {
     "name": "stdout",
     "output_type": "stream",
     "text": [
      "[[0, 0, 0, 0, 0, 0, 0, 0], [0, 0, 0.1111111111111111, 0.1111111111111111, 0.1111111111111111, 0, 0, 0], [0, 0.1111111111111111, 0, 0.1111111111111111, 0.3333333333333333, 0.1111111111111111, 0, 0], [0.1111111111111111, 0, 0, 0.1111111111111111, 0, 0.3333333333333333, 0.1111111111111111, 0], [0, 0, 0.3333333333333333, 0, 0, 0, 0.3333333333333333, 0], [0, 1.0, 0.3333333333333333, 0.5555555555555556, 0.3333333333333333, 0.5555555555555556, 0, 0], [0, 0, 0, 0, 0, 0, 0.1111111111111111, 0], [0, 0, 0, 0, 0, 0, 0, 0, 0]]\n"
     ]
    },
    {
     "data": {
      "text/plain": [
       "<AxesSubplot:>"
      ]
     },
     "execution_count": 24,
     "metadata": {},
     "output_type": "execute_result"
    },
    {
     "data": {
      "image/png": "[encoded data removed]",
      "text/plain": [
       "<Figure size 432x288 with 2 Axes>"
      ]
     },
     "metadata": {
      "needs_background": "light"
     },
     "output_type": "display_data"
    }
   ],
   "source": [
    "dreieckPooling = pooling(dreieckReluH)\n",
    "dreieckPoolingH = prepare_for_heatmap(dreieckPooling, 4, 4)\n",
    "heatmap(dreieckPoolingH)"
   ]
  }
 ],
 "metadata": {
  "kernelspec": {
   "display_name": "Python 3",
   "language": "python",
   "name": "python3"
  },
  "language_info": {
   "codemirror_mode": {
    "name": "ipython",
    "version": 3
   },
   "file_extension": ".py",
   "mimetype": "text/x-python",
   "name": "python",
   "nbconvert_exporter": "python",
   "pygments_lexer": "ipython3",
   "version": "3.8.8"
  }
 },
 "nbformat": 4,
 "nbformat_minor": 5
}
