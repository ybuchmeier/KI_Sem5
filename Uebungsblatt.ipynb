{
 "cells": [
  {
   "cell_type": "markdown",
   "id": "00fc2c82",
   "metadata": {},
   "source": [
    "# Übungsblatt"
   ]
  },
  {
   "cell_type": "code",
   "execution_count": 1,
   "id": "ba1be90e",
   "metadata": {},
   "outputs": [],
   "source": [
    "import numpy as np\n",
    "\n",
    "# Seaborn wird für das Visualisieren der Bild-Arrays verwendet\n",
    "from seaborn import heatmap"
   ]
  },
  {
   "cell_type": "code",
   "execution_count": 2,
   "id": "99c41fad",
   "metadata": {},
   "outputs": [],
   "source": [
    "def isSquare(arr: list, check_type: bool = True) -> bool:\n",
    "    \"\"\" \"\"\"\n",
    "    \n",
    "    outer_count = len(arr)\n",
    "    for inner in arr:\n",
    "        if len(inner) != outer_count:\n",
    "            return False\n",
    "        \n",
    "        if check_type and any(type(el) is list for el in inner):\n",
    "            return False\n",
    "        \n",
    "    return True\n"
   ]
  },
  {
   "cell_type": "code",
   "execution_count": 3,
   "id": "93c73cf6",
   "metadata": {},
   "outputs": [],
   "source": [
    "def prepare_for_heatmap(ergebnis: list, dimensions: int) -> list:\n",
    "    \"\"\"\"\"\"\n",
    "    \n",
    "    a = 0\n",
    "    b = dimensions\n",
    "    heat = []\n",
    "\n",
    "    for i in range(dimensions):\n",
    "        heat.append(ergebnis[a:b])\n",
    "        a += dimensions\n",
    "        b += dimensions\n",
    "    \n",
    "    return heat"
   ]
  },
  {
   "cell_type": "code",
   "execution_count": 4,
   "id": "2213fdef",
   "metadata": {},
   "outputs": [
    {
     "name": "stdout",
     "output_type": "stream",
     "text": [
      "[[-1 -1 -1 -1 -1 -1 -1 -1 -1]\n",
      " [-1  1  1  1  1  1  1  1 -1]\n",
      " [-1  1 -1 -1 -1 -1 -1  1 -1]\n",
      " [-1  1 -1 -1 -1 -1 -1  1 -1]\n",
      " [-1  1 -1 -1 -1 -1 -1  1 -1]\n",
      " [-1  1 -1 -1 -1 -1 -1  1 -1]\n",
      " [-1  1 -1 -1 -1 -1 -1  1 -1]\n",
      " [-1  1  1  1  1  1  1  1 -1]\n",
      " [-1 -1 -1 -1 -1 -1 -1 -1 -1]]\n"
     ]
    },
    {
     "data": {
      "image/png": "[encoded data removed]",
      "text/plain": [
       "<Figure size 432x288 with 2 Axes>"
      ]
     },
     "metadata": {
      "needs_background": "light"
     },
     "output_type": "display_data"
    }
   ],
   "source": [
    "# Setup Bild 1\n",
    "bild1 = [\n",
    "    [-1, -1, -1, -1, -1, -1, -1, -1, -1],\n",
    "    [-1,  1,  1,  1,  1,  1,  1,  1, -1],\n",
    "    [-1,  1, -1, -1, -1, -1, -1,  1, -1],\n",
    "    [-1,  1, -1, -1, -1, -1, -1,  1, -1],\n",
    "    [-1,  1, -1, -1, -1, -1, -1,  1, -1],\n",
    "    [-1,  1, -1, -1, -1, -1, -1,  1, -1],\n",
    "    [-1,  1, -1, -1, -1, -1, -1,  1, -1],\n",
    "    [-1,  1,  1,  1,  1,  1,  1,  1, -1],\n",
    "    [-1, -1, -1, -1, -1, -1, -1, -1, -1]\n",
    "]\n",
    "\n",
    "print(np.array(bild1))\n",
    "_ = heatmap(bild1)"
   ]
  },
  {
   "cell_type": "code",
   "execution_count": 5,
   "id": "fe63b67c",
   "metadata": {},
   "outputs": [
    {
     "name": "stdout",
     "output_type": "stream",
     "text": [
      "[[-1 -1 -1 -1 -1 -1 -1 -1 -1]\n",
      " [-1 -1 -1 -1  1 -1 -1 -1 -1]\n",
      " [-1 -1 -1 -1  1 -1 -1 -1 -1]\n",
      " [-1 -1 -1  1 -1  1 -1 -1 -1]\n",
      " [-1 -1 -1  1 -1  1 -1 -1 -1]\n",
      " [-1 -1  1 -1 -1 -1  1 -1 -1]\n",
      " [-1 -1  1 -1 -1 -1  1 -1 -1]\n",
      " [-1  1  1  1  1  1  1  1 -1]\n",
      " [-1 -1 -1 -1 -1 -1 -1 -1 -1]]\n"
     ]
    },
    {
     "data": {
      "image/png": "[encoded data removed]",
      "text/plain": [
       "<Figure size 432x288 with 2 Axes>"
      ]
     },
     "metadata": {
      "needs_background": "light"
     },
     "output_type": "display_data"
    }
   ],
   "source": [
    "# Setup Bild 2\n",
    "bild2 = [\n",
    "    [-1, -1, -1, -1, -1, -1, -1, -1, -1],\n",
    "    [-1, -1, -1, -1,  1, -1, -1, -1, -1],\n",
    "    [-1, -1, -1, -1,  1, -1, -1, -1, -1],\n",
    "    [-1, -1, -1,  1, -1,  1, -1, -1, -1],\n",
    "    [-1, -1, -1,  1, -1,  1, -1, -1, -1],\n",
    "    [-1, -1,  1, -1, -1, -1,  1, -1, -1],\n",
    "    [-1, -1,  1, -1, -1, -1,  1, -1, -1],\n",
    "    [-1,  1,  1,  1,  1,  1,  1,  1, -1],\n",
    "    [-1, -1, -1, -1, -1, -1, -1, -1, -1]\n",
    "]\n",
    "\n",
    "print(np.array(bild2))\n",
    "_ = heatmap(bild2)"
   ]
  },
  {
   "cell_type": "code",
   "execution_count": 6,
   "id": "a3d75c07",
   "metadata": {},
   "outputs": [],
   "source": [
    "# Setup kernels\n",
    "\n",
    "kernel1 = [\n",
    "    [-1,  1, -1],\n",
    "    [-1,  1, -1],\n",
    "    [ 1, -1,  1]\n",
    "]\n",
    "\n",
    "kernel2 = [\n",
    "    [-1, 1, -1],\n",
    "    [-1, 1, -1],\n",
    "    [ 1, 1,  1]\n",
    "]\n",
    "\n",
    "kernel3 = [\n",
    "    [1,  1,  1],\n",
    "    [1, -1, -1],\n",
    "    [1, -1, -1]\n",
    "]\n",
    "\n",
    "kernel4 = [\n",
    "    [ 1,  1, 1],\n",
    "    [-1, -1, 1],\n",
    "    [-1, -1, 1]\n",
    "]\n",
    "\n",
    "kernel5 = [\n",
    "    [1, -1, -1],\n",
    "    [1, -1, -1],\n",
    "    [1,  1,  1]\n",
    "]\n",
    "\n",
    "kernel6 = [\n",
    "    [-1, -1, 1],\n",
    "    [-1, -1, 1],\n",
    "    [ 1, -1, 1]\n",
    "]"
   ]
  },
  {
   "cell_type": "code",
   "execution_count": 7,
   "id": "4536d96e",
   "metadata": {},
   "outputs": [],
   "source": [
    "class Pixel:\n",
    "    \n",
    "    def __init__(self, row: int, column: int):\n",
    "        self.row = row\n",
    "        self.column = column\n",
    "        self.__original_column = column\n",
    "    \n",
    "    def get_info_from_image(self, img: list):\n",
    "        return img[self.row][self.column]\n",
    "    \n",
    "    def move_to_next_line(self):\n",
    "        self.row += 1\n",
    "        self.column = self.__original_column\n",
    "    \n",
    "    def __repr__(self):\n",
    "        return f\"({self.row}, {self.column})\""
   ]
  },
  {
   "cell_type": "code",
   "execution_count": 8,
   "id": "9e213a18",
   "metadata": {},
   "outputs": [],
   "source": [
    "def kernel_iterate(kernel: list, bild: list):\n",
    "    \"\"\"kernel und bild sollten eine Liste mit weiteren Listen als Inhalt sein.\"\"\"\n",
    "    \n",
    "    ergebnis = []\n",
    "    ziel = []\n",
    "    \n",
    "    frame = []\n",
    "    for i in range(len(kernel)):\n",
    "        for j in range(len(kernel[i])):\n",
    "            frame.append(Pixel(i, j));\n",
    "    \n",
    "    e = 0\n",
    "    f = 2\n",
    "    g = 1\n",
    "    h = 0\n",
    "    l = 1\n",
    "    m = 1 \n",
    "    n = 1\n",
    "    o = 2\n",
    "    p = 2\n",
    "    q = 0\n",
    "    r = 2\n",
    "    s = 1\n",
    "    t = 2\n",
    "    u = 2\n",
    "    \n",
    "    ziel.append([frame[0].get_info_from_image(bild), frame[1].get_info_from_image(bild), bild[e][f]])\n",
    "    ziel.append([bild[g][h], bild[l][m], bild[n][o]])\n",
    "    ziel.append([bild[p][q], bild[r][s], bild[t][u]])\n",
    "\n",
    "    for y in range(1, 8):\n",
    "        for i in range(1, 8):\n",
    "            zwischenspeicher = []\n",
    "            \n",
    "            for k, element in enumerate(kernel):\n",
    "                #print(\"element: \" + str(element))\n",
    "                #for index in ziel:\n",
    "                for j, zahl in enumerate(ziel[k]):\n",
    "                    #print(\"j = \" + str(j))\n",
    "                    #print(\"kernel: \" + str(element[j]))\n",
    "                    #print(\"bild: \" + str(zahl))\n",
    "                    #print(\"-------------------------------\")\n",
    "                    #print(str(element[j]) + \" * \" + str(zahl))\n",
    "                    \n",
    "                    zwischenspeicher.append(element[j] * zahl)\n",
    "                    \n",
    "            #print(ziel)\n",
    "            #print(f\"bild[{a}][{b}] bild[{c}][{d}] bild[{e}][{f}]\")\n",
    "            #print(f\"bild[{g}][{h}] bild[{l}][{m}] bild[{n}][{o}]\")\n",
    "            #print(f\"bild[{p}][{q}] bild[{r}][{s}] bild[{t}][{u}]\")\n",
    "            \n",
    "            ergebnis.append(np.average(zwischenspeicher))\n",
    "\n",
    "            for pixel in frame:\n",
    "                pixel.column += 1\n",
    "            f = f + 1\n",
    "            h = h + 1\n",
    "            m = m + 1\n",
    "            o = o + 1\n",
    "            q = q + 1\n",
    "            s = s + 1\n",
    "            u = u + 1\n",
    "            \n",
    "            if f < 9:\n",
    "                ziel = []\n",
    "                ziel.append([frame[0].get_info_from_image(bild), frame[1].get_info_from_image(bild), bild[e][f]])\n",
    "                ziel.append([bild[g][h], bild[l][m], bild[n][o]])\n",
    "                ziel.append([bild[p][q], bild[r][s], bild[t][u]])\n",
    "        \n",
    "        for pixel in frame:\n",
    "            pixel.move_to_next_line()\n",
    "        e = e + 1\n",
    "        g = g + 1\n",
    "        l = l + 1\n",
    "        n = n + 1\n",
    "        p = p + 1\n",
    "        r = r + 1\n",
    "        t = t + 1\n",
    "        f = 2\n",
    "        h = 0\n",
    "        m = 1\n",
    "        o = 2\n",
    "        q = 0\n",
    "        s = 1\n",
    "        u = 2\n",
    "        if p < 9:\n",
    "            ziel = []\n",
    "            ziel.append([frame[0].get_info_from_image(bild), frame[1].get_info_from_image(bild), bild[e][f]])\n",
    "            ziel.append([bild[g][h], bild[l][m], bild[n][o]])\n",
    "            ziel.append([bild[p][q], bild[r][s], bild[t][u]])\n",
    "    return ergebnis"
   ]
  },
  {
   "cell_type": "code",
   "execution_count": 9,
   "id": "3331a00e",
   "metadata": {
    "scrolled": false
   },
   "outputs": [
    {
     "data": {
      "image/png": "[encoded data removed]",
      "text/plain": [
       "<Figure size 432x288 with 2 Axes>"
      ]
     },
     "metadata": {
      "needs_background": "light"
     },
     "output_type": "display_data"
    }
   ],
   "source": [
    "# Formatierung für heatmap\n",
    "\n",
    "ergebnis = kernel_iterate(kernel1, bild2)\n",
    "\n",
    "DIMENSIONS = 7\n",
    "\n",
    "_ = heatmap(prepare_for_heatmap(ergebnis, DIMENSIONS))\n"
   ]
  },
  {
   "cell_type": "code",
   "execution_count": null,
   "id": "0a118180",
   "metadata": {},
   "outputs": [],
   "source": []
  }
 ],
 "metadata": {
  "kernelspec": {
   "display_name": "Python 3",
   "language": "python",
   "name": "python3"
  },
  "language_info": {
   "codemirror_mode": {
    "name": "ipython",
    "version": 3
   },
   "file_extension": ".py",
   "mimetype": "text/x-python",
   "name": "python",
   "nbconvert_exporter": "python",
   "pygments_lexer": "ipython3",
   "version": "3.8.8"
  }
 },
 "nbformat": 4,
 "nbformat_minor": 5
}
