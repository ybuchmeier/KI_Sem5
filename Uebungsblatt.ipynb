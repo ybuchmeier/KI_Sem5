{
 "cells": [
  {
   "cell_type": "markdown",
   "id": "00fc2c82",
   "metadata": {},
   "source": [
    "<b>Übungsblatt</b>"
   ]
  },
  {
   "cell_type": "code",
   "execution_count": 1,
   "id": "2213fdef",
   "metadata": {},
   "outputs": [],
   "source": [
    "bild1 = []\n",
    "bild1.append([-1, -1, -1, -1, -1, -1, -1, -1, -1])\n",
    "bild1.append([-1, 1, 1, 1, 1, 1, 1, 1, -1])\n",
    "bild1.append([-1, 1, -1, -1, -1, -1, -1, 1, -1])\n",
    "bild1.append([-1, 1, -1, -1, -1, -1, -1, 1, -1])\n",
    "bild1.append([-1, 1, -1, -1, -1, -1, -1, 1, -1])\n",
    "bild1.append([-1, 1, -1, -1, -1, -1, -1, 1, -1])\n",
    "bild1.append([-1, 1, -1, -1, -1, -1, -1, 1, -1])\n",
    "bild1.append([-1, 1, 1, 1, 1, 1, 1, 1, -1])\n",
    "bild1.append([-1, -1, -1, -1, -1, -1, -1, -1, -1])"
   ]
  },
  {
   "cell_type": "code",
   "execution_count": 2,
   "id": "a469e857",
   "metadata": {
    "scrolled": true
   },
   "outputs": [
    {
     "data": {
      "text/plain": [
       "[[-1, -1, -1, -1, -1, -1, -1, -1, -1],\n",
       " [-1, 1, 1, 1, 1, 1, 1, 1, -1],\n",
       " [-1, 1, -1, -1, -1, -1, -1, 1, -1],\n",
       " [-1, 1, -1, -1, -1, -1, -1, 1, -1],\n",
       " [-1, 1, -1, -1, -1, -1, -1, 1, -1],\n",
       " [-1, 1, -1, -1, -1, -1, -1, 1, -1],\n",
       " [-1, 1, -1, -1, -1, -1, -1, 1, -1],\n",
       " [-1, 1, 1, 1, 1, 1, 1, 1, -1],\n",
       " [-1, -1, -1, -1, -1, -1, -1, -1, -1]]"
      ]
     },
     "execution_count": 2,
     "metadata": {},
     "output_type": "execute_result"
    }
   ],
   "source": [
    "bild1"
   ]
  },
  {
   "cell_type": "code",
   "execution_count": 3,
   "id": "fe63b67c",
   "metadata": {},
   "outputs": [],
   "source": [
    "bild2 = []\n",
    "bild2.append([-1, -1, -1, -1, -1, -1, -1, -1, -1])\n",
    "bild2.append([-1, -1, -1, -1, 1, -1, -1, -1, -1])\n",
    "bild2.append([-1, -1, -1, -1, 1, -1, -1, -1, -1])\n",
    "bild2.append([-1, -1, -1, 1, -1, 1, -1, -1, -1])\n",
    "bild2.append([-1, -1, -1, 1, -1, 1, -1, -1, -1])\n",
    "bild2.append([-1, -1, 1, -1, -1, -1, 1, -1, -1])\n",
    "bild2.append([-1, -1, 1, -1, -1, -1, 1, -1, -1])\n",
    "bild2.append([-1, 1, 1, 1, 1, 1, 1, 1, -1])\n",
    "bild2.append([-1, -1, -1, -1, -1, -1, -1, -1, -1])"
   ]
  },
  {
   "cell_type": "code",
   "execution_count": 4,
   "id": "b5631ab9",
   "metadata": {},
   "outputs": [
    {
     "data": {
      "image/png": "[encoded data removed]",
      "text/plain": [
       "<Figure size 432x288 with 2 Axes>"
      ]
     },
     "metadata": {},
     "output_type": "display_data"
    }
   ],
   "source": [
    "import numpy as np\n",
    "import seaborn as sns; sns.set_theme()\n",
    "b1 = sns.heatmap(bild1)"
   ]
  },
  {
   "cell_type": "code",
   "execution_count": 5,
   "id": "b8aef314",
   "metadata": {
    "scrolled": true
   },
   "outputs": [
    {
     "data": {
      "image/png": "[encoded data removed]",
      "text/plain": [
       "<Figure size 432x288 with 2 Axes>"
      ]
     },
     "metadata": {},
     "output_type": "display_data"
    }
   ],
   "source": [
    "b2 = sns.heatmap(bild2)"
   ]
  },
  {
   "cell_type": "code",
   "execution_count": 6,
   "id": "2e44b935",
   "metadata": {},
   "outputs": [
    {
     "name": "stdout",
     "output_type": "stream",
     "text": [
      "[-1, -1, -1, -1, -1, -1, -1, -1, -1]\n",
      "[-1, 1, 1, 1, 1, 1, 1, 1, -1]\n",
      "[-1, 1, -1, -1, -1, -1, -1, 1, -1]\n",
      "[-1, 1, -1, -1, -1, -1, -1, 1, -1]\n",
      "[-1, 1, -1, -1, -1, -1, -1, 1, -1]\n",
      "[-1, 1, -1, -1, -1, -1, -1, 1, -1]\n",
      "[-1, 1, -1, -1, -1, -1, -1, 1, -1]\n",
      "[-1, 1, 1, 1, 1, 1, 1, 1, -1]\n",
      "[-1, -1, -1, -1, -1, -1, -1, -1, -1]\n"
     ]
    }
   ],
   "source": [
    "for array in bild1:\n",
    "    print(array)"
   ]
  },
  {
   "cell_type": "code",
   "execution_count": 7,
   "id": "a3d75c07",
   "metadata": {},
   "outputs": [
    {
     "data": {
      "text/plain": [
       "[[-1, 1, -1], [-1, 1, -1], [1, -1, 1]]"
      ]
     },
     "execution_count": 7,
     "metadata": {},
     "output_type": "execute_result"
    }
   ],
   "source": [
    "kernel1 = []\n",
    "kernel1.append([-1, 1, -1])\n",
    "kernel1.append([-1, 1, -1])\n",
    "kernel1.append([1, -1, 1])\n",
    "kernel1"
   ]
  },
  {
   "cell_type": "code",
   "execution_count": 8,
   "id": "e0468897",
   "metadata": {},
   "outputs": [
    {
     "data": {
      "text/plain": [
       "[[-1, 1, -1], [-1, 1, -1], [1, 1, 1]]"
      ]
     },
     "execution_count": 8,
     "metadata": {},
     "output_type": "execute_result"
    }
   ],
   "source": [
    "kernel2= []\n",
    "kernel2.append([-1, 1, -1])\n",
    "kernel2.append([-1, 1, -1])\n",
    "kernel2.append([1, 1, 1])\n",
    "kernel2"
   ]
  },
  {
   "cell_type": "code",
   "execution_count": 9,
   "id": "9d458427",
   "metadata": {},
   "outputs": [
    {
     "data": {
      "text/plain": [
       "[[1, 1, 1], [1, -1, -1], [1, -1, -1]]"
      ]
     },
     "execution_count": 9,
     "metadata": {},
     "output_type": "execute_result"
    }
   ],
   "source": [
    "kernel3 = []\n",
    "kernel3.append([1, 1, 1])\n",
    "kernel3.append([1, -1, -1])\n",
    "kernel3.append([1, -1, -1])\n",
    "kernel3"
   ]
  },
  {
   "cell_type": "code",
   "execution_count": 10,
   "id": "da7952c3",
   "metadata": {},
   "outputs": [
    {
     "data": {
      "text/plain": [
       "[[1, 1, 1], [-1, -1, 1], [-1, -1, 1]]"
      ]
     },
     "execution_count": 10,
     "metadata": {},
     "output_type": "execute_result"
    }
   ],
   "source": [
    "kernel4 = []\n",
    "kernel4.append([1, 1, 1])\n",
    "kernel4.append([-1, -1, 1])\n",
    "kernel4.append([-1, -1, 1])\n",
    "kernel4"
   ]
  },
  {
   "cell_type": "code",
   "execution_count": 11,
   "id": "f5c39147",
   "metadata": {},
   "outputs": [
    {
     "data": {
      "text/plain": [
       "[[1, -1, -1], [1, -1, -1], [1, 1, 1]]"
      ]
     },
     "execution_count": 11,
     "metadata": {},
     "output_type": "execute_result"
    }
   ],
   "source": [
    "kernel5 = []\n",
    "kernel5.append([1, -1, -1])\n",
    "kernel5.append([1, -1, -1])\n",
    "kernel5.append([1, 1, 1])\n",
    "kernel5"
   ]
  },
  {
   "cell_type": "code",
   "execution_count": 12,
   "id": "aa6c11a6",
   "metadata": {},
   "outputs": [
    {
     "data": {
      "text/plain": [
       "[[-1, -1, 1], [-1, -1, 1], [1, -1, 1]]"
      ]
     },
     "execution_count": 12,
     "metadata": {},
     "output_type": "execute_result"
    }
   ],
   "source": [
    "kernel6 = []\n",
    "kernel6.append([-1, -1, 1])\n",
    "kernel6.append([-1, -1, 1])\n",
    "kernel6.append([1, -1, 1])\n",
    "kernel6"
   ]
  },
  {
   "cell_type": "code",
   "execution_count": 13,
   "id": "b50558b3",
   "metadata": {
    "scrolled": true
   },
   "outputs": [
    {
     "data": {
      "text/plain": [
       "[[-1, -1, -1, -1, -1, -1, -1, -1, -1],\n",
       " [-1, 1, 1, 1, 1, 1, 1, 1, -1],\n",
       " [-1, 1, -1, -1, -1, -1, -1, 1, -1],\n",
       " [-1, 1, -1, -1, -1, -1, -1, 1, -1],\n",
       " [-1, 1, -1, -1, -1, -1, -1, 1, -1],\n",
       " [-1, 1, -1, -1, -1, -1, -1, 1, -1],\n",
       " [-1, 1, -1, -1, -1, -1, -1, 1, -1],\n",
       " [-1, 1, 1, 1, 1, 1, 1, 1, -1],\n",
       " [-1, -1, -1, -1, -1, -1, -1, -1, -1]]"
      ]
     },
     "execution_count": 13,
     "metadata": {},
     "output_type": "execute_result"
    }
   ],
   "source": [
    "bild1"
   ]
  },
  {
   "cell_type": "code",
   "execution_count": 14,
   "id": "2382e320",
   "metadata": {},
   "outputs": [
    {
     "data": {
      "text/plain": [
       "[[-1, -1, -1], [-1, 1, 1], [-1, 1, -1]]"
      ]
     },
     "execution_count": 14,
     "metadata": {},
     "output_type": "execute_result"
    }
   ],
   "source": [
    "    ziel = []\n",
    "    ziel.append([bild1[0][0], bild1[0][1], bild1[0][2]])\n",
    "    ziel.append([bild1[1][0], bild1[1][1], bild1[1][2]])\n",
    "    ziel.append([bild1[2][0], bild1[2][1], bild1[2][2]])\n",
    "    ziel"
   ]
  },
  {
   "cell_type": "code",
   "execution_count": 15,
   "id": "e8820ef6",
   "metadata": {},
   "outputs": [
    {
     "name": "stdout",
     "output_type": "stream",
     "text": [
      "-1\n",
      "-1\n",
      "1\n"
     ]
    }
   ],
   "source": [
    "for element in kernel1:\n",
    "    print(element[0])"
   ]
  },
  {
   "cell_type": "code",
   "execution_count": 16,
   "id": "9e213a18",
   "metadata": {},
   "outputs": [],
   "source": [
    "def kernel_iterate(kernel: list, bild: list):\n",
    "    \"\"\"kernel und bild sollten eine Liste mit weiteren Listen als Inhalt sein.\"\"\"\n",
    "    ergebnis = []\n",
    "    ziel = []\n",
    "    a = 0\n",
    "    b = 0\n",
    "    c = 0\n",
    "    d = 1\n",
    "    e = 0\n",
    "    f = 2\n",
    "    g = 1\n",
    "    h = 0\n",
    "    l = 1\n",
    "    m = 1 \n",
    "    n = 1\n",
    "    o = 2\n",
    "    p = 2\n",
    "    q = 0\n",
    "    r = 2\n",
    "    s = 1\n",
    "    t = 2\n",
    "    u = 2\n",
    "    ziel.append([bild[a][b], bild[c][d], bild[e][f]])\n",
    "    ziel.append([bild[g][h], bild[l][m], bild[n][o]])\n",
    "    ziel.append([bild[p][q], bild[r][s], bild[t][u]])\n",
    "    zwischenspeicher = []\n",
    "    k = 0\n",
    "    i = 1\n",
    "    j = 0\n",
    "    y = 1\n",
    "    while y < 8:\n",
    "        while i < 8:\n",
    "            for element in kernel:\n",
    "                #print(\"element: \" + str(element))\n",
    "                #for index in ziel:\n",
    "                for zahl in ziel[k]:\n",
    "                    #print(\"j = \" + str(j))\n",
    "                    #print(\"kernel: \" + str(element[j]))\n",
    "                    #print(\"bild: \" + str(zahl))\n",
    "                    #print(\"-------------------------------\")\n",
    "                    #print(str(element[j]) + \" * \" + str(zahl))\n",
    "                    \n",
    "                    zwischenspeicher.append(element[j] * zahl)\n",
    "                    \n",
    "                    \n",
    "                    j = j + 1\n",
    "                    z = 0\n",
    "                j = 0\n",
    "                k = k + 1\n",
    "            k = 0\n",
    "            #print(ziel)\n",
    "            #print(\"bild[\" + str(a) + \"][\" + str(b) + \"]\" + \"bild[\" + str(c) + \"][\" + str(d) + \"]\" + \"bild[\" + str(e) + \"][\" + str(f) + \"]\")\n",
    "            #print(\"bild[\" + str(g) + \"][\" + str(h) + \"]\" + \"bild[\" + str(l) + \"][\" + str(m) + \"]\" + \"bild[\" + str(n) + \"][\" + str(o) + \"]\")\n",
    "            #print(\"bild[\" + str(p) + \"][\" + str(q) + \"]\" + \"bild[\" + str(r) + \"][\" + str(s) + \"]\" + \"bild[\" + str(t) + \"][\" + str(u) + \"]\")\n",
    "                 \n",
    "            for stand in zwischenspeicher:\n",
    "                  z = z + stand\n",
    "            print(z/9)\n",
    "            ergebnis.append(z/9)\n",
    "\n",
    "            zwischenspeicher = []\n",
    "            b = b + 1\n",
    "            d = d + 1\n",
    "            f = f + 1\n",
    "            h = h + 1\n",
    "            m = m + 1\n",
    "            o = o + 1\n",
    "            q = q + 1\n",
    "            s = s + 1\n",
    "            u = u + 1\n",
    "            \n",
    "            if f < 9:\n",
    "                ziel = []\n",
    "                ziel.append([bild[a][b], bild[c][d], bild[e][f]])\n",
    "                ziel.append([bild[g][h], bild[l][m], bild[n][o]])\n",
    "                ziel.append([bild[p][q], bild[r][s], bild[t][u]])\n",
    "           \n",
    "            i = i + 1\n",
    "        i = 1\n",
    "        y = y + 1\n",
    "        a = a + 1\n",
    "        c = c + 1\n",
    "        e = e + 1\n",
    "        g = g + 1\n",
    "        l = l + 1\n",
    "        n = n + 1\n",
    "        p = p + 1\n",
    "        r = r + 1\n",
    "        t = t + 1\n",
    "        b = 0\n",
    "        d = 1\n",
    "        f = 2\n",
    "        h = 0\n",
    "        m = 1\n",
    "        o = 2\n",
    "        q = 0\n",
    "        s = 1\n",
    "        u = 2\n",
    "        if p < 9:\n",
    "            ziel = []\n",
    "            ziel.append([bild[a][b], bild[c][d], bild[e][f]])\n",
    "            ziel.append([bild[g][h], bild[l][m], bild[n][o]])\n",
    "            ziel.append([bild[p][q], bild[r][s], bild[t][u]])\n",
    "    return ergebnis"
   ]
  },
  {
   "cell_type": "code",
   "execution_count": 26,
   "id": "3331a00e",
   "metadata": {},
   "outputs": [
    {
     "name": "stdout",
     "output_type": "stream",
     "text": [
      "0.1111111111111111\n",
      "0.1111111111111111\n",
      "0.1111111111111111\n",
      "0.1111111111111111\n",
      "0.1111111111111111\n",
      "0.1111111111111111\n",
      "0.1111111111111111\n",
      "0.1111111111111111\n",
      "0.3333333333333333\n",
      "-0.5555555555555556\n",
      "1.0\n",
      "-0.5555555555555556\n",
      "0.3333333333333333\n",
      "0.1111111111111111\n",
      "0.1111111111111111\n",
      "0.1111111111111111\n",
      "-0.1111111111111111\n",
      "0.3333333333333333\n",
      "-0.1111111111111111\n",
      "0.1111111111111111\n",
      "0.1111111111111111\n",
      "0.3333333333333333\n",
      "-0.5555555555555556\n",
      "0.7777777777777778\n",
      "-0.7777777777777778\n",
      "0.7777777777777778\n",
      "-0.5555555555555556\n",
      "0.3333333333333333\n",
      "0.1111111111111111\n",
      "-0.1111111111111111\n",
      "0.3333333333333333\n",
      "-0.3333333333333333\n",
      "0.3333333333333333\n",
      "-0.1111111111111111\n",
      "0.1111111111111111\n",
      "-0.3333333333333333\n",
      "0.7777777777777778\n",
      "-0.1111111111111111\n",
      "0.3333333333333333\n",
      "-0.1111111111111111\n",
      "0.7777777777777778\n",
      "-0.3333333333333333\n",
      "-0.1111111111111111\n",
      "0.1111111111111111\n",
      "-0.3333333333333333\n",
      "-0.1111111111111111\n",
      "-0.3333333333333333\n",
      "0.1111111111111111\n",
      "-0.1111111111111111\n"
     ]
    },
    {
     "data": {
      "image/png": "[encoded data removed]",
      "text/plain": [
       "<Figure size 432x288 with 2 Axes>"
      ]
     },
     "metadata": {},
     "output_type": "display_data"
    }
   ],
   "source": [
    "ergebnis = kernel_iterate(kernel1, bild2)\n",
    "i = 0\n",
    "a = 0\n",
    "b = 7\n",
    "e1heat = []\n",
    "while i < 7:\n",
    "    e1heat.append(ergebnis[a:b])\n",
    "    a = a + 7\n",
    "    b = b + 7\n",
    "    i = i + 1\n",
    "e1heat\n",
    "e1 = sns.heatmap(e1heat)\n"
   ]
  },
  {
   "cell_type": "code",
   "execution_count": null,
   "id": "4b25e657",
   "metadata": {},
   "outputs": [],
   "source": []
  }
 ],
 "metadata": {
  "kernelspec": {
   "display_name": "Python 3",
   "language": "python",
   "name": "python3"
  },
  "language_info": {
   "codemirror_mode": {
    "name": "ipython",
    "version": 3
   },
   "file_extension": ".py",
   "mimetype": "text/x-python",
   "name": "python",
   "nbconvert_exporter": "python",
   "pygments_lexer": "ipython3",
   "version": "3.8.8"
  }
 },
 "nbformat": 4,
 "nbformat_minor": 5
}
