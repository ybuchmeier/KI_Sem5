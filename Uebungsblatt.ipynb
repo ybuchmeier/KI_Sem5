{
 "cells": [
  {
   "cell_type": "markdown",
   "id": "00fc2c82",
   "metadata": {},
   "source": [
    "# Übungsblatt"
   ]
  },
  {
   "cell_type": "code",
   "execution_count": 1,
   "id": "ba1be90e",
   "metadata": {},
   "outputs": [],
   "source": [
    "import numpy as np\n",
    "\n",
    "# Seaborn wird für das Visualisieren der Bild-Arrays verwendet\n",
    "from seaborn import heatmap"
   ]
  },
  {
   "cell_type": "code",
   "execution_count": 2,
   "id": "99c41fad",
   "metadata": {},
   "outputs": [],
   "source": [
    "def isSquare(arr: list, check_type: bool = True) -> bool:\n",
    "    \"\"\"Überprüft, ob die übergebene Liste quadratisch ist.\n",
    "    check_type überprüft, dass der innere Typ keine weitere Liste ist.\"\"\"\n",
    "    \n",
    "    outer_count = len(arr)\n",
    "    for inner in arr:\n",
    "        if len(inner) != outer_count:\n",
    "            return False\n",
    "        \n",
    "        if check_type and any(type(el) is list for el in inner):\n",
    "            return False\n",
    "        \n",
    "    return True\n"
   ]
  },
  {
   "cell_type": "code",
   "execution_count": 3,
   "id": "93c73cf6",
   "metadata": {},
   "outputs": [],
   "source": [
    "def prepare_for_heatmap(ergebnis: list, rows: int, cols: int) -> list:\n",
    "    \"\"\"Formatierung für heatmap Funktion\"\"\"\n",
    "    \n",
    "    a = 0\n",
    "    b = cols\n",
    "    heat = []\n",
    "\n",
    "    for i in range(rows):\n",
    "        heat.append(ergebnis[a:b])\n",
    "        a += cols\n",
    "        b += cols\n",
    "    \n",
    "    return heat"
   ]
  },
  {
   "cell_type": "code",
   "execution_count": 4,
   "id": "2213fdef",
   "metadata": {},
   "outputs": [
    {
     "name": "stdout",
     "output_type": "stream",
     "text": [
      "[[-1 -1 -1 -1 -1 -1 -1 -1 -1]\n",
      " [-1  1  1  1  1  1  1  1 -1]\n",
      " [-1  1 -1 -1 -1 -1 -1  1 -1]\n",
      " [-1  1 -1 -1 -1 -1 -1  1 -1]\n",
      " [-1  1 -1 -1 -1 -1 -1  1 -1]\n",
      " [-1  1 -1 -1 -1 -1 -1  1 -1]\n",
      " [-1  1 -1 -1 -1 -1 -1  1 -1]\n",
      " [-1  1  1  1  1  1  1  1 -1]\n",
      " [-1 -1 -1 -1 -1 -1 -1 -1 -1]]\n"
     ]
    },
    {
     "data": {
      "image/png": "[encoded data removed]",
      "text/plain": [
       "<Figure size 432x288 with 2 Axes>"
      ]
     },
     "metadata": {
      "needs_background": "light"
     },
     "output_type": "display_data"
    }
   ],
   "source": [
    "# Setup Bild 1\n",
    "bild1 = [\n",
    "    [-1, -1, -1, -1, -1, -1, -1, -1, -1],\n",
    "    [-1,  1,  1,  1,  1,  1,  1,  1, -1],\n",
    "    [-1,  1, -1, -1, -1, -1, -1,  1, -1],\n",
    "    [-1,  1, -1, -1, -1, -1, -1,  1, -1],\n",
    "    [-1,  1, -1, -1, -1, -1, -1,  1, -1],\n",
    "    [-1,  1, -1, -1, -1, -1, -1,  1, -1],\n",
    "    [-1,  1, -1, -1, -1, -1, -1,  1, -1],\n",
    "    [-1,  1,  1,  1,  1,  1,  1,  1, -1],\n",
    "    [-1, -1, -1, -1, -1, -1, -1, -1, -1]\n",
    "]\n",
    "\n",
    "print(np.array(bild1))\n",
    "_ = heatmap(bild1)"
   ]
  },
  {
   "cell_type": "code",
   "execution_count": 5,
   "id": "fe63b67c",
   "metadata": {},
   "outputs": [
    {
     "name": "stdout",
     "output_type": "stream",
     "text": [
      "[[-1 -1 -1 -1 -1 -1 -1 -1 -1]\n",
      " [-1 -1 -1 -1  1 -1 -1 -1 -1]\n",
      " [-1 -1 -1 -1  1 -1 -1 -1 -1]\n",
      " [-1 -1 -1  1 -1  1 -1 -1 -1]\n",
      " [-1 -1 -1  1 -1  1 -1 -1 -1]\n",
      " [-1 -1  1 -1 -1 -1  1 -1 -1]\n",
      " [-1 -1  1 -1 -1 -1  1 -1 -1]\n",
      " [-1  1  1  1  1  1  1  1 -1]\n",
      " [-1 -1 -1 -1 -1 -1 -1 -1 -1]]\n"
     ]
    },
    {
     "data": {
      "image/png": "[encoded data removed]",
      "text/plain": [
       "<Figure size 432x288 with 2 Axes>"
      ]
     },
     "metadata": {
      "needs_background": "light"
     },
     "output_type": "display_data"
    }
   ],
   "source": [
    "# Setup Bild 2\n",
    "bild2 = [\n",
    "    [-1, -1, -1, -1, -1, -1, -1, -1, -1],\n",
    "    [-1, -1, -1, -1,  1, -1, -1, -1, -1],\n",
    "    [-1, -1, -1, -1,  1, -1, -1, -1, -1],\n",
    "    [-1, -1, -1,  1, -1,  1, -1, -1, -1],\n",
    "    [-1, -1, -1,  1, -1,  1, -1, -1, -1],\n",
    "    [-1, -1,  1, -1, -1, -1,  1, -1, -1],\n",
    "    [-1, -1,  1, -1, -1, -1,  1, -1, -1],\n",
    "    [-1,  1,  1,  1,  1,  1,  1,  1, -1],\n",
    "    [-1, -1, -1, -1, -1, -1, -1, -1, -1]\n",
    "]\n",
    "\n",
    "print(np.array(bild2))\n",
    "_ = heatmap(bild2)"
   ]
  },
  {
   "cell_type": "code",
   "execution_count": 6,
   "id": "a3d75c07",
   "metadata": {},
   "outputs": [],
   "source": [
    "# Setup kernels\n",
    "\n",
    "kernel1 = [\n",
    "    [-1,  1, -1],\n",
    "    [-1,  1, -1],\n",
    "    [ 1, -1,  1]\n",
    "]\n",
    "\n",
    "kernel2 = [\n",
    "    [-1, 1, -1],\n",
    "    [-1, 1, -1],\n",
    "    [ 1, 1,  1]\n",
    "]\n",
    "\n",
    "kernel3 = [\n",
    "    [1,  1,  1],\n",
    "    [1, -1, -1],\n",
    "    [1, -1, -1]\n",
    "]\n",
    "\n",
    "kernel4 = [\n",
    "    [ 1,  1, 1],\n",
    "    [-1, -1, 1],\n",
    "    [-1, -1, 1]\n",
    "]\n",
    "\n",
    "kernel5 = [\n",
    "    [1, -1, -1],\n",
    "    [1, -1, -1],\n",
    "    [1,  1,  1]\n",
    "]\n",
    "\n",
    "kernel6 = [\n",
    "    [-1, -1, 1],\n",
    "    [-1, -1, 1],\n",
    "    [ 1, -1, 1]\n",
    "]"
   ]
  },
  {
   "cell_type": "code",
   "execution_count": 7,
   "id": "4536d96e",
   "metadata": {},
   "outputs": [],
   "source": [
    "class Pixel:\n",
    "    \n",
    "    def __init__(self, row: int, column: int):\n",
    "        self.row = row\n",
    "        self.column = column\n",
    "        self.__original_column = column\n",
    "    \n",
    "    def get_info_from_image(self, img: list):\n",
    "        return img[self.row][self.column]\n",
    "    \n",
    "    def move_to_next_line(self):\n",
    "        self.row += 1\n",
    "        self.column = self.__original_column\n",
    "    \n",
    "    def __repr__(self):\n",
    "        return f\"({self.row}, {self.column})\""
   ]
  },
  {
   "cell_type": "code",
   "execution_count": 8,
   "id": "9e213a18",
   "metadata": {},
   "outputs": [],
   "source": [
    "def kernel_iterate(kernel: list, bild: list):\n",
    "    \"\"\"kernel und bild sollten eine Liste mit weiteren Listen als Inhalt sein.\"\"\"\n",
    "    \n",
    "    ergebnis = [] # die fertige feature map\n",
    "    ziel = [] # aktuell betrachterter Ausschnitt\n",
    "    \n",
    "    frame = [] # ist die aktuelle Position des Kernels\n",
    "    for i in range(len(kernel)):\n",
    "        for j in range(len(kernel[i])):\n",
    "            frame.append(Pixel(i, j));\n",
    "    \n",
    "    # Ausschnitt wird aktualisiert\n",
    "    for i in range(2, 9, 3):\n",
    "        ziel.append([frame[i - 2].get_info_from_image(bild), frame[i - 1].get_info_from_image(bild), frame[i].get_info_from_image(bild)])\n",
    "\n",
    "    # durch alle Pixel des Bilds durchiterieren\n",
    "    for y in range(1, 8):\n",
    "        for i in range(1, 8):\n",
    "            zwischenspeicher = []\n",
    "            \n",
    "            for k, element in enumerate(kernel):\n",
    "                for j, zahl in enumerate(ziel[k]):\n",
    "                    zwischenspeicher.append(element[j] * zahl)\n",
    "                    \n",
    "            ergebnis.append(np.average(zwischenspeicher))\n",
    "\n",
    "            # die Kernelposition um eine Spalte verschieben \n",
    "            for pixel in frame:\n",
    "                pixel.column += 1\n",
    "            \n",
    "            # Ende des Bilds erreicht\n",
    "            if frame[2].column < len(bild[0]):\n",
    "                ziel = []\n",
    "                # Ausschnitt neu bestimmen\n",
    "                for i in range(2, 9, 3):\n",
    "                    ziel.append([frame[i - 2].get_info_from_image(bild), frame[i - 1].get_info_from_image(bild), frame[i].get_info_from_image(bild)])\n",
    "        \n",
    "        # Kernelposition um eine Zeile verschieben\n",
    "        for pixel in frame:\n",
    "            pixel.move_to_next_line()\n",
    "        \n",
    "        # Ende des Bilds erreicht\n",
    "        if frame[6].row < len(bild):\n",
    "            ziel = []\n",
    "            # Ausschnitt neu bestimmen\n",
    "            for i in range(2, 9, 3):\n",
    "                ziel.append([frame[i - 2].get_info_from_image(bild), frame[i - 1].get_info_from_image(bild), frame[i].get_info_from_image(bild)])\n",
    "    return ergebnis"
   ]
  },
  {
   "cell_type": "code",
   "execution_count": 9,
   "id": "3331a00e",
   "metadata": {
    "scrolled": false
   },
   "outputs": [
    {
     "data": {
      "image/png": "[encoded data removed]",
      "text/plain": [
       "<Figure size 432x288 with 2 Axes>"
      ]
     },
     "metadata": {
      "needs_background": "light"
     },
     "output_type": "display_data"
    }
   ],
   "source": [
    "ergebnis = kernel_iterate(kernel1, bild2)\n",
    "\n",
    "DIMENSIONS = 7\n",
    "\n",
    "_ = heatmap(prepare_for_heatmap(ergebnis, DIMENSIONS, DIMENSIONS))"
   ]
  },
  {
   "cell_type": "code",
   "execution_count": 10,
   "id": "c2da3ef0",
   "metadata": {},
   "outputs": [
    {
     "data": {
      "image/png": "[encoded data removed]",
      "text/plain": [
       "<Figure size 432x288 with 2 Axes>"
      ]
     },
     "metadata": {
      "needs_background": "light"
     },
     "output_type": "display_data"
    }
   ],
   "source": [
    "ergebnis = kernel_iterate(kernel3, bild1)\n",
    "\n",
    "DIMENSIONS = 7\n",
    "\n",
    "_ = heatmap(prepare_for_heatmap(ergebnis, DIMENSIONS, DIMENSIONS))"
   ]
  },
  {
   "cell_type": "code",
   "execution_count": 11,
   "id": "9da22d70",
   "metadata": {},
   "outputs": [],
   "source": [
    "def relu(liste: list):\n",
    "    ergebnis = []\n",
    "    for zahl in liste:\n",
    "        if zahl < 0:\n",
    "            a = 0\n",
    "        else:\n",
    "            a = zahl\n",
    "        ergebnis.append(a)\n",
    "    return ergebnis"
   ]
  },
  {
   "cell_type": "code",
   "execution_count": 12,
   "id": "95a514fc",
   "metadata": {},
   "outputs": [
    {
     "data": {
      "image/png": "[encoded data removed]",
      "text/plain": [
       "<Figure size 432x288 with 2 Axes>"
      ]
     },
     "metadata": {
      "needs_background": "light"
     },
     "output_type": "display_data"
    }
   ],
   "source": [
    "ergebnis = kernel_iterate(kernel3, bild1)\n",
    "ergebnisRelu = relu(ergebnis)\n",
    "i = 0\n",
    "a = 0\n",
    "b = 7\n",
    "e1heat = []\n",
    "while i < 7:\n",
    "    e1heat.append(ergebnisRelu[a:b])\n",
    "    a = a + 7\n",
    "    b = b + 7\n",
    "    i = i + 1\n",
    "e1heat\n",
    "_ = heatmap(e1heat)"
   ]
  },
  {
   "cell_type": "code",
   "execution_count": 17,
   "id": "cdff399f",
   "metadata": {},
   "outputs": [],
   "source": [
    "def pooling(ergMa: list):\n",
    "    \"\"\"Die Ergebnismatrix (ergMa) sollte eine Liste mit weiteren Listen als Inhalt sein.\"\"\"\n",
    "    ergebnis = []\n",
    "    a = 0\n",
    "    b = 0\n",
    "    c = 0\n",
    "    d = 1\n",
    "    e = 1\n",
    "    f = 0\n",
    "    g = 1\n",
    "    h = 1\n",
    "\n",
    "    #Pruefen, ob ungerade Anzahl an Zeilen und Spalten\n",
    "    if (len(ergMa) % 2) > 0:\n",
    "        ergMa.append([0, 0, 0, 0, 0, 0, 0, 0])\n",
    "    if (len(ergMa[0])) % 2 > 0:\n",
    "        for liste in ergMa:\n",
    "            liste.append(0)\n",
    "    print(ergMa)\n",
    "        \n",
    "        \n",
    "    i = 1\n",
    "    j = 1\n",
    "\n",
    "    while j < 5:\n",
    "        while i < 5:\n",
    "            if (a < 7) and (b < 7): \n",
    "                ziel = [ergMa[a][b], ergMa[c][d], ergMa[e][f], ergMa[g][h]]\n",
    "                ergebnis.append(max(ziel))\n",
    "                #print(\"ziel: \" + str(ziel))\n",
    "                #print(str(a) + \" \" + str(b) + \" | \" + str(c) + \" \" + str(d))\n",
    "                #print(str(e) + \" \" + str(f) + \" | \" + str(g) + \" \" + str(h))  \n",
    "            b += 2\n",
    "            d += 2\n",
    "            f += 2\n",
    "            h += 2\n",
    "            \n",
    "            i += 1\n",
    "        i = 0\n",
    "        b = 0\n",
    "        d = 1\n",
    "        f = 0\n",
    "        h = 1\n",
    "        j += 1\n",
    "        a += 2\n",
    "        c += 2\n",
    "        e += 2\n",
    "        g += 2\n",
    "            \n",
    "    return ergebnis\n",
    "    \n",
    "    "
   ]
  },
  {
   "cell_type": "code",
   "execution_count": 18,
   "id": "bb90ef2d",
   "metadata": {},
   "outputs": [
    {
     "name": "stdout",
     "output_type": "stream",
     "text": [
      "8\n",
      "[[0, 0, 0, 0, 0, 0, 0, 0], [0, 1.0, 0.5555555555555556, 0.5555555555555556, 0.5555555555555556, 0.1111111111111111, 0, 0], [0, 0.5555555555555556, 0, 0, 0, 0, 0, 0], [0, 0.5555555555555556, 0, 0, 0, 0, 0, 0], [0, 0.5555555555555556, 0, 0, 0, 0, 0, 0], [0, 0.1111111111111111, 0, 0, 0, 0, 0, 0], [0, 0, 0, 0, 0, 0, 0.1111111111111111, 0], [0, 0, 0, 0, 0, 0, 0, 0, 0]]\n"
     ]
    },
    {
     "data": {
      "image/png": "[encoded data removed]",
      "text/plain": [
       "<Figure size 432x288 with 2 Axes>"
      ]
     },
     "metadata": {
      "needs_background": "light"
     },
     "output_type": "display_data"
    }
   ],
   "source": [
    "ergMa = pooling(e1heat)\n",
    "\n",
    "_ = heatmap(prepare_for_heatmap(ergMa, 4, 4))"
   ]
  },
  {
   "cell_type": "code",
   "execution_count": null,
   "id": "13b51af1",
   "metadata": {},
   "outputs": [],
   "source": []
  }
 ],
 "metadata": {
  "kernelspec": {
   "display_name": "Python 3",
   "language": "python",
   "name": "python3"
  },
  "language_info": {
   "codemirror_mode": {
    "name": "ipython",
    "version": 3
   },
   "file_extension": ".py",
   "mimetype": "text/x-python",
   "name": "python",
   "nbconvert_exporter": "python",
   "pygments_lexer": "ipython3",
   "version": "3.8.8"
  }
 },
 "nbformat": 4,
 "nbformat_minor": 5
}
