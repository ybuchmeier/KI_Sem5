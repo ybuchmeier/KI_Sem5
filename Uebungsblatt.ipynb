{
 "cells": [
  {
   "cell_type": "markdown",
   "id": "00fc2c82",
   "metadata": {},
   "source": [
    "<b>Übungsblatt</b>"
   ]
  },
  {
   "cell_type": "code",
   "execution_count": 3,
   "id": "2213fdef",
   "metadata": {},
   "outputs": [],
   "source": [
    "bild1 = []\n",
    "bild1.append([-1, -1, -1, -1, -1, -1, -1, -1, -1])\n",
    "bild1.append([-1, 1, 1, 1, 1, 1, 1, 1, -1])\n",
    "bild1.append([-1, 1, -1, -1, -1, -1, -1, 1, -1])\n",
    "bild1.append([-1, 1, -1, -1, -1, -1, -1, 1, -1])\n",
    "bild1.append([-1, 1, -1, -1, -1, -1, -1, 1, -1])\n",
    "bild1.append([-1, 1, -1, -1, -1, -1, -1, 1, -1])\n",
    "bild1.append([-1, 1, -1, -1, -1, -1, -1, 1, -1])\n",
    "bild1.append([-1, 1, 1, 1, 1, 1, 1, 1, -1])\n",
    "bild1.append([-1, -1, -1, -1, -1, -1, -1, -1, -1])"
   ]
  },
  {
   "cell_type": "code",
   "execution_count": 4,
   "id": "a469e857",
   "metadata": {
    "scrolled": true
   },
   "outputs": [
    {
     "data": {
      "text/plain": [
       "[[-1, -1, -1, -1, -1, -1, -1, -1, -1],\n",
       " [-1, 1, 1, 1, 1, 1, 1, 1, -1],\n",
       " [-1, 1, -1, -1, -1, -1, -1, 1, -1],\n",
       " [-1, 1, -1, -1, -1, -1, -1, 1, -1],\n",
       " [-1, 1, -1, -1, -1, -1, -1, 1, -1],\n",
       " [-1, 1, -1, -1, -1, -1, -1, 1, -1],\n",
       " [-1, 1, -1, -1, -1, -1, -1, 1, -1],\n",
       " [-1, 1, 1, 1, 1, 1, 1, 1, -1],\n",
       " [-1, -1, -1, -1, -1, -1, -1, -1, -1]]"
      ]
     },
     "execution_count": 4,
     "metadata": {},
     "output_type": "execute_result"
    }
   ],
   "source": [
    "bild1"
   ]
  },
  {
   "cell_type": "code",
   "execution_count": 7,
   "id": "fe63b67c",
   "metadata": {},
   "outputs": [],
   "source": [
    "bild2 = []\n",
    "bild2.append([-1, -1, -1, -1, -1, -1, -1, -1, -1])\n",
    "bild2.append([-1, -1, -1, -1, 1, -1, -1, -1, -1])\n",
    "bild2.append([-1, -1, -1, -1, 1, -1, -1, -1, -1])\n",
    "bild2.append([-1, -1, -1, 1, -1, 1, -1, -1, -1])\n",
    "bild2.append([-1, -1, -1, 1, -1, 1, -1, -1, -1])\n",
    "bild2.append([-1, -1, 1, -1, -1, -1, 1, -1, -1])\n",
    "bild2.append([-1, -1, 1, -1, -1, -1, 1, -1, -1])\n",
    "bild2.append([-1, 1, 1, 1, 1, 1, 1, 1, -1])\n",
    "bild2.append([-1, -1, -1, -1, -1, -1, -1, -1, -1])"
   ]
  },
  {
   "cell_type": "code",
   "execution_count": 5,
   "id": "b5631ab9",
   "metadata": {},
   "outputs": [
    {
     "data": {
      "image/png": "[encoded data removed]",
      "text/plain": [
       "<Figure size 432x288 with 2 Axes>"
      ]
     },
     "metadata": {},
     "output_type": "display_data"
    }
   ],
   "source": [
    "import numpy as np\n",
    "import seaborn as sns; sns.set_theme()\n",
    "b1 = sns.heatmap(bild1)"
   ]
  },
  {
   "cell_type": "code",
   "execution_count": 8,
   "id": "b8aef314",
   "metadata": {
    "scrolled": true
   },
   "outputs": [
    {
     "data": {
      "image/png": "[encoded data removed]",
      "text/plain": [
       "<Figure size 432x288 with 2 Axes>"
      ]
     },
     "metadata": {},
     "output_type": "display_data"
    }
   ],
   "source": [
    "b2 = sns.heatmap(bild2)"
   ]
  },
  {
   "cell_type": "code",
   "execution_count": 9,
   "id": "2e44b935",
   "metadata": {},
   "outputs": [
    {
     "name": "stdout",
     "output_type": "stream",
     "text": [
      "-1\n",
      "-1\n",
      "-1\n",
      "-1\n",
      "-1\n",
      "-1\n",
      "-1\n",
      "-1\n",
      "-1\n",
      "-1\n",
      "1\n",
      "1\n",
      "1\n",
      "1\n",
      "1\n",
      "1\n",
      "1\n",
      "-1\n",
      "-1\n",
      "1\n",
      "-1\n",
      "-1\n",
      "-1\n",
      "-1\n",
      "-1\n",
      "1\n",
      "-1\n",
      "-1\n",
      "1\n",
      "-1\n",
      "-1\n",
      "-1\n",
      "-1\n",
      "-1\n",
      "1\n",
      "-1\n",
      "-1\n",
      "1\n",
      "-1\n",
      "-1\n",
      "-1\n",
      "-1\n",
      "-1\n",
      "1\n",
      "-1\n",
      "-1\n",
      "1\n",
      "-1\n",
      "-1\n",
      "-1\n",
      "-1\n",
      "-1\n",
      "1\n",
      "-1\n",
      "-1\n",
      "1\n",
      "-1\n",
      "-1\n",
      "-1\n",
      "-1\n",
      "-1\n",
      "1\n",
      "-1\n",
      "-1\n",
      "1\n",
      "1\n",
      "1\n",
      "1\n",
      "1\n",
      "1\n",
      "1\n",
      "-1\n",
      "-1\n",
      "-1\n",
      "-1\n",
      "-1\n",
      "-1\n",
      "-1\n",
      "-1\n",
      "-1\n",
      "-1\n"
     ]
    }
   ],
   "source": [
    "for array in bild1:\n",
    "    for pixel in array:\n",
    "        print(pixel)"
   ]
  }
 ],
 "metadata": {
  "kernelspec": {
   "display_name": "Python 3",
   "language": "python",
   "name": "python3"
  },
  "language_info": {
   "codemirror_mode": {
    "name": "ipython",
    "version": 3
   },
   "file_extension": ".py",
   "mimetype": "text/x-python",
   "name": "python",
   "nbconvert_exporter": "python",
   "pygments_lexer": "ipython3",
   "version": "3.8.8"
  }
 },
 "nbformat": 4,
 "nbformat_minor": 5
}
