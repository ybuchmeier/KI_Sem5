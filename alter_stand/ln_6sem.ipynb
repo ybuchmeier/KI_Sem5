{
 "cells": [
  {
   "cell_type": "code",
   "execution_count": 1,
   "id": "95bb8217",
   "metadata": {},
   "outputs": [],
   "source": [
    "import pandas as pd\n",
    "import numpy as np\n",
    "from sklearn import svm\n",
    "import seaborn as sns\n",
    "from matplotlib import pyplot as plt\n",
    "\n",
    "#!pip install bayesian-optimization\n",
    "#!pip install torch\n",
    "#!pip install pyro\n"
   ]
  },
  {
   "cell_type": "markdown",
   "id": "dd350be7",
   "metadata": {},
   "source": [
    "|Variable|Erklärung|Anmerkung|\n",
    "|:---|:---|:---|\n",
    "Age|Age of the patient|\n",
    "Sex|Sex of the patient\n",
    "exang|exercise induced angina (1 = yes; 0 = no)|Hat man Engegefühl wenn man Sport macht?\n",
    "caa|number of major vessels (0-3)|weglassen, da Beschreibung uneindeutig, Skala passt auch nicht [0-3] \n",
    "cp|Chest Pain type chest pain type|Value 1: typical angina<br>Value 2: atypical angina<br>Value 3: non-anginal pain<br>Value 4: asymptomatic\n",
    "trtbps|resting blood pressure (in mm Hg): Blutdruck bei Ruhe\n",
    "chol|cholestoral in mg/dl fetched via BMI sensor|Cholesterinspiegel\n",
    "fbs|(fasting blood sugar > 120 mg/dl) (1 = true; 0 = false)|Erhöhter Blutzucker\n",
    "rest_ecg|resting electrocardiographic results|Value 0: normal<br>Value 1: having ST-T wave abnormality (T wave inversions and/or ST elevation or depression of > 0.05 mV)<br>Value 2: showing probable or definite left ventricular hypertrophy by Estes' criteria\n",
    "thalach|maximum heart rate achieved: Puls\n",
    "target|0= less chance of heart attack 1= more chance of heart attack"
   ]
  },
  {
   "cell_type": "code",
   "execution_count": 2,
   "id": "1b4132b0",
   "metadata": {
    "scrolled": false
   },
   "outputs": [],
   "source": [
    "# Datenset laden\n",
    "# https://www.kaggle.com/rashikrahmanpritom/heart-attack-analysis-prediction-dataset\n",
    "fulldata = pd.read_csv(\"heart.csv\")"
   ]
  },
  {
   "cell_type": "code",
   "execution_count": 3,
   "id": "ee03754a",
   "metadata": {},
   "outputs": [],
   "source": [
    "# Datentypen anpassen\n",
    "cols = [\n",
    "    \"sex\",\n",
    "    \"cp\",\n",
    "    \"restecg\",\n",
    "    \"output\"\n",
    "]\n",
    "\n",
    "for col in cols:\n",
    "    fulldata[col] = fulldata[col].astype(\"category\")\n",
    "    \n",
    "cols = [\n",
    "    \"exng\"\n",
    "    \"fbs\"\n",
    "]\n",
    "\n",
    "for col in cols:\n",
    "    fulldata[col] = fulldata[col].astype(\"bool\")"
   ]
  },
  {
   "cell_type": "code",
   "execution_count": 4,
   "id": "6c5452ea",
   "metadata": {},
   "outputs": [
    {
     "data": {
      "text/html": [
       "<div>\n",
       "<style scoped>\n",
       "    .dataframe tbody tr th:only-of-type {\n",
       "        vertical-align: middle;\n",
       "    }\n",
       "\n",
       "    .dataframe tbody tr th {\n",
       "        vertical-align: top;\n",
       "    }\n",
       "\n",
       "    .dataframe thead th {\n",
       "        text-align: right;\n",
       "    }\n",
       "</style>\n",
       "<table border=\"1\" class=\"dataframe\">\n",
       "  <thead>\n",
       "    <tr style=\"text-align: right;\">\n",
       "      <th></th>\n",
       "      <th>age</th>\n",
       "      <th>sex</th>\n",
       "      <th>cp</th>\n",
       "      <th>trtbps</th>\n",
       "      <th>chol</th>\n",
       "      <th>fbs</th>\n",
       "      <th>restecg</th>\n",
       "      <th>thalachh</th>\n",
       "      <th>exng</th>\n",
       "      <th>oldpeak</th>\n",
       "      <th>slp</th>\n",
       "      <th>caa</th>\n",
       "      <th>thall</th>\n",
       "    </tr>\n",
       "  </thead>\n",
       "  <tbody>\n",
       "    <tr>\n",
       "      <th>0</th>\n",
       "      <td>63</td>\n",
       "      <td>1</td>\n",
       "      <td>3</td>\n",
       "      <td>145</td>\n",
       "      <td>233</td>\n",
       "      <td>1</td>\n",
       "      <td>0</td>\n",
       "      <td>150</td>\n",
       "      <td>0</td>\n",
       "      <td>2.3</td>\n",
       "      <td>0</td>\n",
       "      <td>0</td>\n",
       "      <td>1</td>\n",
       "    </tr>\n",
       "    <tr>\n",
       "      <th>1</th>\n",
       "      <td>37</td>\n",
       "      <td>1</td>\n",
       "      <td>2</td>\n",
       "      <td>130</td>\n",
       "      <td>250</td>\n",
       "      <td>0</td>\n",
       "      <td>1</td>\n",
       "      <td>187</td>\n",
       "      <td>0</td>\n",
       "      <td>3.5</td>\n",
       "      <td>0</td>\n",
       "      <td>0</td>\n",
       "      <td>2</td>\n",
       "    </tr>\n",
       "    <tr>\n",
       "      <th>2</th>\n",
       "      <td>41</td>\n",
       "      <td>0</td>\n",
       "      <td>1</td>\n",
       "      <td>130</td>\n",
       "      <td>204</td>\n",
       "      <td>0</td>\n",
       "      <td>0</td>\n",
       "      <td>172</td>\n",
       "      <td>0</td>\n",
       "      <td>1.4</td>\n",
       "      <td>2</td>\n",
       "      <td>0</td>\n",
       "      <td>2</td>\n",
       "    </tr>\n",
       "    <tr>\n",
       "      <th>3</th>\n",
       "      <td>56</td>\n",
       "      <td>1</td>\n",
       "      <td>1</td>\n",
       "      <td>120</td>\n",
       "      <td>236</td>\n",
       "      <td>0</td>\n",
       "      <td>1</td>\n",
       "      <td>178</td>\n",
       "      <td>0</td>\n",
       "      <td>0.8</td>\n",
       "      <td>2</td>\n",
       "      <td>0</td>\n",
       "      <td>2</td>\n",
       "    </tr>\n",
       "    <tr>\n",
       "      <th>4</th>\n",
       "      <td>57</td>\n",
       "      <td>0</td>\n",
       "      <td>0</td>\n",
       "      <td>120</td>\n",
       "      <td>354</td>\n",
       "      <td>0</td>\n",
       "      <td>1</td>\n",
       "      <td>163</td>\n",
       "      <td>1</td>\n",
       "      <td>0.6</td>\n",
       "      <td>2</td>\n",
       "      <td>0</td>\n",
       "      <td>2</td>\n",
       "    </tr>\n",
       "    <tr>\n",
       "      <th>...</th>\n",
       "      <td>...</td>\n",
       "      <td>...</td>\n",
       "      <td>...</td>\n",
       "      <td>...</td>\n",
       "      <td>...</td>\n",
       "      <td>...</td>\n",
       "      <td>...</td>\n",
       "      <td>...</td>\n",
       "      <td>...</td>\n",
       "      <td>...</td>\n",
       "      <td>...</td>\n",
       "      <td>...</td>\n",
       "      <td>...</td>\n",
       "    </tr>\n",
       "    <tr>\n",
       "      <th>298</th>\n",
       "      <td>57</td>\n",
       "      <td>0</td>\n",
       "      <td>0</td>\n",
       "      <td>140</td>\n",
       "      <td>241</td>\n",
       "      <td>0</td>\n",
       "      <td>1</td>\n",
       "      <td>123</td>\n",
       "      <td>1</td>\n",
       "      <td>0.2</td>\n",
       "      <td>1</td>\n",
       "      <td>0</td>\n",
       "      <td>3</td>\n",
       "    </tr>\n",
       "    <tr>\n",
       "      <th>299</th>\n",
       "      <td>45</td>\n",
       "      <td>1</td>\n",
       "      <td>3</td>\n",
       "      <td>110</td>\n",
       "      <td>264</td>\n",
       "      <td>0</td>\n",
       "      <td>1</td>\n",
       "      <td>132</td>\n",
       "      <td>0</td>\n",
       "      <td>1.2</td>\n",
       "      <td>1</td>\n",
       "      <td>0</td>\n",
       "      <td>3</td>\n",
       "    </tr>\n",
       "    <tr>\n",
       "      <th>300</th>\n",
       "      <td>68</td>\n",
       "      <td>1</td>\n",
       "      <td>0</td>\n",
       "      <td>144</td>\n",
       "      <td>193</td>\n",
       "      <td>1</td>\n",
       "      <td>1</td>\n",
       "      <td>141</td>\n",
       "      <td>0</td>\n",
       "      <td>3.4</td>\n",
       "      <td>1</td>\n",
       "      <td>2</td>\n",
       "      <td>3</td>\n",
       "    </tr>\n",
       "    <tr>\n",
       "      <th>301</th>\n",
       "      <td>57</td>\n",
       "      <td>1</td>\n",
       "      <td>0</td>\n",
       "      <td>130</td>\n",
       "      <td>131</td>\n",
       "      <td>0</td>\n",
       "      <td>1</td>\n",
       "      <td>115</td>\n",
       "      <td>1</td>\n",
       "      <td>1.2</td>\n",
       "      <td>1</td>\n",
       "      <td>1</td>\n",
       "      <td>3</td>\n",
       "    </tr>\n",
       "    <tr>\n",
       "      <th>302</th>\n",
       "      <td>57</td>\n",
       "      <td>0</td>\n",
       "      <td>1</td>\n",
       "      <td>130</td>\n",
       "      <td>236</td>\n",
       "      <td>0</td>\n",
       "      <td>0</td>\n",
       "      <td>174</td>\n",
       "      <td>0</td>\n",
       "      <td>0.0</td>\n",
       "      <td>1</td>\n",
       "      <td>1</td>\n",
       "      <td>2</td>\n",
       "    </tr>\n",
       "  </tbody>\n",
       "</table>\n",
       "<p>303 rows × 13 columns</p>\n",
       "</div>"
      ],
      "text/plain": [
       "     age  sex  cp  trtbps  chol  fbs  restecg  thalachh  exng  oldpeak  slp  \\\n",
       "0     63    1   3     145   233    1        0       150     0      2.3    0   \n",
       "1     37    1   2     130   250    0        1       187     0      3.5    0   \n",
       "2     41    0   1     130   204    0        0       172     0      1.4    2   \n",
       "3     56    1   1     120   236    0        1       178     0      0.8    2   \n",
       "4     57    0   0     120   354    0        1       163     1      0.6    2   \n",
       "..   ...  ...  ..     ...   ...  ...      ...       ...   ...      ...  ...   \n",
       "298   57    0   0     140   241    0        1       123     1      0.2    1   \n",
       "299   45    1   3     110   264    0        1       132     0      1.2    1   \n",
       "300   68    1   0     144   193    1        1       141     0      3.4    1   \n",
       "301   57    1   0     130   131    0        1       115     1      1.2    1   \n",
       "302   57    0   1     130   236    0        0       174     0      0.0    1   \n",
       "\n",
       "     caa  thall  \n",
       "0      0      1  \n",
       "1      0      2  \n",
       "2      0      2  \n",
       "3      0      2  \n",
       "4      0      2  \n",
       "..   ...    ...  \n",
       "298    0      3  \n",
       "299    0      3  \n",
       "300    2      3  \n",
       "301    1      3  \n",
       "302    1      2  \n",
       "\n",
       "[303 rows x 13 columns]"
      ]
     },
     "execution_count": 4,
     "metadata": {},
     "output_type": "execute_result"
    }
   ],
   "source": [
    "#https://www.kaggle.com/rashikrahmanpritom/heart-attack-analysis-prediction-dataset\n",
    "fulldata = pd.read_csv(\"heart.csv\")\n",
    "#data = fulldata.drop(['cp', 'restecg', 'output'], axis=1)\n",
    "data = fulldata.drop(['output'], axis=1)\n",
    "output = fulldata['output']\n",
    "data"
   ]
  },
  {
   "cell_type": "code",
   "execution_count": 5,
   "id": "808b2031",
   "metadata": {},
   "outputs": [
    {
     "name": "stdout",
     "output_type": "stream",
     "text": [
      "(227, 13) (227,)\n",
      "(76, 13) (76,)\n"
     ]
    }
   ],
   "source": [
    "from sklearn.model_selection import train_test_split\n",
    "\n",
    "# load data\n",
    "X, y = data, output\n",
    "\n",
    "\n",
    "# split the data into 2 sets\n",
    "X_train, X_test, y_train, y_test = train_test_split(X, y, test_size=0.25)\n",
    "\n",
    "print(X_train.shape, y_train.shape)\n",
    "print(X_test.shape, y_test.shape)"
   ]
  },
  {
   "cell_type": "code",
   "execution_count": 6,
   "id": "1ea9b868",
   "metadata": {
    "scrolled": true
   },
   "outputs": [
    {
     "data": {
      "text/plain": [
       "[(0.8348387096774192, 'linear'),\n",
       " (0.663763440860215, 'poly'),\n",
       " (0.6604301075268817, 'rbf'),\n",
       " (0.5411827956989248, 'sigmoid')]"
      ]
     },
     "execution_count": 6,
     "metadata": {},
     "output_type": "execute_result"
    }
   ],
   "source": [
    "from sklearn.model_selection import cross_val_score\n",
    "\n",
    "result_array = []\n",
    "# warum keine precomputed method?\n",
    "methods = [\"linear\", \"poly\", \"rbf\", \"sigmoid\"]\n",
    "k = 10\n",
    "for i, element in enumerate(methods):\n",
    "    method = methods[i] \n",
    "    clf = svm.SVC(kernel=method, C=1, random_state=42)\n",
    "    scores = cross_val_score(clf, data, output, cv=k)\n",
    "    result_array.append((scores.mean(), method))\n",
    "result_array"
   ]
  },
  {
   "cell_type": "code",
   "execution_count": 7,
   "id": "9ba830db",
   "metadata": {},
   "outputs": [
    {
     "data": {
      "text/plain": [
       "SVC(C=1, kernel='linear')"
      ]
     },
     "execution_count": 7,
     "metadata": {},
     "output_type": "execute_result"
    }
   ],
   "source": [
    "#clf = svm.SVC(kernel=linear, C=1, random_state=42)\n",
    "#scores = cross_val_score(clf, data, output, cv=k)\n",
    "\n",
    "param_grid = [\n",
    "  {'C': [1, 10, 100, 1000], 'kernel': ['linear']}]\n",
    "\n",
    "from sklearn.model_selection import GridSearchCV\n",
    "\n",
    "# create a SVC and optimize it with a grid search\n",
    "svc = svm.SVC()\n",
    "clf = GridSearchCV(svc, param_grid)\n",
    "clf.fit(data, output)\n",
    "\n",
    "# get the best estimator\n",
    "clf.best_estimator_"
   ]
  },
  {
   "cell_type": "code",
   "execution_count": null,
   "id": "5622b3f6",
   "metadata": {},
   "outputs": [],
   "source": [
    "k = 5\n",
    "clf = svm.SVC(kernel=\"linear\", C=1, random_state=42)\n",
    "scores = cross_val_score(clf, data, output, cv=k)\n",
    "scores.mean()"
   ]
  },
  {
   "cell_type": "code",
   "execution_count": 8,
   "id": "0037f979",
   "metadata": {},
   "outputs": [
    {
     "name": "stdout",
     "output_type": "stream",
     "text": [
      "0.6973684210526315\n"
     ]
    }
   ],
   "source": [
    "k = 10\n",
    "clf = svm.SVC(kernel=\"linear\", C=0.0001, random_state=42)\n",
    "clf.fit(X_train, y_train)\n",
    "print(clf.score(X_test, y_test))\n"
   ]
  },
  {
   "cell_type": "code",
   "execution_count": 9,
   "id": "d2e9b4e5",
   "metadata": {},
   "outputs": [],
   "source": [
    "def black(C):\n",
    "    # C: SVC hyper parameter to optimize for.\n",
    "    #model = SVC(C = C, kernel=\"linear\" )\n",
    "    model = svm.SVC(kernel=\"linear\", C=C, random_state=42)\n",
    "    model.fit(X_train, y_train)\n",
    "    \n",
    "    #from sklearn.metrics import accuracy_score \n",
    "    #data[\"predicted\"] = model.predict(data) \n",
    "    #f = accuracy_score(y_true = fulldata[\"output\"], y_pred = data[\"predicted\"])\n",
    "    \n",
    "    \n",
    "    \n",
    "    #f = model.score(X_test, y_test)\n",
    "    #model.fit(X_train_scaled, y_train)\n",
    "    #model.fit(X_train, y_train)\n",
    "    #y_score = model.decision_function(X_test_scaled)\n",
    "    #y_score = model.decision_function(X_test)\n",
    "    #f = roc_auc_score(y_test, y_score)\n",
    "    #y_score = model.decision_function(X_test)\n",
    "    f = model.score(X_test, y_test)\n",
    "    return f"
   ]
  },
  {
   "cell_type": "code",
   "execution_count": 10,
   "id": "5deb8154",
   "metadata": {},
   "outputs": [
    {
     "data": {
      "text/plain": [
       "0.8552631578947368"
      ]
     },
     "execution_count": 10,
     "metadata": {},
     "output_type": "execute_result"
    }
   ],
   "source": [
    "black(30.93)"
   ]
  },
  {
   "cell_type": "code",
   "execution_count": 11,
   "id": "8956f85f",
   "metadata": {},
   "outputs": [
    {
     "data": {
      "text/html": [
       "<div>\n",
       "<style scoped>\n",
       "    .dataframe tbody tr th:only-of-type {\n",
       "        vertical-align: middle;\n",
       "    }\n",
       "\n",
       "    .dataframe tbody tr th {\n",
       "        vertical-align: top;\n",
       "    }\n",
       "\n",
       "    .dataframe thead th {\n",
       "        text-align: right;\n",
       "    }\n",
       "</style>\n",
       "<table border=\"1\" class=\"dataframe\">\n",
       "  <thead>\n",
       "    <tr style=\"text-align: right;\">\n",
       "      <th></th>\n",
       "      <th>age</th>\n",
       "      <th>sex</th>\n",
       "      <th>cp</th>\n",
       "      <th>trtbps</th>\n",
       "      <th>chol</th>\n",
       "      <th>fbs</th>\n",
       "      <th>restecg</th>\n",
       "      <th>thalachh</th>\n",
       "      <th>exng</th>\n",
       "      <th>oldpeak</th>\n",
       "      <th>slp</th>\n",
       "      <th>caa</th>\n",
       "      <th>thall</th>\n",
       "    </tr>\n",
       "  </thead>\n",
       "  <tbody>\n",
       "    <tr>\n",
       "      <th>0</th>\n",
       "      <td>63</td>\n",
       "      <td>1</td>\n",
       "      <td>3</td>\n",
       "      <td>145</td>\n",
       "      <td>233</td>\n",
       "      <td>1</td>\n",
       "      <td>0</td>\n",
       "      <td>150</td>\n",
       "      <td>0</td>\n",
       "      <td>2.3</td>\n",
       "      <td>0</td>\n",
       "      <td>0</td>\n",
       "      <td>1</td>\n",
       "    </tr>\n",
       "    <tr>\n",
       "      <th>1</th>\n",
       "      <td>37</td>\n",
       "      <td>1</td>\n",
       "      <td>2</td>\n",
       "      <td>130</td>\n",
       "      <td>250</td>\n",
       "      <td>0</td>\n",
       "      <td>1</td>\n",
       "      <td>187</td>\n",
       "      <td>0</td>\n",
       "      <td>3.5</td>\n",
       "      <td>0</td>\n",
       "      <td>0</td>\n",
       "      <td>2</td>\n",
       "    </tr>\n",
       "    <tr>\n",
       "      <th>2</th>\n",
       "      <td>41</td>\n",
       "      <td>0</td>\n",
       "      <td>1</td>\n",
       "      <td>130</td>\n",
       "      <td>204</td>\n",
       "      <td>0</td>\n",
       "      <td>0</td>\n",
       "      <td>172</td>\n",
       "      <td>0</td>\n",
       "      <td>1.4</td>\n",
       "      <td>2</td>\n",
       "      <td>0</td>\n",
       "      <td>2</td>\n",
       "    </tr>\n",
       "    <tr>\n",
       "      <th>3</th>\n",
       "      <td>56</td>\n",
       "      <td>1</td>\n",
       "      <td>1</td>\n",
       "      <td>120</td>\n",
       "      <td>236</td>\n",
       "      <td>0</td>\n",
       "      <td>1</td>\n",
       "      <td>178</td>\n",
       "      <td>0</td>\n",
       "      <td>0.8</td>\n",
       "      <td>2</td>\n",
       "      <td>0</td>\n",
       "      <td>2</td>\n",
       "    </tr>\n",
       "    <tr>\n",
       "      <th>4</th>\n",
       "      <td>57</td>\n",
       "      <td>0</td>\n",
       "      <td>0</td>\n",
       "      <td>120</td>\n",
       "      <td>354</td>\n",
       "      <td>0</td>\n",
       "      <td>1</td>\n",
       "      <td>163</td>\n",
       "      <td>1</td>\n",
       "      <td>0.6</td>\n",
       "      <td>2</td>\n",
       "      <td>0</td>\n",
       "      <td>2</td>\n",
       "    </tr>\n",
       "    <tr>\n",
       "      <th>...</th>\n",
       "      <td>...</td>\n",
       "      <td>...</td>\n",
       "      <td>...</td>\n",
       "      <td>...</td>\n",
       "      <td>...</td>\n",
       "      <td>...</td>\n",
       "      <td>...</td>\n",
       "      <td>...</td>\n",
       "      <td>...</td>\n",
       "      <td>...</td>\n",
       "      <td>...</td>\n",
       "      <td>...</td>\n",
       "      <td>...</td>\n",
       "    </tr>\n",
       "    <tr>\n",
       "      <th>298</th>\n",
       "      <td>57</td>\n",
       "      <td>0</td>\n",
       "      <td>0</td>\n",
       "      <td>140</td>\n",
       "      <td>241</td>\n",
       "      <td>0</td>\n",
       "      <td>1</td>\n",
       "      <td>123</td>\n",
       "      <td>1</td>\n",
       "      <td>0.2</td>\n",
       "      <td>1</td>\n",
       "      <td>0</td>\n",
       "      <td>3</td>\n",
       "    </tr>\n",
       "    <tr>\n",
       "      <th>299</th>\n",
       "      <td>45</td>\n",
       "      <td>1</td>\n",
       "      <td>3</td>\n",
       "      <td>110</td>\n",
       "      <td>264</td>\n",
       "      <td>0</td>\n",
       "      <td>1</td>\n",
       "      <td>132</td>\n",
       "      <td>0</td>\n",
       "      <td>1.2</td>\n",
       "      <td>1</td>\n",
       "      <td>0</td>\n",
       "      <td>3</td>\n",
       "    </tr>\n",
       "    <tr>\n",
       "      <th>300</th>\n",
       "      <td>68</td>\n",
       "      <td>1</td>\n",
       "      <td>0</td>\n",
       "      <td>144</td>\n",
       "      <td>193</td>\n",
       "      <td>1</td>\n",
       "      <td>1</td>\n",
       "      <td>141</td>\n",
       "      <td>0</td>\n",
       "      <td>3.4</td>\n",
       "      <td>1</td>\n",
       "      <td>2</td>\n",
       "      <td>3</td>\n",
       "    </tr>\n",
       "    <tr>\n",
       "      <th>301</th>\n",
       "      <td>57</td>\n",
       "      <td>1</td>\n",
       "      <td>0</td>\n",
       "      <td>130</td>\n",
       "      <td>131</td>\n",
       "      <td>0</td>\n",
       "      <td>1</td>\n",
       "      <td>115</td>\n",
       "      <td>1</td>\n",
       "      <td>1.2</td>\n",
       "      <td>1</td>\n",
       "      <td>1</td>\n",
       "      <td>3</td>\n",
       "    </tr>\n",
       "    <tr>\n",
       "      <th>302</th>\n",
       "      <td>57</td>\n",
       "      <td>0</td>\n",
       "      <td>1</td>\n",
       "      <td>130</td>\n",
       "      <td>236</td>\n",
       "      <td>0</td>\n",
       "      <td>0</td>\n",
       "      <td>174</td>\n",
       "      <td>0</td>\n",
       "      <td>0.0</td>\n",
       "      <td>1</td>\n",
       "      <td>1</td>\n",
       "      <td>2</td>\n",
       "    </tr>\n",
       "  </tbody>\n",
       "</table>\n",
       "<p>303 rows × 13 columns</p>\n",
       "</div>"
      ],
      "text/plain": [
       "     age  sex  cp  trtbps  chol  fbs  restecg  thalachh  exng  oldpeak  slp  \\\n",
       "0     63    1   3     145   233    1        0       150     0      2.3    0   \n",
       "1     37    1   2     130   250    0        1       187     0      3.5    0   \n",
       "2     41    0   1     130   204    0        0       172     0      1.4    2   \n",
       "3     56    1   1     120   236    0        1       178     0      0.8    2   \n",
       "4     57    0   0     120   354    0        1       163     1      0.6    2   \n",
       "..   ...  ...  ..     ...   ...  ...      ...       ...   ...      ...  ...   \n",
       "298   57    0   0     140   241    0        1       123     1      0.2    1   \n",
       "299   45    1   3     110   264    0        1       132     0      1.2    1   \n",
       "300   68    1   0     144   193    1        1       141     0      3.4    1   \n",
       "301   57    1   0     130   131    0        1       115     1      1.2    1   \n",
       "302   57    0   1     130   236    0        0       174     0      0.0    1   \n",
       "\n",
       "     caa  thall  \n",
       "0      0      1  \n",
       "1      0      2  \n",
       "2      0      2  \n",
       "3      0      2  \n",
       "4      0      2  \n",
       "..   ...    ...  \n",
       "298    0      3  \n",
       "299    0      3  \n",
       "300    2      3  \n",
       "301    1      3  \n",
       "302    1      2  \n",
       "\n",
       "[303 rows x 13 columns]"
      ]
     },
     "execution_count": 11,
     "metadata": {},
     "output_type": "execute_result"
    }
   ],
   "source": [
    "data"
   ]
  },
  {
   "cell_type": "code",
   "execution_count": 12,
   "id": "9f60bd18",
   "metadata": {},
   "outputs": [
    {
     "name": "stdout",
     "output_type": "stream",
     "text": [
      "[[63.  1.  3. ...  0.  0.  1.]\n",
      " [37.  1.  2. ...  0.  0.  2.]\n",
      " [41.  0.  1. ...  2.  0.  2.]\n",
      " ...\n",
      " [68.  1.  0. ...  1.  2.  3.]\n",
      " [57.  1.  0. ...  1.  1.  3.]\n",
      " [57.  0.  1. ...  1.  1.  2.]]\n"
     ]
    }
   ],
   "source": [
    "print(np.array(data))"
   ]
  },
  {
   "cell_type": "code",
   "execution_count": null,
   "id": "44c9c8b1",
   "metadata": {},
   "outputs": [],
   "source": []
  },
  {
   "cell_type": "code",
   "execution_count": 13,
   "id": "b6bbd0ca",
   "metadata": {
    "scrolled": true
   },
   "outputs": [
    {
     "name": "stdout",
     "output_type": "stream",
     "text": [
      "|   iter    |  target   |     C     |\n",
      "-------------------------------------\n",
      "| \u001b[0m 1       \u001b[0m | \u001b[0m 0.8219  \u001b[0m | \u001b[0m 38.08   \u001b[0m |\n",
      "| \u001b[0m 2       \u001b[0m | \u001b[0m 0.8119  \u001b[0m | \u001b[0m 95.12   \u001b[0m |\n",
      "| \u001b[0m 3       \u001b[0m | \u001b[0m 0.8151  \u001b[0m | \u001b[0m 73.47   \u001b[0m |\n",
      "| \u001b[0m 4       \u001b[0m | \u001b[0m 0.8086  \u001b[0m | \u001b[0m 60.27   \u001b[0m |\n",
      "| \u001b[0m 5       \u001b[0m | \u001b[0m 0.8085  \u001b[0m | \u001b[0m 16.45   \u001b[0m |\n",
      "| \u001b[0m 6       \u001b[0m | \u001b[0m 0.8085  \u001b[0m | \u001b[0m 16.44   \u001b[0m |\n",
      "| \u001b[0m 7       \u001b[0m | \u001b[0m 0.8184  \u001b[0m | \u001b[0m 6.75    \u001b[0m |\n",
      "| \u001b[0m 8       \u001b[0m | \u001b[0m 0.8086  \u001b[0m | \u001b[0m 86.75   \u001b[0m |\n",
      "| \u001b[0m 9       \u001b[0m | \u001b[0m 0.8152  \u001b[0m | \u001b[0m 60.51   \u001b[0m |\n",
      "| \u001b[0m 10      \u001b[0m | \u001b[0m 0.8119  \u001b[0m | \u001b[0m 71.1    \u001b[0m |\n",
      "| \u001b[0m 11      \u001b[0m | \u001b[0m 0.8153  \u001b[0m | \u001b[0m 38.29   \u001b[0m |\n",
      "| \u001b[0m 12      \u001b[0m | \u001b[0m 0.8119  \u001b[0m | \u001b[0m 37.92   \u001b[0m |\n",
      "| \u001b[95m 13      \u001b[0m | \u001b[95m 0.8251  \u001b[0m | \u001b[95m 38.16   \u001b[0m |\n",
      "| \u001b[0m 14      \u001b[0m | \u001b[0m 0.8184  \u001b[0m | \u001b[0m 6.917   \u001b[0m |\n",
      "| \u001b[0m 15      \u001b[0m | \u001b[0m 0.8216  \u001b[0m | \u001b[0m 6.555   \u001b[0m |\n",
      "| \u001b[0m 16      \u001b[0m | \u001b[0m 0.8117  \u001b[0m | \u001b[0m 6.407   \u001b[0m |\n",
      "| \u001b[0m 17      \u001b[0m | \u001b[0m 0.8184  \u001b[0m | \u001b[0m 6.637   \u001b[0m |\n",
      "| \u001b[0m 18      \u001b[0m | \u001b[0m 0.8184  \u001b[0m | \u001b[0m 7.085   \u001b[0m |\n",
      "| \u001b[0m 19      \u001b[0m | \u001b[0m 0.8184  \u001b[0m | \u001b[0m 7.261   \u001b[0m |\n",
      "| \u001b[0m 20      \u001b[0m | \u001b[0m 0.8184  \u001b[0m | \u001b[0m 7.433   \u001b[0m |\n",
      "=====================================\n",
      "Best result: {'C': 38.15547636082072}; f(x) = 0.825136612021858.\n"
     ]
    }
   ],
   "source": [
    "from sklearn.svm import SVC\n",
    "from sklearn.datasets import load_breast_cancer\n",
    "from sklearn.preprocessing import MinMaxScaler\n",
    "from sklearn.model_selection import train_test_split\n",
    "from sklearn.metrics import roc_auc_score\n",
    "from bayes_opt import BayesianOptimization, UtilityFunction\n",
    "import warnings\n",
    "warnings.filterwarnings(\"ignore\")\n",
    "\n",
    "\n",
    "scaler = MinMaxScaler()\n",
    "X_train_scaled = scaler.fit_transform(np.array(X_train))\n",
    "X_test_scaled = scaler.transform(np.array(X_test))\n",
    "# Define the black box function to optimize.\n",
    "\n",
    "def black_box_function(C):\n",
    "    k=10\n",
    "    model = svm.SVC(kernel=\"linear\", C=C, random_state=42)\n",
    "    model.fit(X_train, y_train)\n",
    "    scores = cross_val_score(model, data, output, cv=k)\n",
    "    f = scores.mean()\n",
    "    return f\n",
    "def black_box_function_onlyscore(C):\n",
    "    # C: SVC hyper parameter to optimize for.\n",
    "    #model = SVC(C = C, kernel=\"linear\" )\n",
    "    \n",
    "    model = svm.SVC(kernel=\"linear\", C=C, random_state=42)\n",
    "    model.fit(X_train, y_train)\n",
    "    \n",
    "    #from sklearn.metrics import accuracy_score \n",
    "    #fulldata[\"predicted\"] = model.predict(data) \n",
    "    #f = accuracy_score(y_true = fulldata[\"output\"], y_pred = fulldata[\"predicted\"])\n",
    "    #model.fit(X_train_scaled, y_train)\n",
    "    #model.fit(X_train, y_train)\n",
    "    #y_score = model.decision_function(X_test_scaled)\n",
    "    #y_score = model.decision_function(X_test)\n",
    "    #f = roc_auc_score(y_test, y_score)\n",
    "    #y_score = model.decision_function(X_test)\n",
    "    f = model.score(X_test, y_test)\n",
    "    return f\n",
    "\n",
    "def black_box_functionorigi(C):\n",
    "    # C: SVC hyper parameter to optimize for.\n",
    "    model = SVC(C = C, kernel=\"linear\", random_state=42 )\n",
    "    \n",
    "    #model.fit(X_train_scaled, y_train)\n",
    "    model.fit(X_train, y_train)\n",
    "    #y_score = model.decision_function(X_test_scaled)\n",
    "    y_score = model.decision_function(X_test)\n",
    "    f = roc_auc_score(y_test, y_score)\n",
    "    #y_score = model.decision_function(X_test)\n",
    "    #f = model.score(X_train, y_train)\n",
    "    return f\n",
    "# Set range of C to optimize for.\n",
    "# bayes_opt requires this to be a dictionary.\n",
    "pbounds = {\"C\": [1, 100]}\n",
    "# Create a BayesianOptimization optimizer,\n",
    "# and optimize the given black_box_function.\n",
    "optimizer_acc = BayesianOptimization(f = black_box_function,\n",
    "                                 pbounds = pbounds, verbose = 2,\n",
    "                                 random_state = 42)\n",
    "optimizer_acc.maximize(init_points = 10, n_iter = 10)\n",
    "print(\"Best result: {}; f(x) = {}.\".format(optimizer_acc.max[\"params\"], optimizer_acc.max[\"target\"]))"
   ]
  },
  {
   "cell_type": "code",
   "execution_count": 14,
   "id": "0a9a4e12",
   "metadata": {},
   "outputs": [
    {
     "data": {
      "text/plain": [
       "38.15547636082072"
      ]
     },
     "execution_count": 14,
     "metadata": {},
     "output_type": "execute_result"
    }
   ],
   "source": [
    "optimizer_acc.max[\"params\"].get(\"C\")"
   ]
  },
  {
   "cell_type": "code",
   "execution_count": 15,
   "id": "5780cbc3",
   "metadata": {},
   "outputs": [
    {
     "data": {
      "text/plain": [
       "0.8350537634408604"
      ]
     },
     "execution_count": 15,
     "metadata": {},
     "output_type": "execute_result"
    }
   ],
   "source": [
    "k=10\n",
    "model = svm.SVC(kernel=\"linear\", C=73.17, random_state=42)\n",
    "model.fit(X_train, y_train)\n",
    "scores = cross_val_score(model, data, output, cv=k)\n",
    "scores.mean()"
   ]
  },
  {
   "cell_type": "code",
   "execution_count": 16,
   "id": "d527f9e5",
   "metadata": {},
   "outputs": [
    {
     "data": {
      "text/plain": [
       "array([0.87096774, 0.74193548, 0.87096774, 0.9       , 0.83333333,\n",
       "       0.86666667, 0.86666667, 0.9       , 0.73333333, 0.76666667])"
      ]
     },
     "execution_count": 16,
     "metadata": {},
     "output_type": "execute_result"
    }
   ],
   "source": [
    "scores\n"
   ]
  },
  {
   "cell_type": "markdown",
   "id": "9944b19a",
   "metadata": {},
   "source": [
    "## False Negatives verringern\n",
    "### Überblick verschaffen\n",
    "Für unseren Anwendungsfall sind False Negatives besonders fatal, weshalb sie möglichst gering sein soll.\n",
    "\n",
    "Als False Negatives werden Ergebnisse bezeichnet, die als fälschlicherweise als negativ bewertet wurden, ob wohl der Test in Wahrheit positiv ist.\n",
    "\n",
    "Zunächst werden die Ausgangs-Werte bestimmt.\n",
    "Anschließend wird die Gewichtung verändert.\n",
    "Dadurch werden die Ergebnisse \"pessimistischer\", also es wird eher ein mögliches Risiko ausgegeben.\n",
    "\n",
    "Die für eine bessere Genauigkeit sind mehr Daten notwendig. "
   ]
  },
  {
   "cell_type": "code",
   "execution_count": 17,
   "id": "6ff51b1c",
   "metadata": {},
   "outputs": [
    {
     "data": {
      "text/plain": [
       "SVC(C=38.15547636082072, kernel='linear', random_state=42)"
      ]
     },
     "execution_count": 17,
     "metadata": {},
     "output_type": "execute_result"
    }
   ],
   "source": [
    "\n",
    "clf = svm.SVC(kernel=\"linear\", C=optimizer_acc.max[\"params\"].get(\"C\"), random_state=42)\n",
    "clf.fit(X_train, y_train)"
   ]
  },
  {
   "cell_type": "code",
   "execution_count": 18,
   "id": "47b1c875",
   "metadata": {},
   "outputs": [],
   "source": [
    "from sklearn.metrics import confusion_matrix\n",
    "\n",
    "def plot_confusion_matrix(data, suptitle):\n",
    "    fig, ax = plt.subplots(1, 2, figsize=(9, 3))\n",
    "    fig.suptitle(suptitle)\n",
    "    \n",
    "    _ = sns.heatmap(data, cmap ='binary', annot = True, fmt=\"d\", ax=ax[0]) \\\n",
    "        .set(xlabel = \"True label\", ylabel = \"Predicted label\")\n",
    "    \n",
    "    _ = sns.heatmap(data / data.sum(), cmap ='binary', annot = True, fmt=\".2%\", ax=ax[1]) \\\n",
    "        .set(xlabel = \"True label\", ylabel = \"Predicted label\")\n",
    "    \n",
    "    # Zusammenaddiert für convenience\n",
    "    float_formatter = \"{:.2%}\".format\n",
    "    print(\"Richtig klassifiziert:\", float_formatter((data[0][0] + data[1][1]) / data.sum()))\n",
    "    print(\"Falsch klassifiziert:\", float_formatter((data[1][0] + data[0][1]) / data.sum()))\n",
    "    \n",
    "    plt.show()"
   ]
  },
  {
   "cell_type": "code",
   "execution_count": 19,
   "id": "dd54f03b",
   "metadata": {},
   "outputs": [
    {
     "name": "stdout",
     "output_type": "stream",
     "text": [
      "SVC(C=38.15547636082072, kernel='linear', random_state=42)\n",
      "Richtig klassifiziert: 84.58%\n",
      "Falsch klassifiziert: 15.42%\n"
     ]
    },
    {
     "data": {
      "image/png": "[encoded data removed]",
      "text/plain": [
       "<Figure size 648x216 with 4 Axes>"
      ]
     },
     "metadata": {
      "needs_background": "light"
     },
     "output_type": "display_data"
    },
    {
     "name": "stdout",
     "output_type": "stream",
     "text": [
      "Richtig klassifiziert: 85.53%\n",
      "Falsch klassifiziert: 14.47%\n"
     ]
    },
    {
     "data": {
      "image/png": "[encoded data removed]",
      "text/plain": [
       "<Figure size 648x216 with 4 Axes>"
      ]
     },
     "metadata": {
      "needs_background": "light"
     },
     "output_type": "display_data"
    }
   ],
   "source": [
    "print(clf)\n",
    "plot_confusion_matrix(confusion_matrix(y_train, clf.predict(X_train)), \"Confusion Matrix mit Trainingsdaten\")\n",
    "plot_confusion_matrix(confusion_matrix(y_test, clf.predict(X_test)), \"Confusion Matrix mit Testdaten\")"
   ]
  },
  {
   "cell_type": "code",
   "execution_count": 20,
   "id": "cebee6c3",
   "metadata": {
    "scrolled": false
   },
   "outputs": [
    {
     "name": "stdout",
     "output_type": "stream",
     "text": [
      "|   iter    |  target   | zeroWe... |\n",
      "-------------------------------------\n",
      "| \u001b[0m 1       \u001b[0m | \u001b[0m 0.9009  \u001b[0m | \u001b[0m 2.498   \u001b[0m |\n",
      "| \u001b[0m 2       \u001b[0m | \u001b[0m 0.8833  \u001b[0m | \u001b[0m 4.803   \u001b[0m |\n",
      "| \u001b[0m 3       \u001b[0m | \u001b[0m 0.8811  \u001b[0m | \u001b[0m 3.928   \u001b[0m |\n",
      "| \u001b[0m 4       \u001b[0m | \u001b[0m 0.8855  \u001b[0m | \u001b[0m 3.395   \u001b[0m |\n",
      "| \u001b[0m 5       \u001b[0m | \u001b[0m 0.8921  \u001b[0m | \u001b[0m 1.624   \u001b[0m |\n",
      "| \u001b[0m 6       \u001b[0m | \u001b[0m 0.8855  \u001b[0m | \u001b[0m 1.624   \u001b[0m |\n",
      "| \u001b[0m 7       \u001b[0m | \u001b[0m 0.87    \u001b[0m | \u001b[0m 1.232   \u001b[0m |\n",
      "| \u001b[0m 8       \u001b[0m | \u001b[0m 0.8833  \u001b[0m | \u001b[0m 4.465   \u001b[0m |\n",
      "| \u001b[0m 9       \u001b[0m | \u001b[0m 0.8899  \u001b[0m | \u001b[0m 3.404   \u001b[0m |\n",
      "| \u001b[0m 10      \u001b[0m | \u001b[0m 0.8811  \u001b[0m | \u001b[0m 3.832   \u001b[0m |\n",
      "| \u001b[0m 11      \u001b[0m | \u001b[0m 0.8899  \u001b[0m | \u001b[0m 2.498   \u001b[0m |\n",
      "| \u001b[0m 12      \u001b[0m | \u001b[0m 0.8965  \u001b[0m | \u001b[0m 2.498   \u001b[0m |\n",
      "| \u001b[0m 13      \u001b[0m | \u001b[0m 0.8899  \u001b[0m | \u001b[0m 3.405   \u001b[0m |\n",
      "| \u001b[0m 14      \u001b[0m | \u001b[0m 0.8965  \u001b[0m | \u001b[0m 2.498   \u001b[0m |\n",
      "| \u001b[0m 15      \u001b[0m | \u001b[0m 0.8899  \u001b[0m | \u001b[0m 3.404   \u001b[0m |\n",
      "| \u001b[0m 16      \u001b[0m | \u001b[0m 0.8965  \u001b[0m | \u001b[0m 2.498   \u001b[0m |\n",
      "| \u001b[0m 17      \u001b[0m | \u001b[0m 0.8921  \u001b[0m | \u001b[0m 1.624   \u001b[0m |\n",
      "| \u001b[0m 18      \u001b[0m | \u001b[0m 0.8921  \u001b[0m | \u001b[0m 1.624   \u001b[0m |\n",
      "| \u001b[0m 19      \u001b[0m | \u001b[0m 0.8899  \u001b[0m | \u001b[0m 2.498   \u001b[0m |\n",
      "| \u001b[0m 20      \u001b[0m | \u001b[0m 0.8921  \u001b[0m | \u001b[0m 1.624   \u001b[0m |\n",
      "=====================================\n",
      "Best result: {'zeroWeight': 2.49816047538945}; f(x) = 0.9008810572687225.\n"
     ]
    }
   ],
   "source": [
    "from sklearn.svm import SVC\n",
    "from sklearn.preprocessing import MinMaxScaler\n",
    "from sklearn.model_selection import train_test_split\n",
    "from sklearn.metrics import roc_auc_score, confusion_matrix\n",
    "from bayes_opt import BayesianOptimization, UtilityFunction\n",
    "import warnings\n",
    "warnings.filterwarnings(\"ignore\")\n",
    "\n",
    "scaler = MinMaxScaler()\n",
    "X_train_scaled = scaler.fit_transform(np.array(X_train))\n",
    "X_test_scaled = scaler.transform(np.array(X_test))\n",
    "# Define the black box function to optimize.\n",
    "\n",
    "def black_box_function(zeroWeight):\n",
    "    \"\"\"\n",
    "\n",
    "    Parameters\n",
    "    ----------\n",
    "    zeroWeight: hyper parameter to optimize for\n",
    "    \"\"\"\n",
    "    \n",
    "    # KI trainieren\n",
    "    model = svm.SVC(kernel=\"linear\", C=optimizer_acc.max[\"params\"].get(\"C\"), class_weight={0: zeroWeight, 1: 1})\n",
    "    model.fit(X_train, y_train)\n",
    "    matrix = confusion_matrix(y_train, model.predict(X_train))\n",
    "    \n",
    "    true_negative = matrix[0][0]\n",
    "    true_positive = matrix[1][1]\n",
    "    false_negative = matrix[0][1]\n",
    "    false_negative_relative = false_negative / matrix.sum()\n",
    "    accuracy = (true_positive + true_negative) / matrix.sum()\n",
    "    \n",
    "    # accuracy wird mit berücksichtigt, um zu verhindern, dass alle Herzpatienten sind\n",
    "    gewichtung = .5 # getestet, liefert gute Ergebnisse\n",
    "    f = gewichtung * accuracy + (1 - gewichtung) * (1 - false_negative_relative) # Gegenwert zur 1, weil maximiert wird\n",
    "    return f\n",
    "\n",
    "# Set range of C to optimize for.\n",
    "# bayes_opt requires this to be a dictionary.\n",
    "pbounds = {\"zeroWeight\": [1, 5]}\n",
    "# Create a BayesianOptimization optimizer,\n",
    "# and optimize the given black_box_function.\n",
    "optimizer_weight = BayesianOptimization(f = black_box_function,\n",
    "                                 pbounds = pbounds, verbose = 2\n",
    "                                 )\n",
    "optimizer_weight.maximize(init_points = 10, n_iter = 10)\n",
    "print(\"Best result: {}; f(x) = {}.\".format(optimizer_weight.max[\"params\"], optimizer_weight.max[\"target\"]))"
   ]
  },
  {
   "cell_type": "code",
   "execution_count": 21,
   "id": "a3e0f3ee",
   "metadata": {
    "scrolled": true
   },
   "outputs": [
    {
     "data": {
      "text/plain": [
       "SVC(C=38.15547636082072, class_weight={0: 2.49816047538945, 1: 1},\n",
       "    kernel='linear')"
      ]
     },
     "execution_count": 21,
     "metadata": {},
     "output_type": "execute_result"
    }
   ],
   "source": [
    "clf = svm.SVC(C = optimizer_acc.max[\"params\"].get(\"C\"), kernel = \"linear\", class_weight={0: optimizer_weight.max[\"params\"].get(\"zeroWeight\"), 1: 1})\n",
    "clf.fit(data, output)"
   ]
  },
  {
   "cell_type": "code",
   "execution_count": 22,
   "id": "fbdff275",
   "metadata": {
    "scrolled": false
   },
   "outputs": [
    {
     "name": "stdout",
     "output_type": "stream",
     "text": [
      "Richtig klassifiziert: 82.82%\n",
      "Falsch klassifiziert: 17.18%\n"
     ]
    },
    {
     "data": {
      "image/png": "[encoded data removed]",
      "text/plain": [
       "<Figure size 648x216 with 4 Axes>"
      ]
     },
     "metadata": {
      "needs_background": "light"
     },
     "output_type": "display_data"
    },
    {
     "name": "stdout",
     "output_type": "stream",
     "text": [
      "Richtig klassifiziert: 86.84%\n",
      "Falsch klassifiziert: 13.16%\n"
     ]
    },
    {
     "data": {
      "image/png": "[encoded data removed]",
      "text/plain": [
       "<Figure size 648x216 with 4 Axes>"
      ]
     },
     "metadata": {
      "needs_background": "light"
     },
     "output_type": "display_data"
    }
   ],
   "source": [
    "plot_confusion_matrix(confusion_matrix(y_train, clf.predict(X_train)), \"Confusion Matrix mit Trainingsdaten\")\n",
    "plot_confusion_matrix(confusion_matrix(y_test, clf.predict(X_test)), \"Confusion Matrix mit Testdaten\")"
   ]
  },
  {
   "cell_type": "code",
   "execution_count": 23,
   "id": "099fe718",
   "metadata": {
    "scrolled": false
   },
   "outputs": [
    {
     "data": {
      "text/plain": [
       "0.8083870967741935"
      ]
     },
     "execution_count": 23,
     "metadata": {},
     "output_type": "execute_result"
    }
   ],
   "source": [
    "k=10\n",
    "model = svm.SVC(C = optimizer_acc.max[\"params\"].get(\"C\"), kernel = \"linear\", class_weight={0: optimizer_weight.max[\"params\"].get(\"zeroWeight\"), 1: 1})\n",
    "model.fit(X_train, y_train)\n",
    "scores = cross_val_score(model, data, output, cv=k)\n",
    "scores.mean()"
   ]
  }
 ],
 "metadata": {
  "kernelspec": {
   "display_name": "Python 3",
   "language": "python",
   "name": "python3"
  },
  "language_info": {
   "codemirror_mode": {
    "name": "ipython",
    "version": 3
   },
   "file_extension": ".py",
   "mimetype": "text/x-python",
   "name": "python",
   "nbconvert_exporter": "python",
   "pygments_lexer": "ipython3",
   "version": "3.8.8"
  }
 },
 "nbformat": 4,
 "nbformat_minor": 5
}
